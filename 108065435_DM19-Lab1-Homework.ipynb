{
 "cells": [
  {
   "cell_type": "markdown",
   "metadata": {},
   "source": [
    "### Student Information\n",
    "Name: Toni Dominique P. Garcia (珈希亞)\n",
    "\n",
    "Student ID: 108065435\n",
    "\n",
    "GitHub ID: tonistark23"
   ]
  },
  {
   "cell_type": "markdown",
   "metadata": {},
   "source": [
    "---"
   ]
  },
  {
   "cell_type": "markdown",
   "metadata": {},
   "source": [
    "### Instructions"
   ]
  },
  {
   "cell_type": "markdown",
   "metadata": {},
   "source": [
    "1. First: do the **take home** exercises in the [DM19-Lab1-Master Repo](https://github.com/EvaArevalo/DM19-Lab1-Master). You may need to copy some cells from the Lab notebook to this notebook. __This part is worth 20% of your grade.__\n",
    "\n",
    "\n",
    "2. Second: follow the same process from the [DM19-Lab1-Master Repo](https://github.com/EvaArevalo/DM19-Lab1-Master) on **the new dataset**. You don't need to explain all details as we did (some **minimal comments** explaining your code are useful though).  __This part is worth 30% of your grade.__\n",
    "    - Download the [the new dataset](https://archive.ics.uci.edu/ml/datasets/Sentiment+Labelled+Sentences#). The dataset contains a `sentence` and `score` label. Read the specificiations of the dataset for details. \n",
    "    - You are allowed to use and modify the `helper` functions in the folder of the first lab session (notice they may need modification) or create your own.\n",
    "\n",
    "\n",
    "3. Third: please attempt the following tasks on **the new dataset**. __This part is worth 30% of your grade.__\n",
    "    - Generate meaningful **new data visualizations**. Refer to online resources and the Data Mining textbook for inspiration and ideas. \n",
    "    - Generate **TF-IDF features** from the tokens of each text. This will generating a document matrix, however, the weights will be computed differently (using the TF-IDF value of each word per document as opposed to the word frequency). Refer to this Sciki-learn [guide](http://scikit-learn.org/stable/modules/generated/sklearn.feature_extraction.text.TfidfVectorizer.html) .\n",
    "    - Implement a simple **Naive Bayes classifier** that automatically classifies the records into their categories. Use both the TF-IDF features and word frequency features to build two seperate classifiers. Comment on the differences.  Refer to this [article](https://hub.packtpub.com/implementing-3-naive-bayes-classifiers-in-scikit-learn/).\n",
    "\n",
    "\n",
    "4. Fourth: In the lab, we applied each step really quickly just to illustrate how to work with your dataset. There are somethings that are not ideal or the most efficient/meaningful. Each dataset can be habdled differently as well. What are those inefficent parts you noticed? How can you improve the Data preprocessing for these specific datasets? __This part is worth 10% of your grade.__\n",
    "\n",
    "\n",
    "5. Fifth: It's hard for us to follow if your code is messy :'(, so please **tidy up your notebook** and **add minimal comments where needed**. __This part is worth 10% of your grade.__\n",
    "\n",
    "\n",
    "You can submit your homework following these guidelines: [Git Intro & How to hand your homework](https://github.com/EvaArevalo/DM19-Lab1-Master/blob/master/Git%20Intro%20%26%20How%20to%20hand%20your%20homework.ipynb). Make sure to commit and save your changes to your repository __BEFORE the deadline (Oct. 29th 11:59 pm, Tuesday)__. "
   ]
  },
  {
   "cell_type": "code",
   "execution_count": 1,
   "metadata": {},
   "outputs": [],
   "source": [
    "### Begin Assignment Here"
   ]
  },
  {
   "cell_type": "markdown",
   "metadata": {},
   "source": [
    "### Data Preparation"
   ]
  },
  {
   "cell_type": "code",
   "execution_count": 2,
   "metadata": {},
   "outputs": [],
   "source": [
    "# necessary for when working with external scripts\n",
    "%load_ext autoreload\n",
    "%autoreload 2\n",
    "\n",
    "# suppress future warnings\n",
    "import sys\n",
    "if not sys.warnoptions:\n",
    "    import warnings\n",
    "    warnings.simplefilter(\"ignore\", category=FutureWarning)"
   ]
  },
  {
   "cell_type": "code",
   "execution_count": 3,
   "metadata": {},
   "outputs": [],
   "source": [
    "# categories\n",
    "categories = ['alt.atheism', 'soc.religion.christian', 'comp.graphics', 'sci.med']\n",
    "\n",
    "# obtain the documents containing the categories provided\n",
    "from sklearn.datasets import fetch_20newsgroups\n",
    "\n",
    "twenty_train = fetch_20newsgroups(subset='train', categories=categories, \\\n",
    "                                  shuffle=True, random_state=42)\n",
    "\n",
    "import pandas as pd\n",
    "\n",
    "# my functions\n",
    "import helpers.data_mining_helpers as dmh\n",
    "\n",
    "# construct dataframe from a list\n",
    "X = pd.DataFrame.from_records(dmh.format_rows(twenty_train), columns= ['text'])\n",
    "\n",
    "# add category to the dataframe\n",
    "X['category'] = twenty_train.target\n",
    "\n",
    "# add category label also\n",
    "X['category_name'] = X.category.apply(lambda t: dmh.format_labels(t, twenty_train))"
   ]
  },
  {
   "cell_type": "markdown",
   "metadata": {},
   "source": [
    "<div style='background: #7fffd4'> <h1> >>> Exercise 2 (take home): </h1>\n",
    "Experiment with other querying techniques using pandas dataframes. Refer to their [documentation](https://pandas.pydata.org/pandas-docs/stable/indexing.html) for more information. </div>"
   ]
  },
  {
   "cell_type": "code",
   "execution_count": 4,
   "metadata": {},
   "outputs": [
    {
     "data": {
      "text/plain": [
       "0       From: sd345@city.ac.uk (Michael Collier) Subje...\n",
       "20      From: dotsonm@dmapub.dma.org (Mark Dotson) Sub...\n",
       "40      From: david-s@hsr.no (David A. Sjoen) Subject:...\n",
       "60      From: Nanci Ann Miller <nm0w+@andrew.cmu.edu> ...\n",
       "80      From: annick@cortex.physiol.su.oz.au (Annick A...\n",
       "                              ...                        \n",
       "2160    From: joshuaf@yang.earlham.edu Subject: TIFF -...\n",
       "2180    From: \"Robert Knowles\" <p00261@psilink.com> Su...\n",
       "2200    From: thomas@ramsey.cs.laurentian.ca (F. Thoma...\n",
       "2220    From: idr@rigel.cs.pdx.edu (Ian D Romanick) Su...\n",
       "2240    From: balick@nynexst.com (Daphne Balick) Subje...\n",
       "Name: text, Length: 113, dtype: object"
      ]
     },
     "execution_count": 4,
     "metadata": {},
     "output_type": "execute_result"
    }
   ],
   "source": [
    "# simple query: select every 20th record in column text\n",
    "X['text'][::20]"
   ]
  },
  {
   "cell_type": "code",
   "execution_count": 5,
   "metadata": {},
   "outputs": [
    {
     "data": {
      "text/html": [
       "<div>\n",
       "<style scoped>\n",
       "    .dataframe tbody tr th:only-of-type {\n",
       "        vertical-align: middle;\n",
       "    }\n",
       "\n",
       "    .dataframe tbody tr th {\n",
       "        vertical-align: top;\n",
       "    }\n",
       "\n",
       "    .dataframe thead th {\n",
       "        text-align: right;\n",
       "    }\n",
       "</style>\n",
       "<table border=\"1\" class=\"dataframe\">\n",
       "  <thead>\n",
       "    <tr style=\"text-align: right;\">\n",
       "      <th></th>\n",
       "      <th>text</th>\n",
       "      <th>category</th>\n",
       "      <th>category_name</th>\n",
       "    </tr>\n",
       "  </thead>\n",
       "  <tbody>\n",
       "    <tr>\n",
       "      <td>2</td>\n",
       "      <td>From: djohnson@cs.ucsd.edu (Darin Johnson) Sub...</td>\n",
       "      <td>3</td>\n",
       "      <td>soc.religion.christian</td>\n",
       "    </tr>\n",
       "    <tr>\n",
       "      <td>3</td>\n",
       "      <td>From: s0612596@let.rug.nl (M.M. Zwart) Subject...</td>\n",
       "      <td>3</td>\n",
       "      <td>soc.religion.christian</td>\n",
       "    </tr>\n",
       "    <tr>\n",
       "      <td>4</td>\n",
       "      <td>From: stanly@grok11.columbiasc.ncr.com (stanly...</td>\n",
       "      <td>3</td>\n",
       "      <td>soc.religion.christian</td>\n",
       "    </tr>\n",
       "    <tr>\n",
       "      <td>5</td>\n",
       "      <td>From: vbv@lor.eeap.cwru.edu (Virgilio (Dean) B...</td>\n",
       "      <td>3</td>\n",
       "      <td>soc.religion.christian</td>\n",
       "    </tr>\n",
       "    <tr>\n",
       "      <td>6</td>\n",
       "      <td>From: jodfishe@silver.ucs.indiana.edu (joseph ...</td>\n",
       "      <td>3</td>\n",
       "      <td>soc.religion.christian</td>\n",
       "    </tr>\n",
       "    <tr>\n",
       "      <td>...</td>\n",
       "      <td>...</td>\n",
       "      <td>...</td>\n",
       "      <td>...</td>\n",
       "    </tr>\n",
       "    <tr>\n",
       "      <td>2252</td>\n",
       "      <td>From: roos@Operoni.Helsinki.FI (Christophe Roo...</td>\n",
       "      <td>2</td>\n",
       "      <td>sci.med</td>\n",
       "    </tr>\n",
       "    <tr>\n",
       "      <td>2253</td>\n",
       "      <td>From: mhollowa@ic.sunysb.edu (Michael Holloway...</td>\n",
       "      <td>2</td>\n",
       "      <td>sci.med</td>\n",
       "    </tr>\n",
       "    <tr>\n",
       "      <td>2254</td>\n",
       "      <td>From: sasghm@theseus.unx.sas.com (Gary Merrill...</td>\n",
       "      <td>2</td>\n",
       "      <td>sci.med</td>\n",
       "    </tr>\n",
       "    <tr>\n",
       "      <td>2255</td>\n",
       "      <td>From: Dan Wallach &lt;dwallach@cs.berkeley.edu&gt; S...</td>\n",
       "      <td>2</td>\n",
       "      <td>sci.med</td>\n",
       "    </tr>\n",
       "    <tr>\n",
       "      <td>2256</td>\n",
       "      <td>From: dyer@spdcc.com (Steve Dyer) Subject: Re:...</td>\n",
       "      <td>2</td>\n",
       "      <td>sci.med</td>\n",
       "    </tr>\n",
       "  </tbody>\n",
       "</table>\n",
       "<p>1193 rows × 3 columns</p>\n",
       "</div>"
      ],
      "text/plain": [
       "                                                   text  category  \\\n",
       "2     From: djohnson@cs.ucsd.edu (Darin Johnson) Sub...         3   \n",
       "3     From: s0612596@let.rug.nl (M.M. Zwart) Subject...         3   \n",
       "4     From: stanly@grok11.columbiasc.ncr.com (stanly...         3   \n",
       "5     From: vbv@lor.eeap.cwru.edu (Virgilio (Dean) B...         3   \n",
       "6     From: jodfishe@silver.ucs.indiana.edu (joseph ...         3   \n",
       "...                                                 ...       ...   \n",
       "2252  From: roos@Operoni.Helsinki.FI (Christophe Roo...         2   \n",
       "2253  From: mhollowa@ic.sunysb.edu (Michael Holloway...         2   \n",
       "2254  From: sasghm@theseus.unx.sas.com (Gary Merrill...         2   \n",
       "2255  From: Dan Wallach <dwallach@cs.berkeley.edu> S...         2   \n",
       "2256  From: dyer@spdcc.com (Steve Dyer) Subject: Re:...         2   \n",
       "\n",
       "               category_name  \n",
       "2     soc.religion.christian  \n",
       "3     soc.religion.christian  \n",
       "4     soc.religion.christian  \n",
       "5     soc.religion.christian  \n",
       "6     soc.religion.christian  \n",
       "...                      ...  \n",
       "2252                 sci.med  \n",
       "2253                 sci.med  \n",
       "2254                 sci.med  \n",
       "2255                 sci.med  \n",
       "2256                 sci.med  \n",
       "\n",
       "[1193 rows x 3 columns]"
      ]
     },
     "execution_count": 5,
     "metadata": {},
     "output_type": "execute_result"
    }
   ],
   "source": [
    "# selection by callable: using callable indexes to select all categories that are > 1 (or not comp.graphics)\n",
    "X.loc[lambda df: df.category>1]"
   ]
  },
  {
   "cell_type": "code",
   "execution_count": 6,
   "metadata": {},
   "outputs": [
    {
     "data": {
      "text/plain": [
       "'From: ingles@engin.umich.edu (Ray Ingles) Subject: Re: Concerning God\\'s Morality (long) Organization: University of Michigan Engineering, Ann Arbor Lines: 32 Distribution: world NNTP-Posting-Host: syndicoot.engin.umich.edu  In article <1993Apr5.084042.822@batman.bmd.trw.com> jbrown@batman.bmd.trw.com writes: >In article <1993Apr3.095220.24632@leland.Stanford.EDU>, galahad@leland.Stanford.EDU (Scott Compton) writes: [deletions] >> Now, back to your post.  You have done a fine job at using  >> your seventh grade \\'life science\\' course to explain why >> bad diseases are caused by Satan and good things are a  >> result of God.  But I want to let you in on a little secret. >> \"We can create an amino acid sequence in lab! -- And guess >> what, the sequence curls into a helix!  Wow!  That\\'s right, >> it can happen without a supernatural force.\"  > >Wow!  All it takes is a few advanced science degrees and millions >of dollars of state of the art equipment.  And I thought it took >*intelligence* to create the building blocks of life.  Foolish me!   People with advanced science degrees use state of the art equipment and spend millions of dollars to simulate tornadoes. But tornadoes do not require intelligence to exist.  Not only that, the equipment needed is not really \\'state of the art.\\' To study the *products*, yes, but not to generate them.  >If you want to be sure that I read your post and to provide a >response, send a copy to Jim_Brown@oz.bmd.trw.com.  I can\\'t read >a.a. every day, and some posts slip by.  Thanks.    Oh, I will. :->  Sincerely,  Ray Ingles                  || The above opinions are probably                             || not those of the University of ingles@engin.umich.edu      || Michigan. Yet. '"
      ]
     },
     "execution_count": 6,
     "metadata": {},
     "output_type": "execute_result"
    }
   ],
   "source": [
    "# use at to get column text, row 2250\n",
    "X.at[2250, 'text']"
   ]
  },
  {
   "cell_type": "code",
   "execution_count": 7,
   "metadata": {},
   "outputs": [
    {
     "data": {
      "text/plain": [
       "'soc.religion.christian'"
      ]
     },
     "execution_count": 7,
     "metadata": {},
     "output_type": "execute_result"
    }
   ],
   "source": [
    "# use iat to get column 4, row 0\n",
    "X.iat[10,2]"
   ]
  },
  {
   "cell_type": "code",
   "execution_count": 8,
   "metadata": {},
   "outputs": [
    {
     "data": {
      "text/html": [
       "<div>\n",
       "<style scoped>\n",
       "    .dataframe tbody tr th:only-of-type {\n",
       "        vertical-align: middle;\n",
       "    }\n",
       "\n",
       "    .dataframe tbody tr th {\n",
       "        vertical-align: top;\n",
       "    }\n",
       "\n",
       "    .dataframe thead th {\n",
       "        text-align: right;\n",
       "    }\n",
       "</style>\n",
       "<table border=\"1\" class=\"dataframe\">\n",
       "  <thead>\n",
       "    <tr style=\"text-align: right;\">\n",
       "      <th></th>\n",
       "      <th>text</th>\n",
       "      <th>category</th>\n",
       "      <th>category_name</th>\n",
       "    </tr>\n",
       "  </thead>\n",
       "  <tbody>\n",
       "    <tr>\n",
       "      <td>0</td>\n",
       "      <td>From: sd345@city.ac.uk (Michael Collier) Subje...</td>\n",
       "      <td>1</td>\n",
       "      <td>comp.graphics</td>\n",
       "    </tr>\n",
       "    <tr>\n",
       "      <td>1</td>\n",
       "      <td>From: ani@ms.uky.edu (Aniruddha B. Deglurkar) ...</td>\n",
       "      <td>1</td>\n",
       "      <td>comp.graphics</td>\n",
       "    </tr>\n",
       "    <tr>\n",
       "      <td>7</td>\n",
       "      <td>From: aldridge@netcom.com (Jacquelin Aldridge)...</td>\n",
       "      <td>2</td>\n",
       "      <td>sci.med</td>\n",
       "    </tr>\n",
       "    <tr>\n",
       "      <td>8</td>\n",
       "      <td>From: geb@cs.pitt.edu (Gordon Banks) Subject: ...</td>\n",
       "      <td>2</td>\n",
       "      <td>sci.med</td>\n",
       "    </tr>\n",
       "    <tr>\n",
       "      <td>9</td>\n",
       "      <td>From: libman@hsc.usc.edu (Marlena Libman) Subj...</td>\n",
       "      <td>2</td>\n",
       "      <td>sci.med</td>\n",
       "    </tr>\n",
       "    <tr>\n",
       "      <td>...</td>\n",
       "      <td>...</td>\n",
       "      <td>...</td>\n",
       "      <td>...</td>\n",
       "    </tr>\n",
       "    <tr>\n",
       "      <td>2252</td>\n",
       "      <td>From: roos@Operoni.Helsinki.FI (Christophe Roo...</td>\n",
       "      <td>2</td>\n",
       "      <td>sci.med</td>\n",
       "    </tr>\n",
       "    <tr>\n",
       "      <td>2253</td>\n",
       "      <td>From: mhollowa@ic.sunysb.edu (Michael Holloway...</td>\n",
       "      <td>2</td>\n",
       "      <td>sci.med</td>\n",
       "    </tr>\n",
       "    <tr>\n",
       "      <td>2254</td>\n",
       "      <td>From: sasghm@theseus.unx.sas.com (Gary Merrill...</td>\n",
       "      <td>2</td>\n",
       "      <td>sci.med</td>\n",
       "    </tr>\n",
       "    <tr>\n",
       "      <td>2255</td>\n",
       "      <td>From: Dan Wallach &lt;dwallach@cs.berkeley.edu&gt; S...</td>\n",
       "      <td>2</td>\n",
       "      <td>sci.med</td>\n",
       "    </tr>\n",
       "    <tr>\n",
       "      <td>2256</td>\n",
       "      <td>From: dyer@spdcc.com (Steve Dyer) Subject: Re:...</td>\n",
       "      <td>2</td>\n",
       "      <td>sci.med</td>\n",
       "    </tr>\n",
       "  </tbody>\n",
       "</table>\n",
       "<p>1178 rows × 3 columns</p>\n",
       "</div>"
      ],
      "text/plain": [
       "                                                   text  category  \\\n",
       "0     From: sd345@city.ac.uk (Michael Collier) Subje...         1   \n",
       "1     From: ani@ms.uky.edu (Aniruddha B. Deglurkar) ...         1   \n",
       "7     From: aldridge@netcom.com (Jacquelin Aldridge)...         2   \n",
       "8     From: geb@cs.pitt.edu (Gordon Banks) Subject: ...         2   \n",
       "9     From: libman@hsc.usc.edu (Marlena Libman) Subj...         2   \n",
       "...                                                 ...       ...   \n",
       "2252  From: roos@Operoni.Helsinki.FI (Christophe Roo...         2   \n",
       "2253  From: mhollowa@ic.sunysb.edu (Michael Holloway...         2   \n",
       "2254  From: sasghm@theseus.unx.sas.com (Gary Merrill...         2   \n",
       "2255  From: Dan Wallach <dwallach@cs.berkeley.edu> S...         2   \n",
       "2256  From: dyer@spdcc.com (Steve Dyer) Subject: Re:...         2   \n",
       "\n",
       "      category_name  \n",
       "0     comp.graphics  \n",
       "1     comp.graphics  \n",
       "7           sci.med  \n",
       "8           sci.med  \n",
       "9           sci.med  \n",
       "...             ...  \n",
       "2252        sci.med  \n",
       "2253        sci.med  \n",
       "2254        sci.med  \n",
       "2255        sci.med  \n",
       "2256        sci.med  \n",
       "\n",
       "[1178 rows x 3 columns]"
      ]
     },
     "execution_count": 8,
     "metadata": {},
     "output_type": "execute_result"
    }
   ],
   "source": [
    "# use Boolean indexing to get rows in categories comp.graphics or sci.med\n",
    "X[(X['category_name'] == 'comp.graphics') | (X['category_name'] == 'sci.med')]"
   ]
  },
  {
   "cell_type": "code",
   "execution_count": 9,
   "metadata": {},
   "outputs": [
    {
     "data": {
      "text/html": [
       "<div>\n",
       "<style scoped>\n",
       "    .dataframe tbody tr th:only-of-type {\n",
       "        vertical-align: middle;\n",
       "    }\n",
       "\n",
       "    .dataframe tbody tr th {\n",
       "        vertical-align: top;\n",
       "    }\n",
       "\n",
       "    .dataframe thead th {\n",
       "        text-align: right;\n",
       "    }\n",
       "</style>\n",
       "<table border=\"1\" class=\"dataframe\">\n",
       "  <thead>\n",
       "    <tr style=\"text-align: right;\">\n",
       "      <th></th>\n",
       "      <th>text</th>\n",
       "      <th>category</th>\n",
       "      <th>category_name</th>\n",
       "    </tr>\n",
       "  </thead>\n",
       "  <tbody>\n",
       "    <tr>\n",
       "      <td>0</td>\n",
       "      <td>False</td>\n",
       "      <td>False</td>\n",
       "      <td>False</td>\n",
       "    </tr>\n",
       "    <tr>\n",
       "      <td>1</td>\n",
       "      <td>False</td>\n",
       "      <td>False</td>\n",
       "      <td>False</td>\n",
       "    </tr>\n",
       "    <tr>\n",
       "      <td>2</td>\n",
       "      <td>False</td>\n",
       "      <td>True</td>\n",
       "      <td>False</td>\n",
       "    </tr>\n",
       "    <tr>\n",
       "      <td>3</td>\n",
       "      <td>False</td>\n",
       "      <td>True</td>\n",
       "      <td>False</td>\n",
       "    </tr>\n",
       "    <tr>\n",
       "      <td>4</td>\n",
       "      <td>False</td>\n",
       "      <td>True</td>\n",
       "      <td>False</td>\n",
       "    </tr>\n",
       "    <tr>\n",
       "      <td>...</td>\n",
       "      <td>...</td>\n",
       "      <td>...</td>\n",
       "      <td>...</td>\n",
       "    </tr>\n",
       "    <tr>\n",
       "      <td>2252</td>\n",
       "      <td>False</td>\n",
       "      <td>False</td>\n",
       "      <td>False</td>\n",
       "    </tr>\n",
       "    <tr>\n",
       "      <td>2253</td>\n",
       "      <td>False</td>\n",
       "      <td>False</td>\n",
       "      <td>False</td>\n",
       "    </tr>\n",
       "    <tr>\n",
       "      <td>2254</td>\n",
       "      <td>False</td>\n",
       "      <td>False</td>\n",
       "      <td>False</td>\n",
       "    </tr>\n",
       "    <tr>\n",
       "      <td>2255</td>\n",
       "      <td>False</td>\n",
       "      <td>False</td>\n",
       "      <td>False</td>\n",
       "    </tr>\n",
       "    <tr>\n",
       "      <td>2256</td>\n",
       "      <td>False</td>\n",
       "      <td>False</td>\n",
       "      <td>False</td>\n",
       "    </tr>\n",
       "  </tbody>\n",
       "</table>\n",
       "<p>2257 rows × 3 columns</p>\n",
       "</div>"
      ],
      "text/plain": [
       "       text  category  category_name\n",
       "0     False     False          False\n",
       "1     False     False          False\n",
       "2     False      True          False\n",
       "3     False      True          False\n",
       "4     False      True          False\n",
       "...     ...       ...            ...\n",
       "2252  False     False          False\n",
       "2253  False     False          False\n",
       "2254  False     False          False\n",
       "2255  False     False          False\n",
       "2256  False     False          False\n",
       "\n",
       "[2257 rows x 3 columns]"
      ]
     },
     "execution_count": 9,
     "metadata": {},
     "output_type": "execute_result"
    }
   ],
   "source": [
    "# use isin to create DataFrame of booleans that reflects true if the values in cells in 'X' are in the 'values' list\n",
    "\n",
    "values = [3,4]\n",
    "\n",
    "X.isin(values)"
   ]
  },
  {
   "cell_type": "code",
   "execution_count": 10,
   "metadata": {},
   "outputs": [
    {
     "data": {
      "text/html": [
       "<div>\n",
       "<style scoped>\n",
       "    .dataframe tbody tr th:only-of-type {\n",
       "        vertical-align: middle;\n",
       "    }\n",
       "\n",
       "    .dataframe tbody tr th {\n",
       "        vertical-align: top;\n",
       "    }\n",
       "\n",
       "    .dataframe thead th {\n",
       "        text-align: right;\n",
       "    }\n",
       "</style>\n",
       "<table border=\"1\" class=\"dataframe\">\n",
       "  <thead>\n",
       "    <tr style=\"text-align: right;\">\n",
       "      <th></th>\n",
       "      <th>text</th>\n",
       "      <th>category</th>\n",
       "      <th>category_name</th>\n",
       "    </tr>\n",
       "  </thead>\n",
       "  <tbody>\n",
       "    <tr>\n",
       "      <td>0</td>\n",
       "      <td>NaN</td>\n",
       "      <td>NaN</td>\n",
       "      <td>NaN</td>\n",
       "    </tr>\n",
       "    <tr>\n",
       "      <td>1</td>\n",
       "      <td>From: ani@ms.uky.edu (Aniruddha B. Deglurkar) ...</td>\n",
       "      <td>1.0</td>\n",
       "      <td>comp.graphics</td>\n",
       "    </tr>\n",
       "    <tr>\n",
       "      <td>2</td>\n",
       "      <td>From: djohnson@cs.ucsd.edu (Darin Johnson) Sub...</td>\n",
       "      <td>3.0</td>\n",
       "      <td>soc.religion.christian</td>\n",
       "    </tr>\n",
       "    <tr>\n",
       "      <td>3</td>\n",
       "      <td>From: s0612596@let.rug.nl (M.M. Zwart) Subject...</td>\n",
       "      <td>3.0</td>\n",
       "      <td>soc.religion.christian</td>\n",
       "    </tr>\n",
       "    <tr>\n",
       "      <td>4</td>\n",
       "      <td>From: stanly@grok11.columbiasc.ncr.com (stanly...</td>\n",
       "      <td>3.0</td>\n",
       "      <td>soc.religion.christian</td>\n",
       "    </tr>\n",
       "    <tr>\n",
       "      <td>...</td>\n",
       "      <td>...</td>\n",
       "      <td>...</td>\n",
       "      <td>...</td>\n",
       "    </tr>\n",
       "    <tr>\n",
       "      <td>2252</td>\n",
       "      <td>NaN</td>\n",
       "      <td>NaN</td>\n",
       "      <td>NaN</td>\n",
       "    </tr>\n",
       "    <tr>\n",
       "      <td>2253</td>\n",
       "      <td>From: mhollowa@ic.sunysb.edu (Michael Holloway...</td>\n",
       "      <td>2.0</td>\n",
       "      <td>sci.med</td>\n",
       "    </tr>\n",
       "    <tr>\n",
       "      <td>2254</td>\n",
       "      <td>From: sasghm@theseus.unx.sas.com (Gary Merrill...</td>\n",
       "      <td>2.0</td>\n",
       "      <td>sci.med</td>\n",
       "    </tr>\n",
       "    <tr>\n",
       "      <td>2255</td>\n",
       "      <td>From: Dan Wallach &lt;dwallach@cs.berkeley.edu&gt; S...</td>\n",
       "      <td>2.0</td>\n",
       "      <td>sci.med</td>\n",
       "    </tr>\n",
       "    <tr>\n",
       "      <td>2256</td>\n",
       "      <td>From: dyer@spdcc.com (Steve Dyer) Subject: Re:...</td>\n",
       "      <td>2.0</td>\n",
       "      <td>sci.med</td>\n",
       "    </tr>\n",
       "  </tbody>\n",
       "</table>\n",
       "<p>2257 rows × 3 columns</p>\n",
       "</div>"
      ],
      "text/plain": [
       "                                                   text  category  \\\n",
       "0                                                   NaN       NaN   \n",
       "1     From: ani@ms.uky.edu (Aniruddha B. Deglurkar) ...       1.0   \n",
       "2     From: djohnson@cs.ucsd.edu (Darin Johnson) Sub...       3.0   \n",
       "3     From: s0612596@let.rug.nl (M.M. Zwart) Subject...       3.0   \n",
       "4     From: stanly@grok11.columbiasc.ncr.com (stanly...       3.0   \n",
       "...                                                 ...       ...   \n",
       "2252                                                NaN       NaN   \n",
       "2253  From: mhollowa@ic.sunysb.edu (Michael Holloway...       2.0   \n",
       "2254  From: sasghm@theseus.unx.sas.com (Gary Merrill...       2.0   \n",
       "2255  From: Dan Wallach <dwallach@cs.berkeley.edu> S...       2.0   \n",
       "2256  From: dyer@spdcc.com (Steve Dyer) Subject: Re:...       2.0   \n",
       "\n",
       "               category_name  \n",
       "0                        NaN  \n",
       "1              comp.graphics  \n",
       "2     soc.religion.christian  \n",
       "3     soc.religion.christian  \n",
       "4     soc.religion.christian  \n",
       "...                      ...  \n",
       "2252                     NaN  \n",
       "2253                 sci.med  \n",
       "2254                 sci.med  \n",
       "2255                 sci.med  \n",
       "2256                 sci.med  \n",
       "\n",
       "[2257 rows x 3 columns]"
      ]
     },
     "execution_count": 10,
     "metadata": {},
     "output_type": "execute_result"
    }
   ],
   "source": [
    "# use where to create dataframe where values that meet criteria contain results, and those that don't return NaN\n",
    "# i.e. if text contains .edu, return that text in the cell; otherwise return NaN\n",
    "\n",
    "X.where(X['text'].str.contains('.edu'))"
   ]
  },
  {
   "cell_type": "code",
   "execution_count": 11,
   "metadata": {},
   "outputs": [
    {
     "data": {
      "text/html": [
       "<div>\n",
       "<style scoped>\n",
       "    .dataframe tbody tr th:only-of-type {\n",
       "        vertical-align: middle;\n",
       "    }\n",
       "\n",
       "    .dataframe tbody tr th {\n",
       "        vertical-align: top;\n",
       "    }\n",
       "\n",
       "    .dataframe thead th {\n",
       "        text-align: right;\n",
       "    }\n",
       "</style>\n",
       "<table border=\"1\" class=\"dataframe\">\n",
       "  <thead>\n",
       "    <tr style=\"text-align: right;\">\n",
       "      <th></th>\n",
       "      <th>text</th>\n",
       "      <th>category</th>\n",
       "      <th>category_name</th>\n",
       "    </tr>\n",
       "  </thead>\n",
       "  <tbody>\n",
       "    <tr>\n",
       "      <td>2</td>\n",
       "      <td>From: djohnson@cs.ucsd.edu (Darin Johnson) Sub...</td>\n",
       "      <td>3</td>\n",
       "      <td>soc.religion.christian</td>\n",
       "    </tr>\n",
       "    <tr>\n",
       "      <td>3</td>\n",
       "      <td>From: s0612596@let.rug.nl (M.M. Zwart) Subject...</td>\n",
       "      <td>3</td>\n",
       "      <td>soc.religion.christian</td>\n",
       "    </tr>\n",
       "    <tr>\n",
       "      <td>4</td>\n",
       "      <td>From: stanly@grok11.columbiasc.ncr.com (stanly...</td>\n",
       "      <td>3</td>\n",
       "      <td>soc.religion.christian</td>\n",
       "    </tr>\n",
       "    <tr>\n",
       "      <td>5</td>\n",
       "      <td>From: vbv@lor.eeap.cwru.edu (Virgilio (Dean) B...</td>\n",
       "      <td>3</td>\n",
       "      <td>soc.religion.christian</td>\n",
       "    </tr>\n",
       "    <tr>\n",
       "      <td>6</td>\n",
       "      <td>From: jodfishe@silver.ucs.indiana.edu (joseph ...</td>\n",
       "      <td>3</td>\n",
       "      <td>soc.religion.christian</td>\n",
       "    </tr>\n",
       "    <tr>\n",
       "      <td>...</td>\n",
       "      <td>...</td>\n",
       "      <td>...</td>\n",
       "      <td>...</td>\n",
       "    </tr>\n",
       "    <tr>\n",
       "      <td>2229</td>\n",
       "      <td>From: jcj@tellabs.com (jcj) Subject: Re: proof...</td>\n",
       "      <td>3</td>\n",
       "      <td>soc.religion.christian</td>\n",
       "    </tr>\n",
       "    <tr>\n",
       "      <td>2230</td>\n",
       "      <td>From: news@cbnewsk.att.com Subject: Re: Bible ...</td>\n",
       "      <td>3</td>\n",
       "      <td>soc.religion.christian</td>\n",
       "    </tr>\n",
       "    <tr>\n",
       "      <td>2246</td>\n",
       "      <td>From: lmvec@westminster.ac.uk (William Hargrea...</td>\n",
       "      <td>3</td>\n",
       "      <td>soc.religion.christian</td>\n",
       "    </tr>\n",
       "    <tr>\n",
       "      <td>2247</td>\n",
       "      <td>From: daniels@math.ufl.edu (TV's Big Dealer) S...</td>\n",
       "      <td>3</td>\n",
       "      <td>soc.religion.christian</td>\n",
       "    </tr>\n",
       "    <tr>\n",
       "      <td>2249</td>\n",
       "      <td>From: shellgate!llo@uu4.psi.com (Larry L. Over...</td>\n",
       "      <td>3</td>\n",
       "      <td>soc.religion.christian</td>\n",
       "    </tr>\n",
       "  </tbody>\n",
       "</table>\n",
       "<p>599 rows × 3 columns</p>\n",
       "</div>"
      ],
      "text/plain": [
       "                                                   text  category  \\\n",
       "2     From: djohnson@cs.ucsd.edu (Darin Johnson) Sub...         3   \n",
       "3     From: s0612596@let.rug.nl (M.M. Zwart) Subject...         3   \n",
       "4     From: stanly@grok11.columbiasc.ncr.com (stanly...         3   \n",
       "5     From: vbv@lor.eeap.cwru.edu (Virgilio (Dean) B...         3   \n",
       "6     From: jodfishe@silver.ucs.indiana.edu (joseph ...         3   \n",
       "...                                                 ...       ...   \n",
       "2229  From: jcj@tellabs.com (jcj) Subject: Re: proof...         3   \n",
       "2230  From: news@cbnewsk.att.com Subject: Re: Bible ...         3   \n",
       "2246  From: lmvec@westminster.ac.uk (William Hargrea...         3   \n",
       "2247  From: daniels@math.ufl.edu (TV's Big Dealer) S...         3   \n",
       "2249  From: shellgate!llo@uu4.psi.com (Larry L. Over...         3   \n",
       "\n",
       "               category_name  \n",
       "2     soc.religion.christian  \n",
       "3     soc.religion.christian  \n",
       "4     soc.religion.christian  \n",
       "5     soc.religion.christian  \n",
       "6     soc.religion.christian  \n",
       "...                      ...  \n",
       "2229  soc.religion.christian  \n",
       "2230  soc.religion.christian  \n",
       "2246  soc.religion.christian  \n",
       "2247  soc.religion.christian  \n",
       "2249  soc.religion.christian  \n",
       "\n",
       "[599 rows x 3 columns]"
      ]
     },
     "execution_count": 11,
     "metadata": {},
     "output_type": "execute_result"
    }
   ],
   "source": [
    "# use query to return all articles under category soc.religion.christian\n",
    "\n",
    "X.query('category_name == \"soc.religion.christian\"')"
   ]
  },
  {
   "cell_type": "code",
   "execution_count": 12,
   "metadata": {},
   "outputs": [
    {
     "data": {
      "text/html": [
       "<div>\n",
       "<style scoped>\n",
       "    .dataframe tbody tr th:only-of-type {\n",
       "        vertical-align: middle;\n",
       "    }\n",
       "\n",
       "    .dataframe tbody tr th {\n",
       "        vertical-align: top;\n",
       "    }\n",
       "\n",
       "    .dataframe thead th {\n",
       "        text-align: right;\n",
       "    }\n",
       "</style>\n",
       "<table border=\"1\" class=\"dataframe\">\n",
       "  <thead>\n",
       "    <tr style=\"text-align: right;\">\n",
       "      <th></th>\n",
       "      <th>text</th>\n",
       "      <th>category</th>\n",
       "      <th>category_name</th>\n",
       "    </tr>\n",
       "  </thead>\n",
       "  <tbody>\n",
       "    <tr>\n",
       "      <td>334</td>\n",
       "      <td>From: trajan@cwis.unomaha.edu (Stephen McIntyr...</td>\n",
       "      <td>3</td>\n",
       "      <td>soc.religion.christian</td>\n",
       "    </tr>\n",
       "    <tr>\n",
       "      <td>662</td>\n",
       "      <td>From: bruce@liv.ac.uk (Bruce Stephens) Subject...</td>\n",
       "      <td>3</td>\n",
       "      <td>soc.religion.christian</td>\n",
       "    </tr>\n",
       "    <tr>\n",
       "      <td>1256</td>\n",
       "      <td>From: gt7122b@prism.gatech.edu (Randal Lee Nic...</td>\n",
       "      <td>3</td>\n",
       "      <td>soc.religion.christian</td>\n",
       "    </tr>\n",
       "    <tr>\n",
       "      <td>1281</td>\n",
       "      <td>From: norris@athena.mit.edu (Richard A Chonak)...</td>\n",
       "      <td>3</td>\n",
       "      <td>soc.religion.christian</td>\n",
       "    </tr>\n",
       "    <tr>\n",
       "      <td>1315</td>\n",
       "      <td>From: wjhovi01@ulkyvx.louisville.edu Subject: ...</td>\n",
       "      <td>3</td>\n",
       "      <td>soc.religion.christian</td>\n",
       "    </tr>\n",
       "    <tr>\n",
       "      <td>1613</td>\n",
       "      <td>From: kempmp@phoenix.oulu.fi (Petri Pihko) Sub...</td>\n",
       "      <td>3</td>\n",
       "      <td>soc.religion.christian</td>\n",
       "    </tr>\n",
       "    <tr>\n",
       "      <td>1685</td>\n",
       "      <td>From: noye@midway.uchicago.edu (vera shanti no...</td>\n",
       "      <td>3</td>\n",
       "      <td>soc.religion.christian</td>\n",
       "    </tr>\n",
       "    <tr>\n",
       "      <td>1814</td>\n",
       "      <td>From: shd2001@andy.bgsu.edu (Sherlette Dixon) ...</td>\n",
       "      <td>3</td>\n",
       "      <td>soc.religion.christian</td>\n",
       "    </tr>\n",
       "    <tr>\n",
       "      <td>1832</td>\n",
       "      <td>From: MANDTBACKA@finabo.abo.fi (Mats Andtbacka...</td>\n",
       "      <td>3</td>\n",
       "      <td>soc.religion.christian</td>\n",
       "    </tr>\n",
       "    <tr>\n",
       "      <td>1891</td>\n",
       "      <td>From: jasons@atlastele.com (Jason Smith) Subje...</td>\n",
       "      <td>3</td>\n",
       "      <td>soc.religion.christian</td>\n",
       "    </tr>\n",
       "    <tr>\n",
       "      <td>2036</td>\n",
       "      <td>From: johnsd2@rpi.edu (Dan Johnson) Subject: R...</td>\n",
       "      <td>3</td>\n",
       "      <td>soc.religion.christian</td>\n",
       "    </tr>\n",
       "    <tr>\n",
       "      <td>2142</td>\n",
       "      <td>From: atterlep@vela.acs.oakland.edu (Cardinal ...</td>\n",
       "      <td>3</td>\n",
       "      <td>soc.religion.christian</td>\n",
       "    </tr>\n",
       "  </tbody>\n",
       "</table>\n",
       "</div>"
      ],
      "text/plain": [
       "                                                   text  category  \\\n",
       "334   From: trajan@cwis.unomaha.edu (Stephen McIntyr...         3   \n",
       "662   From: bruce@liv.ac.uk (Bruce Stephens) Subject...         3   \n",
       "1256  From: gt7122b@prism.gatech.edu (Randal Lee Nic...         3   \n",
       "1281  From: norris@athena.mit.edu (Richard A Chonak)...         3   \n",
       "1315  From: wjhovi01@ulkyvx.louisville.edu Subject: ...         3   \n",
       "1613  From: kempmp@phoenix.oulu.fi (Petri Pihko) Sub...         3   \n",
       "1685  From: noye@midway.uchicago.edu (vera shanti no...         3   \n",
       "1814  From: shd2001@andy.bgsu.edu (Sherlette Dixon) ...         3   \n",
       "1832  From: MANDTBACKA@finabo.abo.fi (Mats Andtbacka...         3   \n",
       "1891  From: jasons@atlastele.com (Jason Smith) Subje...         3   \n",
       "2036  From: johnsd2@rpi.edu (Dan Johnson) Subject: R...         3   \n",
       "2142  From: atterlep@vela.acs.oakland.edu (Cardinal ...         3   \n",
       "\n",
       "               category_name  \n",
       "334   soc.religion.christian  \n",
       "662   soc.religion.christian  \n",
       "1256  soc.religion.christian  \n",
       "1281  soc.religion.christian  \n",
       "1315  soc.religion.christian  \n",
       "1613  soc.religion.christian  \n",
       "1685  soc.religion.christian  \n",
       "1814  soc.religion.christian  \n",
       "1832  soc.religion.christian  \n",
       "1891  soc.religion.christian  \n",
       "2036  soc.religion.christian  \n",
       "2142  soc.religion.christian  "
      ]
     },
     "execution_count": 12,
     "metadata": {},
     "output_type": "execute_result"
    }
   ],
   "source": [
    "# use multiconditional query to return all articles under category soc.religion.christian and text contains word 'atheism'\n",
    "\n",
    "X.query('category_name == \"soc.religion.christian\" and text.str.contains(\"atheism\")', engine='python')\n"
   ]
  },
  {
   "cell_type": "code",
   "execution_count": 13,
   "metadata": {},
   "outputs": [
    {
     "data": {
      "text/plain": [
       "0    From: sd345@city.ac.uk (Michael Collier) Subje...\n",
       "1    From: ani@ms.uky.edu (Aniruddha B. Deglurkar) ...\n",
       "2    From: djohnson@cs.ucsd.edu (Darin Johnson) Sub...\n",
       "3    From: s0612596@let.rug.nl (M.M. Zwart) Subject...\n",
       "4    From: stanly@grok11.columbiasc.ncr.com (stanly...\n",
       "5    From: vbv@lor.eeap.cwru.edu (Virgilio (Dean) B...\n",
       "6    From: jodfishe@silver.ucs.indiana.edu (joseph ...\n",
       "7    From: aldridge@netcom.com (Jacquelin Aldridge)...\n",
       "8    From: geb@cs.pitt.edu (Gordon Banks) Subject: ...\n",
       "9    From: libman@hsc.usc.edu (Marlena Libman) Subj...\n",
       "Name: text, dtype: object"
      ]
     },
     "execution_count": 13,
     "metadata": {},
     "output_type": "execute_result"
    }
   ],
   "source": [
    "# use get to return first 10 rows under text\n",
    "X.get('text')[:10]"
   ]
  },
  {
   "cell_type": "markdown",
   "metadata": {},
   "source": [
    "<div style='background: #7fffd4'> <h1>  >>> Exercise 5 (take home) </h1>\n",
    "There is an old saying that goes, \"The devil is in the details.\" When we are working with extremely large data, it's difficult to check records one by one (as we have been doing so far). And also, we don't even know what kind of missing values we are facing. Thus, \"debugging\" skills get sharper as we spend more time solving bugs. Let's focus on a different method to check for missing values and the kinds of missing values you may encounter. It's not easy to check for missing values as you will find out in a minute.\n",
    "\n",
    "Please check the data and the process below, describe what you observe and why it happened.   \n",
    "$Hint$ :  why `.isnull()` didn't work? </div>"
   ]
  },
  {
   "cell_type": "code",
   "execution_count": 14,
   "metadata": {},
   "outputs": [
    {
     "data": {
      "text/html": [
       "<div>\n",
       "<style scoped>\n",
       "    .dataframe tbody tr th:only-of-type {\n",
       "        vertical-align: middle;\n",
       "    }\n",
       "\n",
       "    .dataframe tbody tr th {\n",
       "        vertical-align: top;\n",
       "    }\n",
       "\n",
       "    .dataframe thead th {\n",
       "        text-align: right;\n",
       "    }\n",
       "</style>\n",
       "<table border=\"1\" class=\"dataframe\">\n",
       "  <thead>\n",
       "    <tr style=\"text-align: right;\">\n",
       "      <th></th>\n",
       "      <th>id</th>\n",
       "      <th>missing_example</th>\n",
       "    </tr>\n",
       "  </thead>\n",
       "  <tbody>\n",
       "    <tr>\n",
       "      <td>0</td>\n",
       "      <td>A</td>\n",
       "      <td>NaN</td>\n",
       "    </tr>\n",
       "    <tr>\n",
       "      <td>1</td>\n",
       "      <td>B</td>\n",
       "      <td>NaN</td>\n",
       "    </tr>\n",
       "    <tr>\n",
       "      <td>2</td>\n",
       "      <td>C</td>\n",
       "      <td>NaN</td>\n",
       "    </tr>\n",
       "    <tr>\n",
       "      <td>3</td>\n",
       "      <td>D</td>\n",
       "      <td>None</td>\n",
       "    </tr>\n",
       "    <tr>\n",
       "      <td>4</td>\n",
       "      <td>E</td>\n",
       "      <td>None</td>\n",
       "    </tr>\n",
       "    <tr>\n",
       "      <td>5</td>\n",
       "      <td>F</td>\n",
       "      <td></td>\n",
       "    </tr>\n",
       "  </tbody>\n",
       "</table>\n",
       "</div>"
      ],
      "text/plain": [
       "  id missing_example\n",
       "0  A             NaN\n",
       "1  B             NaN\n",
       "2  C             NaN\n",
       "3  D            None\n",
       "4  E            None\n",
       "5  F                "
      ]
     },
     "execution_count": 14,
     "metadata": {},
     "output_type": "execute_result"
    }
   ],
   "source": [
    "import numpy as np\n",
    "\n",
    "NA_dict = [{ 'id': 'A', 'missing_example': np.nan },\n",
    "           { 'id': 'B'                    },\n",
    "           { 'id': 'C', 'missing_example': 'NaN'  },\n",
    "           { 'id': 'D', 'missing_example': 'None' },\n",
    "           { 'id': 'E', 'missing_example':  None  },\n",
    "           { 'id': 'F', 'missing_example': ''     }]\n",
    "\n",
    "NA_df = pd.DataFrame(NA_dict, columns = ['id','missing_example'])\n",
    "NA_df"
   ]
  },
  {
   "cell_type": "code",
   "execution_count": 15,
   "metadata": {},
   "outputs": [
    {
     "data": {
      "text/plain": [
       "0     True\n",
       "1     True\n",
       "2    False\n",
       "3    False\n",
       "4     True\n",
       "5    False\n",
       "Name: missing_example, dtype: bool"
      ]
     },
     "execution_count": 15,
     "metadata": {},
     "output_type": "execute_result"
    }
   ],
   "source": [
    "NA_df['missing_example'].isnull()"
   ]
  },
  {
   "cell_type": "markdown",
   "metadata": {},
   "source": [
    "# ANSWER:\n",
    "\n",
    "Observations: The missing example column was filled up in 5 different ways:\n",
    "A - np.nan, which is the numpy library's way of stating a NaN or missing value;\n",
    "B - just leaves the entire second entry for missing_example blank, so it is truly a missing value;\n",
    "C - the STRING 'NaN' was input;\n",
    "D - the STRING 'None' was input;\n",
    "E - the VALUE None (WITHOUT apostrophes) was input, it is another way Python signifies empty values;\n",
    "F - there are no characters in between the '', however it is NOT a null string. Null means the absence of value, but for this example we DO have a string value of zero length.\n",
    "    \n",
    "Why isnull() didn't work for all:\n",
    "isnull() returned FALSE for missing examples that were set as STRINGS, while it returned TRUE for those that were set as truly Null values. Because they are declared this way, Python will interpret them as strings of characters/words and not its definition of being a truly null value. This poses a challenge for us because in many data sets e.g. surveys, people will type down words like 'None' that will be processed as a string or we will often end up creating string values of zero length. This makes checking for null values a bit harder, so we must diligently inspect our data to make sure we have all bases covered, as data is actually very human and there are many unique, human ways to both create and interpret it. "
   ]
  },
  {
   "cell_type": "markdown",
   "metadata": {},
   "source": [
    "<div style='background: #7fffd4'> <h1> >>> Exercise 6 (take home): </h1>\n",
    "Notice any changes to the `X` dataframe? What are they? Report every change you noticed as compared to the previous state of `X`. Feel free to query and look more closely at the dataframe for these changes. </div>"
   ]
  },
  {
   "cell_type": "code",
   "execution_count": 16,
   "metadata": {},
   "outputs": [
    {
     "data": {
      "text/html": [
       "<div>\n",
       "<style scoped>\n",
       "    .dataframe tbody tr th:only-of-type {\n",
       "        vertical-align: middle;\n",
       "    }\n",
       "\n",
       "    .dataframe tbody tr th {\n",
       "        vertical-align: top;\n",
       "    }\n",
       "\n",
       "    .dataframe thead th {\n",
       "        text-align: right;\n",
       "    }\n",
       "</style>\n",
       "<table border=\"1\" class=\"dataframe\">\n",
       "  <thead>\n",
       "    <tr style=\"text-align: right;\">\n",
       "      <th></th>\n",
       "      <th>text</th>\n",
       "      <th>category</th>\n",
       "      <th>category_name</th>\n",
       "    </tr>\n",
       "  </thead>\n",
       "  <tbody>\n",
       "    <tr>\n",
       "      <td>144</td>\n",
       "      <td>From: rytg7@fel.tno.nl (Q. van Rijt) Subject: ...</td>\n",
       "      <td>1</td>\n",
       "      <td>comp.graphics</td>\n",
       "    </tr>\n",
       "    <tr>\n",
       "      <td>361</td>\n",
       "      <td>From: orourke@sophia.smith.edu (Joseph O'Rourk...</td>\n",
       "      <td>1</td>\n",
       "      <td>comp.graphics</td>\n",
       "    </tr>\n",
       "    <tr>\n",
       "      <td>1637</td>\n",
       "      <td>From: edm@twisto.compaq.com (Ed McCreary) Subj...</td>\n",
       "      <td>0</td>\n",
       "      <td>alt.atheism</td>\n",
       "    </tr>\n",
       "    <tr>\n",
       "      <td>574</td>\n",
       "      <td>From: mmm@cup.portal.com (Mark Robert Thorson)...</td>\n",
       "      <td>2</td>\n",
       "      <td>sci.med</td>\n",
       "    </tr>\n",
       "    <tr>\n",
       "      <td>334</td>\n",
       "      <td>From: trajan@cwis.unomaha.edu (Stephen McIntyr...</td>\n",
       "      <td>3</td>\n",
       "      <td>soc.religion.christian</td>\n",
       "    </tr>\n",
       "    <tr>\n",
       "      <td>...</td>\n",
       "      <td>...</td>\n",
       "      <td>...</td>\n",
       "      <td>...</td>\n",
       "    </tr>\n",
       "    <tr>\n",
       "      <td>1034</td>\n",
       "      <td>From: jk87377@lehtori.cc.tut.fi (Kouhia Juhana...</td>\n",
       "      <td>1</td>\n",
       "      <td>comp.graphics</td>\n",
       "    </tr>\n",
       "    <tr>\n",
       "      <td>208</td>\n",
       "      <td>From: backon@vms.huji.ac.il Subject: Re: diet ...</td>\n",
       "      <td>2</td>\n",
       "      <td>sci.med</td>\n",
       "    </tr>\n",
       "    <tr>\n",
       "      <td>967</td>\n",
       "      <td>From: rcomg@melomys.co.rmit.oz.AU (Mark Gregor...</td>\n",
       "      <td>1</td>\n",
       "      <td>comp.graphics</td>\n",
       "    </tr>\n",
       "    <tr>\n",
       "      <td>1644</td>\n",
       "      <td>From: beck@irzr17.inf.tu-dresden.de (Andre Bec...</td>\n",
       "      <td>1</td>\n",
       "      <td>comp.graphics</td>\n",
       "    </tr>\n",
       "    <tr>\n",
       "      <td>1705</td>\n",
       "      <td>From: david@stat.com (David Dodell) Subject: H...</td>\n",
       "      <td>2</td>\n",
       "      <td>sci.med</td>\n",
       "    </tr>\n",
       "  </tbody>\n",
       "</table>\n",
       "<p>1000 rows × 3 columns</p>\n",
       "</div>"
      ],
      "text/plain": [
       "                                                   text  category  \\\n",
       "144   From: rytg7@fel.tno.nl (Q. van Rijt) Subject: ...         1   \n",
       "361   From: orourke@sophia.smith.edu (Joseph O'Rourk...         1   \n",
       "1637  From: edm@twisto.compaq.com (Ed McCreary) Subj...         0   \n",
       "574   From: mmm@cup.portal.com (Mark Robert Thorson)...         2   \n",
       "334   From: trajan@cwis.unomaha.edu (Stephen McIntyr...         3   \n",
       "...                                                 ...       ...   \n",
       "1034  From: jk87377@lehtori.cc.tut.fi (Kouhia Juhana...         1   \n",
       "208   From: backon@vms.huji.ac.il Subject: Re: diet ...         2   \n",
       "967   From: rcomg@melomys.co.rmit.oz.AU (Mark Gregor...         1   \n",
       "1644  From: beck@irzr17.inf.tu-dresden.de (Andre Bec...         1   \n",
       "1705  From: david@stat.com (David Dodell) Subject: H...         2   \n",
       "\n",
       "               category_name  \n",
       "144            comp.graphics  \n",
       "361            comp.graphics  \n",
       "1637             alt.atheism  \n",
       "574                  sci.med  \n",
       "334   soc.religion.christian  \n",
       "...                      ...  \n",
       "1034           comp.graphics  \n",
       "208                  sci.med  \n",
       "967            comp.graphics  \n",
       "1644           comp.graphics  \n",
       "1705                 sci.med  \n",
       "\n",
       "[1000 rows x 3 columns]"
      ]
     },
     "execution_count": 16,
     "metadata": {},
     "output_type": "execute_result"
    }
   ],
   "source": [
    "# sample\n",
    "X_sample = X.sample(n=1000) #random state\n",
    "X_sample"
   ]
  },
  {
   "cell_type": "code",
   "execution_count": 17,
   "metadata": {},
   "outputs": [
    {
     "data": {
      "text/html": [
       "<div>\n",
       "<style scoped>\n",
       "    .dataframe tbody tr th:only-of-type {\n",
       "        vertical-align: middle;\n",
       "    }\n",
       "\n",
       "    .dataframe tbody tr th {\n",
       "        vertical-align: top;\n",
       "    }\n",
       "\n",
       "    .dataframe thead th {\n",
       "        text-align: right;\n",
       "    }\n",
       "</style>\n",
       "<table border=\"1\" class=\"dataframe\">\n",
       "  <thead>\n",
       "    <tr style=\"text-align: right;\">\n",
       "      <th></th>\n",
       "      <th>text</th>\n",
       "      <th>category</th>\n",
       "      <th>category_name</th>\n",
       "    </tr>\n",
       "  </thead>\n",
       "  <tbody>\n",
       "    <tr>\n",
       "      <td>144</td>\n",
       "      <td>From: rytg7@fel.tno.nl (Q. van Rijt) Subject: ...</td>\n",
       "      <td>1</td>\n",
       "      <td>comp.graphics</td>\n",
       "    </tr>\n",
       "    <tr>\n",
       "      <td>1824</td>\n",
       "      <td>From: Donald Mackie &lt;Donald_Mackie@med.umich.e...</td>\n",
       "      <td>2</td>\n",
       "      <td>sci.med</td>\n",
       "    </tr>\n",
       "    <tr>\n",
       "      <td>1841</td>\n",
       "      <td>From: mdw33310@uxa.cso.uiuc.edu (Michael D. Wa...</td>\n",
       "      <td>3</td>\n",
       "      <td>soc.religion.christian</td>\n",
       "    </tr>\n",
       "    <tr>\n",
       "      <td>2224</td>\n",
       "      <td>From: havardn@edb.tih.no (Haavard Nesse,o92a) ...</td>\n",
       "      <td>1</td>\n",
       "      <td>comp.graphics</td>\n",
       "    </tr>\n",
       "    <tr>\n",
       "      <td>1801</td>\n",
       "      <td>From: FSSPR@acad3.alaska.edu (Hardcore Alaskan...</td>\n",
       "      <td>3</td>\n",
       "      <td>soc.religion.christian</td>\n",
       "    </tr>\n",
       "    <tr>\n",
       "      <td>636</td>\n",
       "      <td>From: lbutler@hubcap.clemson.edu (L Clator But...</td>\n",
       "      <td>3</td>\n",
       "      <td>soc.religion.christian</td>\n",
       "    </tr>\n",
       "    <tr>\n",
       "      <td>1904</td>\n",
       "      <td>From: caralv@caralv.auto-trol.com (Carol Alvin...</td>\n",
       "      <td>3</td>\n",
       "      <td>soc.religion.christian</td>\n",
       "    </tr>\n",
       "    <tr>\n",
       "      <td>1477</td>\n",
       "      <td>From: noring@netcom.com (Jon Noring) Subject: ...</td>\n",
       "      <td>2</td>\n",
       "      <td>sci.med</td>\n",
       "    </tr>\n",
       "    <tr>\n",
       "      <td>1169</td>\n",
       "      <td>From: hayesstw@risc1.unisa.ac.za (Steve Hayes)...</td>\n",
       "      <td>3</td>\n",
       "      <td>soc.religion.christian</td>\n",
       "    </tr>\n",
       "    <tr>\n",
       "      <td>1747</td>\n",
       "      <td>From: salaris@niblick.ecn.purdue.edu (Rrrrrrrr...</td>\n",
       "      <td>3</td>\n",
       "      <td>soc.religion.christian</td>\n",
       "    </tr>\n",
       "    <tr>\n",
       "      <td>420</td>\n",
       "      <td>From: sherry@a.cs.okstate.edu (SHERRY ROBERT M...</td>\n",
       "      <td>1</td>\n",
       "      <td>comp.graphics</td>\n",
       "    </tr>\n",
       "    <tr>\n",
       "      <td>305</td>\n",
       "      <td>From: livesey@solntze.wpd.sgi.com (Jon Livesey...</td>\n",
       "      <td>0</td>\n",
       "      <td>alt.atheism</td>\n",
       "    </tr>\n",
       "    <tr>\n",
       "      <td>25</td>\n",
       "      <td>From: dstampe@psych.toronto.edu (Dave Stampe) ...</td>\n",
       "      <td>1</td>\n",
       "      <td>comp.graphics</td>\n",
       "    </tr>\n",
       "    <tr>\n",
       "      <td>297</td>\n",
       "      <td>From: nyeda@cnsvax.uwec.edu (David Nye) Subjec...</td>\n",
       "      <td>2</td>\n",
       "      <td>sci.med</td>\n",
       "    </tr>\n",
       "    <tr>\n",
       "      <td>1098</td>\n",
       "      <td>From: db7n+@andrew.cmu.edu (D. Andrew Byler) S...</td>\n",
       "      <td>3</td>\n",
       "      <td>soc.religion.christian</td>\n",
       "    </tr>\n",
       "    <tr>\n",
       "      <td>1413</td>\n",
       "      <td>Subject: Re: The nonexistance of Atheists?! Fr...</td>\n",
       "      <td>0</td>\n",
       "      <td>alt.atheism</td>\n",
       "    </tr>\n",
       "    <tr>\n",
       "      <td>516</td>\n",
       "      <td>From: Patrick C Leger &lt;pl1u+@andrew.cmu.edu&gt; S...</td>\n",
       "      <td>0</td>\n",
       "      <td>alt.atheism</td>\n",
       "    </tr>\n",
       "    <tr>\n",
       "      <td>554</td>\n",
       "      <td>From: JEK@cu.nih.gov Subject: Chanting of the ...</td>\n",
       "      <td>3</td>\n",
       "      <td>soc.religion.christian</td>\n",
       "    </tr>\n",
       "    <tr>\n",
       "      <td>801</td>\n",
       "      <td>From: yohan@citation.ksu.ksu.edu (Jonathan W N...</td>\n",
       "      <td>0</td>\n",
       "      <td>alt.atheism</td>\n",
       "    </tr>\n",
       "    <tr>\n",
       "      <td>291</td>\n",
       "      <td>From: chrisb@tafe.sa.edu.au (Chris BELL) Subje...</td>\n",
       "      <td>0</td>\n",
       "      <td>alt.atheism</td>\n",
       "    </tr>\n",
       "    <tr>\n",
       "      <td>1717</td>\n",
       "      <td>From: muddmj@wkuvx1.bitnet Subject: Re: The do...</td>\n",
       "      <td>3</td>\n",
       "      <td>soc.religion.christian</td>\n",
       "    </tr>\n",
       "    <tr>\n",
       "      <td>1133</td>\n",
       "      <td>From: mcgoy@unicorn.acs.ttu.edu (David McGaugh...</td>\n",
       "      <td>0</td>\n",
       "      <td>alt.atheism</td>\n",
       "    </tr>\n",
       "    <tr>\n",
       "      <td>1330</td>\n",
       "      <td>From: geoff@East.Sun.COM (Geoff Arnold @ Sun B...</td>\n",
       "      <td>0</td>\n",
       "      <td>alt.atheism</td>\n",
       "    </tr>\n",
       "    <tr>\n",
       "      <td>107</td>\n",
       "      <td>From: samson@prlhp1.prl.philips.co.uk (Mark Sa...</td>\n",
       "      <td>1</td>\n",
       "      <td>comp.graphics</td>\n",
       "    </tr>\n",
       "    <tr>\n",
       "      <td>616</td>\n",
       "      <td>From: spl@dim.ucsd.edu (Steve Lamont) Subject:...</td>\n",
       "      <td>1</td>\n",
       "      <td>comp.graphics</td>\n",
       "    </tr>\n",
       "  </tbody>\n",
       "</table>\n",
       "</div>"
      ],
      "text/plain": [
       "                                                   text  category  \\\n",
       "144   From: rytg7@fel.tno.nl (Q. van Rijt) Subject: ...         1   \n",
       "1824  From: Donald Mackie <Donald_Mackie@med.umich.e...         2   \n",
       "1841  From: mdw33310@uxa.cso.uiuc.edu (Michael D. Wa...         3   \n",
       "2224  From: havardn@edb.tih.no (Haavard Nesse,o92a) ...         1   \n",
       "1801  From: FSSPR@acad3.alaska.edu (Hardcore Alaskan...         3   \n",
       "636   From: lbutler@hubcap.clemson.edu (L Clator But...         3   \n",
       "1904  From: caralv@caralv.auto-trol.com (Carol Alvin...         3   \n",
       "1477  From: noring@netcom.com (Jon Noring) Subject: ...         2   \n",
       "1169  From: hayesstw@risc1.unisa.ac.za (Steve Hayes)...         3   \n",
       "1747  From: salaris@niblick.ecn.purdue.edu (Rrrrrrrr...         3   \n",
       "420   From: sherry@a.cs.okstate.edu (SHERRY ROBERT M...         1   \n",
       "305   From: livesey@solntze.wpd.sgi.com (Jon Livesey...         0   \n",
       "25    From: dstampe@psych.toronto.edu (Dave Stampe) ...         1   \n",
       "297   From: nyeda@cnsvax.uwec.edu (David Nye) Subjec...         2   \n",
       "1098  From: db7n+@andrew.cmu.edu (D. Andrew Byler) S...         3   \n",
       "1413  Subject: Re: The nonexistance of Atheists?! Fr...         0   \n",
       "516   From: Patrick C Leger <pl1u+@andrew.cmu.edu> S...         0   \n",
       "554   From: JEK@cu.nih.gov Subject: Chanting of the ...         3   \n",
       "801   From: yohan@citation.ksu.ksu.edu (Jonathan W N...         0   \n",
       "291   From: chrisb@tafe.sa.edu.au (Chris BELL) Subje...         0   \n",
       "1717  From: muddmj@wkuvx1.bitnet Subject: Re: The do...         3   \n",
       "1133  From: mcgoy@unicorn.acs.ttu.edu (David McGaugh...         0   \n",
       "1330  From: geoff@East.Sun.COM (Geoff Arnold @ Sun B...         0   \n",
       "107   From: samson@prlhp1.prl.philips.co.uk (Mark Sa...         1   \n",
       "616   From: spl@dim.ucsd.edu (Steve Lamont) Subject:...         1   \n",
       "\n",
       "               category_name  \n",
       "144            comp.graphics  \n",
       "1824                 sci.med  \n",
       "1841  soc.religion.christian  \n",
       "2224           comp.graphics  \n",
       "1801  soc.religion.christian  \n",
       "636   soc.religion.christian  \n",
       "1904  soc.religion.christian  \n",
       "1477                 sci.med  \n",
       "1169  soc.religion.christian  \n",
       "1747  soc.religion.christian  \n",
       "420            comp.graphics  \n",
       "305              alt.atheism  \n",
       "25             comp.graphics  \n",
       "297                  sci.med  \n",
       "1098  soc.religion.christian  \n",
       "1413             alt.atheism  \n",
       "516              alt.atheism  \n",
       "554   soc.religion.christian  \n",
       "801              alt.atheism  \n",
       "291              alt.atheism  \n",
       "1717  soc.religion.christian  \n",
       "1133             alt.atheism  \n",
       "1330             alt.atheism  \n",
       "107            comp.graphics  \n",
       "616            comp.graphics  "
      ]
     },
     "execution_count": 17,
     "metadata": {},
     "output_type": "execute_result"
    }
   ],
   "source": [
    "# looking at some sample records\n",
    "X_sample[:500][::20]"
   ]
  },
  {
   "cell_type": "code",
   "execution_count": 18,
   "metadata": {},
   "outputs": [
    {
     "data": {
      "text/plain": [
       "(1000, 3)"
      ]
     },
     "execution_count": 18,
     "metadata": {},
     "output_type": "execute_result"
    }
   ],
   "source": [
    "# observing the shape\n",
    "X_sample.shape"
   ]
  },
  {
   "cell_type": "code",
   "execution_count": 19,
   "metadata": {},
   "outputs": [
    {
     "name": "stdout",
     "output_type": "stream",
     "text": [
      "[\"From: rytg7@fel.tno.nl (Q. van Rijt) Subject: Re: Sphere from 4 points? Organization: TNO Physics and Electronics Laboratory Lines: 26  There is another useful method based on Least Sqyares Estimation of the sphere equation parameters.  The points (x,y,z) on a spherical surface with radius R and center (a,b,c) can be written as      (x-a)^2 + (y-b)^2 + (z-c)^2 = R^2  This equation can be rewritten into the following form:       2ax + 2by + 2cz + R^2 - a^2 - b^2 -c^2 = x^2 + y^2 + z^2  Approximate the left hand part by   F(x,y,z) = p1.x + p2.x + p3.z + p4.1  For all datapoints, i.c. 4, determine the 4 parameters p1..p4 which minimise the average error |F(x,y,z) - x^2 - y^2 - z^2|^2.  In 'Numerical Recipes in C' can be found algorithms to solve these parameters.  The best fitting sphere will have  - center (a,b,c) = (p1/2, p2/2, p3/2) - radius R = sqrt(p4 + a.a + b.b + c.c).  So, at last, will this solve you sphere estination problem, at least for the most situations I think ?.  Quick van Rijt, rytg7@fel.tno.nl    \"]\n"
     ]
    }
   ],
   "source": [
    "# print out entire text of one record\n",
    "print(list(X_sample.iloc[:1,0]))"
   ]
  },
  {
   "cell_type": "markdown",
   "metadata": {},
   "source": [
    "### OBSERVATIONS:\n",
    "\n",
    "- Sampling allows you to observe more nuances in your data while at the same time still aiming to get something representative of the entire data set.\n",
    "- The length of the sample is now shorter, as we only took 1000 rows compared to X (2257 rows)\n",
    "- Because we took a random sample, the row numbers are now random and no longer in order like in X (0-2256)\n",
    "- It's clearer in the sample that 'text' formats vary (e.g. In X they all start with \"From\" but in the sample you can see some actually start with \"Subject\" or \"Organization\""
   ]
  },
  {
   "cell_type": "markdown",
   "metadata": {},
   "source": [
    "<div style='background: #7fffd4'> <h1> >>> Exercise 8 (take home): </h1>\n",
    "We can also do a side-by-side comparison of the distribution between the two datasets, but maybe you can try that as an excerise. Below we show you an snapshot of the type of chart we are looking for.  </div>"
   ]
  },
  {
   "cell_type": "code",
   "execution_count": 20,
   "metadata": {},
   "outputs": [],
   "source": [
    "# importing libraries\n",
    "%matplotlib inline\n",
    "import matplotlib.pyplot as plt"
   ]
  },
  {
   "cell_type": "code",
   "execution_count": 21,
   "metadata": {},
   "outputs": [
    {
     "data": {
      "text/plain": [
       "<matplotlib.axes._subplots.AxesSubplot at 0x1a2b64bf10>"
      ]
     },
     "execution_count": 21,
     "metadata": {},
     "output_type": "execute_result"
    },
    {
     "data": {
      "image/png": "[encoded data removed]",
      "text/plain": [
       "<Figure size 648x432 with 1 Axes>"
      ]
     },
     "metadata": {
      "needs_background": "light"
     },
     "output_type": "display_data"
    }
   ],
   "source": [
    "# Answer here\n",
    "pd.concat({\n",
    "    'X category_name': X.category_name.value_counts(), 'X Sample category_name': X_sample.category_name.value_counts()\n",
    "}, axis=1, sort=False).plot(kind='bar', title='Category distribution', rot=0, fontsize=12, figsize= (9,6))"
   ]
  },
  {
   "cell_type": "markdown",
   "metadata": {},
   "source": [
    "<div style='background: #7fffd4'> <h1> >>> Exercise 10 (take home): </h1>\n",
    "We said that the `1` at the beginning of the fifth record represents the `00` term. Notice that there is another 1 in the same record. Can you provide code that can verify what word this 1 represents from the vocabulary. Try to do this as efficient as possible.  </div>"
   ]
  },
  {
   "cell_type": "code",
   "execution_count": 22,
   "metadata": {},
   "outputs": [
    {
     "data": {
      "text/plain": [
       "array([[0, 0, 0, 0, 0, 0, 0, 0, 0, 0, 0, 0, 0, 0, 0, 0, 0, 0, 0, 0, 0, 0,\n",
       "        0, 0, 0, 0, 0, 0, 0, 0, 0, 0, 0, 0, 0, 0, 0, 0, 0, 0, 0, 0, 0, 0,\n",
       "        0, 0, 0, 0, 0, 0, 0, 0, 0, 0, 0, 0, 0, 0, 0, 0, 0, 0, 0, 0, 0, 0,\n",
       "        0, 0, 0, 0, 0, 0, 0, 0, 0, 0, 0, 0, 0, 0, 0, 0, 0, 0, 0, 0, 0, 0,\n",
       "        0, 0, 0, 0, 0, 0, 0, 0, 0, 0, 0, 0],\n",
       "       [0, 0, 0, 0, 0, 0, 0, 0, 0, 0, 0, 0, 0, 0, 0, 0, 0, 0, 0, 0, 0, 0,\n",
       "        0, 0, 0, 0, 0, 0, 0, 0, 0, 0, 0, 0, 0, 0, 0, 0, 0, 0, 0, 0, 0, 0,\n",
       "        0, 0, 0, 0, 0, 0, 0, 0, 0, 0, 0, 0, 0, 0, 0, 0, 0, 0, 0, 0, 0, 0,\n",
       "        0, 0, 0, 0, 0, 0, 0, 0, 0, 0, 0, 0, 0, 0, 0, 0, 0, 0, 0, 0, 0, 0,\n",
       "        0, 0, 0, 0, 0, 0, 0, 0, 0, 0, 0, 0],\n",
       "       [0, 0, 0, 0, 0, 0, 0, 0, 0, 0, 0, 0, 0, 0, 0, 0, 0, 0, 0, 0, 0, 0,\n",
       "        0, 0, 0, 0, 0, 0, 0, 0, 0, 0, 0, 0, 0, 0, 0, 0, 0, 0, 0, 0, 0, 0,\n",
       "        0, 0, 0, 0, 0, 0, 0, 0, 0, 0, 0, 0, 0, 0, 0, 0, 0, 0, 0, 0, 0, 0,\n",
       "        0, 0, 0, 0, 0, 0, 0, 0, 0, 0, 0, 0, 0, 0, 0, 0, 0, 0, 0, 0, 0, 0,\n",
       "        0, 0, 0, 0, 0, 0, 0, 0, 0, 0, 0, 0],\n",
       "       [0, 0, 0, 0, 0, 0, 0, 0, 0, 0, 0, 0, 0, 0, 0, 0, 0, 0, 0, 0, 0, 0,\n",
       "        0, 0, 0, 0, 0, 0, 0, 0, 0, 0, 0, 0, 0, 0, 0, 0, 0, 0, 0, 0, 0, 0,\n",
       "        0, 0, 0, 0, 0, 0, 0, 0, 0, 0, 0, 0, 0, 0, 0, 0, 0, 0, 0, 0, 0, 0,\n",
       "        0, 0, 0, 0, 0, 0, 0, 0, 0, 0, 0, 0, 0, 0, 0, 0, 0, 0, 0, 0, 0, 0,\n",
       "        0, 0, 0, 0, 0, 0, 0, 0, 0, 0, 0, 0],\n",
       "       [1, 0, 0, 0, 0, 0, 0, 0, 0, 0, 0, 0, 0, 0, 0, 0, 0, 0, 0, 0, 0, 0,\n",
       "        0, 0, 0, 0, 0, 0, 0, 0, 0, 0, 0, 0, 0, 0, 0, 1, 0, 0, 0, 0, 0, 0,\n",
       "        0, 0, 0, 0, 0, 0, 0, 0, 0, 0, 0, 0, 0, 0, 0, 0, 0, 0, 0, 0, 0, 0,\n",
       "        0, 0, 0, 0, 0, 0, 0, 0, 0, 0, 0, 0, 0, 0, 0, 0, 0, 0, 0, 0, 0, 0,\n",
       "        0, 0, 0, 0, 0, 0, 0, 0, 0, 0, 0, 0]])"
      ]
     },
     "execution_count": 22,
     "metadata": {},
     "output_type": "execute_result"
    }
   ],
   "source": [
    "# importing libraries and creating countvectorizer/analyzer\n",
    "import nltk\n",
    "from sklearn.feature_extraction.text import CountVectorizer\n",
    "\n",
    "X['unigrams'] = X['text'].apply(lambda x: dmh.tokenize_text(x))\n",
    "\n",
    "count_vect = CountVectorizer()\n",
    "X_counts = count_vect.fit_transform(X.text)\n",
    "analyze = count_vect.build_analyzer()\n",
    "\n",
    "# we convert from sparse array to normal array\n",
    "X_counts[0:5, 0:100].toarray()"
   ]
  },
  {
   "cell_type": "code",
   "execution_count": 23,
   "metadata": {},
   "outputs": [
    {
     "data": {
      "text/html": [
       "<div>\n",
       "<style scoped>\n",
       "    .dataframe tbody tr th:only-of-type {\n",
       "        vertical-align: middle;\n",
       "    }\n",
       "\n",
       "    .dataframe tbody tr th {\n",
       "        vertical-align: top;\n",
       "    }\n",
       "\n",
       "    .dataframe thead th {\n",
       "        text-align: right;\n",
       "    }\n",
       "</style>\n",
       "<table border=\"1\" class=\"dataframe\">\n",
       "  <thead>\n",
       "    <tr style=\"text-align: right;\">\n",
       "      <th></th>\n",
       "      <th>00</th>\n",
       "      <th>000</th>\n",
       "      <th>0000</th>\n",
       "      <th>0000001200</th>\n",
       "      <th>000005102000</th>\n",
       "      <th>0001</th>\n",
       "      <th>000100255pixel</th>\n",
       "      <th>00014</th>\n",
       "      <th>000406</th>\n",
       "      <th>0007</th>\n",
       "      <th>...</th>\n",
       "      <th>zvi</th>\n",
       "      <th>zvonko</th>\n",
       "      <th>zwart</th>\n",
       "      <th>zyeh</th>\n",
       "      <th>zyklon</th>\n",
       "      <th>zyxel</th>\n",
       "      <th>zz</th>\n",
       "      <th>zzz</th>\n",
       "      <th>ªl</th>\n",
       "      <th>íålittin</th>\n",
       "    </tr>\n",
       "  </thead>\n",
       "  <tbody>\n",
       "    <tr>\n",
       "      <td>0</td>\n",
       "      <td>0</td>\n",
       "      <td>0</td>\n",
       "      <td>0</td>\n",
       "      <td>0</td>\n",
       "      <td>0</td>\n",
       "      <td>0</td>\n",
       "      <td>0</td>\n",
       "      <td>0</td>\n",
       "      <td>0</td>\n",
       "      <td>0</td>\n",
       "      <td>...</td>\n",
       "      <td>0</td>\n",
       "      <td>0</td>\n",
       "      <td>0</td>\n",
       "      <td>0</td>\n",
       "      <td>0</td>\n",
       "      <td>0</td>\n",
       "      <td>0</td>\n",
       "      <td>0</td>\n",
       "      <td>0</td>\n",
       "      <td>0</td>\n",
       "    </tr>\n",
       "    <tr>\n",
       "      <td>1</td>\n",
       "      <td>0</td>\n",
       "      <td>0</td>\n",
       "      <td>0</td>\n",
       "      <td>0</td>\n",
       "      <td>0</td>\n",
       "      <td>0</td>\n",
       "      <td>0</td>\n",
       "      <td>0</td>\n",
       "      <td>0</td>\n",
       "      <td>0</td>\n",
       "      <td>...</td>\n",
       "      <td>0</td>\n",
       "      <td>0</td>\n",
       "      <td>0</td>\n",
       "      <td>0</td>\n",
       "      <td>0</td>\n",
       "      <td>0</td>\n",
       "      <td>0</td>\n",
       "      <td>0</td>\n",
       "      <td>0</td>\n",
       "      <td>0</td>\n",
       "    </tr>\n",
       "    <tr>\n",
       "      <td>2</td>\n",
       "      <td>0</td>\n",
       "      <td>0</td>\n",
       "      <td>0</td>\n",
       "      <td>0</td>\n",
       "      <td>0</td>\n",
       "      <td>0</td>\n",
       "      <td>0</td>\n",
       "      <td>0</td>\n",
       "      <td>0</td>\n",
       "      <td>0</td>\n",
       "      <td>...</td>\n",
       "      <td>0</td>\n",
       "      <td>0</td>\n",
       "      <td>0</td>\n",
       "      <td>0</td>\n",
       "      <td>0</td>\n",
       "      <td>0</td>\n",
       "      <td>0</td>\n",
       "      <td>0</td>\n",
       "      <td>0</td>\n",
       "      <td>0</td>\n",
       "    </tr>\n",
       "    <tr>\n",
       "      <td>3</td>\n",
       "      <td>0</td>\n",
       "      <td>0</td>\n",
       "      <td>0</td>\n",
       "      <td>0</td>\n",
       "      <td>0</td>\n",
       "      <td>0</td>\n",
       "      <td>0</td>\n",
       "      <td>0</td>\n",
       "      <td>0</td>\n",
       "      <td>0</td>\n",
       "      <td>...</td>\n",
       "      <td>0</td>\n",
       "      <td>0</td>\n",
       "      <td>2</td>\n",
       "      <td>0</td>\n",
       "      <td>0</td>\n",
       "      <td>0</td>\n",
       "      <td>0</td>\n",
       "      <td>0</td>\n",
       "      <td>0</td>\n",
       "      <td>0</td>\n",
       "    </tr>\n",
       "    <tr>\n",
       "      <td>4</td>\n",
       "      <td>1</td>\n",
       "      <td>0</td>\n",
       "      <td>0</td>\n",
       "      <td>0</td>\n",
       "      <td>0</td>\n",
       "      <td>0</td>\n",
       "      <td>0</td>\n",
       "      <td>0</td>\n",
       "      <td>0</td>\n",
       "      <td>0</td>\n",
       "      <td>...</td>\n",
       "      <td>0</td>\n",
       "      <td>0</td>\n",
       "      <td>0</td>\n",
       "      <td>0</td>\n",
       "      <td>0</td>\n",
       "      <td>0</td>\n",
       "      <td>0</td>\n",
       "      <td>0</td>\n",
       "      <td>0</td>\n",
       "      <td>0</td>\n",
       "    </tr>\n",
       "    <tr>\n",
       "      <td>...</td>\n",
       "      <td>...</td>\n",
       "      <td>...</td>\n",
       "      <td>...</td>\n",
       "      <td>...</td>\n",
       "      <td>...</td>\n",
       "      <td>...</td>\n",
       "      <td>...</td>\n",
       "      <td>...</td>\n",
       "      <td>...</td>\n",
       "      <td>...</td>\n",
       "      <td>...</td>\n",
       "      <td>...</td>\n",
       "      <td>...</td>\n",
       "      <td>...</td>\n",
       "      <td>...</td>\n",
       "      <td>...</td>\n",
       "      <td>...</td>\n",
       "      <td>...</td>\n",
       "      <td>...</td>\n",
       "      <td>...</td>\n",
       "      <td>...</td>\n",
       "    </tr>\n",
       "    <tr>\n",
       "      <td>2252</td>\n",
       "      <td>0</td>\n",
       "      <td>0</td>\n",
       "      <td>0</td>\n",
       "      <td>0</td>\n",
       "      <td>0</td>\n",
       "      <td>0</td>\n",
       "      <td>0</td>\n",
       "      <td>1</td>\n",
       "      <td>0</td>\n",
       "      <td>0</td>\n",
       "      <td>...</td>\n",
       "      <td>0</td>\n",
       "      <td>0</td>\n",
       "      <td>0</td>\n",
       "      <td>0</td>\n",
       "      <td>0</td>\n",
       "      <td>0</td>\n",
       "      <td>0</td>\n",
       "      <td>0</td>\n",
       "      <td>0</td>\n",
       "      <td>0</td>\n",
       "    </tr>\n",
       "    <tr>\n",
       "      <td>2253</td>\n",
       "      <td>0</td>\n",
       "      <td>0</td>\n",
       "      <td>0</td>\n",
       "      <td>0</td>\n",
       "      <td>0</td>\n",
       "      <td>0</td>\n",
       "      <td>0</td>\n",
       "      <td>0</td>\n",
       "      <td>0</td>\n",
       "      <td>0</td>\n",
       "      <td>...</td>\n",
       "      <td>0</td>\n",
       "      <td>0</td>\n",
       "      <td>0</td>\n",
       "      <td>0</td>\n",
       "      <td>0</td>\n",
       "      <td>0</td>\n",
       "      <td>0</td>\n",
       "      <td>0</td>\n",
       "      <td>0</td>\n",
       "      <td>0</td>\n",
       "    </tr>\n",
       "    <tr>\n",
       "      <td>2254</td>\n",
       "      <td>0</td>\n",
       "      <td>0</td>\n",
       "      <td>0</td>\n",
       "      <td>0</td>\n",
       "      <td>0</td>\n",
       "      <td>0</td>\n",
       "      <td>0</td>\n",
       "      <td>0</td>\n",
       "      <td>0</td>\n",
       "      <td>0</td>\n",
       "      <td>...</td>\n",
       "      <td>0</td>\n",
       "      <td>0</td>\n",
       "      <td>0</td>\n",
       "      <td>0</td>\n",
       "      <td>0</td>\n",
       "      <td>0</td>\n",
       "      <td>0</td>\n",
       "      <td>0</td>\n",
       "      <td>0</td>\n",
       "      <td>0</td>\n",
       "    </tr>\n",
       "    <tr>\n",
       "      <td>2255</td>\n",
       "      <td>0</td>\n",
       "      <td>0</td>\n",
       "      <td>0</td>\n",
       "      <td>0</td>\n",
       "      <td>0</td>\n",
       "      <td>0</td>\n",
       "      <td>0</td>\n",
       "      <td>0</td>\n",
       "      <td>0</td>\n",
       "      <td>0</td>\n",
       "      <td>...</td>\n",
       "      <td>0</td>\n",
       "      <td>0</td>\n",
       "      <td>0</td>\n",
       "      <td>0</td>\n",
       "      <td>0</td>\n",
       "      <td>0</td>\n",
       "      <td>0</td>\n",
       "      <td>0</td>\n",
       "      <td>0</td>\n",
       "      <td>0</td>\n",
       "    </tr>\n",
       "    <tr>\n",
       "      <td>2256</td>\n",
       "      <td>0</td>\n",
       "      <td>0</td>\n",
       "      <td>0</td>\n",
       "      <td>0</td>\n",
       "      <td>0</td>\n",
       "      <td>0</td>\n",
       "      <td>0</td>\n",
       "      <td>0</td>\n",
       "      <td>0</td>\n",
       "      <td>0</td>\n",
       "      <td>...</td>\n",
       "      <td>0</td>\n",
       "      <td>0</td>\n",
       "      <td>0</td>\n",
       "      <td>0</td>\n",
       "      <td>0</td>\n",
       "      <td>0</td>\n",
       "      <td>0</td>\n",
       "      <td>0</td>\n",
       "      <td>0</td>\n",
       "      <td>0</td>\n",
       "    </tr>\n",
       "  </tbody>\n",
       "</table>\n",
       "<p>2257 rows × 35788 columns</p>\n",
       "</div>"
      ],
      "text/plain": [
       "      00  000  0000  0000001200  000005102000  0001  000100255pixel  00014  \\\n",
       "0      0    0     0           0             0     0               0      0   \n",
       "1      0    0     0           0             0     0               0      0   \n",
       "2      0    0     0           0             0     0               0      0   \n",
       "3      0    0     0           0             0     0               0      0   \n",
       "4      1    0     0           0             0     0               0      0   \n",
       "...   ..  ...   ...         ...           ...   ...             ...    ...   \n",
       "2252   0    0     0           0             0     0               0      1   \n",
       "2253   0    0     0           0             0     0               0      0   \n",
       "2254   0    0     0           0             0     0               0      0   \n",
       "2255   0    0     0           0             0     0               0      0   \n",
       "2256   0    0     0           0             0     0               0      0   \n",
       "\n",
       "      000406  0007  ...  zvi  zvonko  zwart  zyeh  zyklon  zyxel  zz  zzz  ªl  \\\n",
       "0          0     0  ...    0       0      0     0       0      0   0    0   0   \n",
       "1          0     0  ...    0       0      0     0       0      0   0    0   0   \n",
       "2          0     0  ...    0       0      0     0       0      0   0    0   0   \n",
       "3          0     0  ...    0       0      2     0       0      0   0    0   0   \n",
       "4          0     0  ...    0       0      0     0       0      0   0    0   0   \n",
       "...      ...   ...  ...  ...     ...    ...   ...     ...    ...  ..  ...  ..   \n",
       "2252       0     0  ...    0       0      0     0       0      0   0    0   0   \n",
       "2253       0     0  ...    0       0      0     0       0      0   0    0   0   \n",
       "2254       0     0  ...    0       0      0     0       0      0   0    0   0   \n",
       "2255       0     0  ...    0       0      0     0       0      0   0    0   0   \n",
       "2256       0     0  ...    0       0      0     0       0      0   0    0   0   \n",
       "\n",
       "      íålittin  \n",
       "0            0  \n",
       "1            0  \n",
       "2            0  \n",
       "3            0  \n",
       "4            0  \n",
       "...        ...  \n",
       "2252         0  \n",
       "2253         0  \n",
       "2254         0  \n",
       "2255         0  \n",
       "2256         0  \n",
       "\n",
       "[2257 rows x 35788 columns]"
      ]
     },
     "execution_count": 23,
     "metadata": {},
     "output_type": "execute_result"
    }
   ],
   "source": [
    "# create term document matrix data frame\n",
    "matrix = pd.DataFrame(X_counts.toarray(), \n",
    "                      columns=count_vect.get_feature_names())\n",
    "\n",
    "matrix\n",
    "\n",
    "# get data frame - columns words, rows documents. make one column called sum of presence of all terms of all documents then prioritize it based on that"
   ]
  },
  {
   "cell_type": "code",
   "execution_count": 24,
   "metadata": {},
   "outputs": [],
   "source": [
    "# use apply function to check which values == 1 in fifth record, first 100 columns (since array example only selects 100 columns)\n",
    "true_values = matrix.loc[4][0:100].apply(lambda x: x==1)"
   ]
  },
  {
   "cell_type": "code",
   "execution_count": 25,
   "metadata": {},
   "outputs": [
    {
     "data": {
      "text/plain": [
       "00    True\n",
       "01    True\n",
       "Name: 4, dtype: bool"
      ]
     },
     "execution_count": 25,
     "metadata": {},
     "output_type": "execute_result"
    }
   ],
   "source": [
    "# filter out only true values\n",
    "true_values[true_values]"
   ]
  },
  {
   "cell_type": "markdown",
   "metadata": {},
   "source": [
    "# Answer: The other 1 is the term '01'"
   ]
  },
  {
   "cell_type": "markdown",
   "metadata": {},
   "source": [
    "<div style='background: #7fffd4'> <h1> >>> Exercise 11 (take home): </h1>\n",
    "From the chart above, we can see how sparse the term-document matrix is; i.e., there is only one terms with frequency of `1` in the subselection of the matrix. By the way, you may have noticed that we only selected 20 articles and 20 terms to plot the histogram. As an exercise you can try to modify the code above to plot the entire term-document matrix or just a sample of it. How would you do this efficiently? Remember there is a lot of words in the vocab. Report below what methods you would use to get a nice and useful visualization  </div>"
   ]
  },
  {
   "cell_type": "markdown",
   "metadata": {},
   "source": [
    "# Answer:\n",
    "\n",
    "Since there are so many terms and documents, it is quite labor intensive for the computer to load all the data. I decided to just take a random sample of the documents/terms and map those out in a visualization. We need a sample size of 328 documents and 380 terms to get 95% confidence level and 5% confidence interval (source: https://www.surveysystem.com/sscalc.htm).\n",
    "\n",
    "For the first visualization, I decided to modify the original code slightly by using a clustermap instead of heatmap because 1) a clustermap allows for better comprehension of the data, as data is ordered by similarity via something called hierarchical clusters i.e. similar terms are reorganized so they are next to each other; and 2) it was able to load the sample data very quickly compared to the heatmap().\n",
    "\n",
    "# Cluster Map\n",
    "Based on the clustermap, you can see that the terms all cluster together mostly in the upper left. The lines on the outside are dendrograms (trees) that represent the hierarchical clusters - the greater the height difference in branches, the more dissimilar they are. For example, terms 'california' and 'psychic' are classified as dissimilar, while documents 424 and 883 are also not so similar - this is because they have a huge height difference between their dendrogram branches. The first few words on the left (california, artificial, monophysitisim, z5, denounced) seem to occur most frequently in the sample of documents.\n",
    "\n",
    "However, even if the clustermap loaded more efficiently, after seeing this visualization, you can see that there is still room to generate deeper insights. I then utilized the scattertext library so I could better visualize term associations in the sample. I wanted to be able to see the distribution of the frequency of terms in the categories. Looking at our 4 categories, I realized that I can actually further generalize them into 2 categories: religion ('alt.atheism' and 'soc.religion.christian') and science ('comp.graphics' and 'sci.med'). I then generated a scattertext plot that plots word distribution of the 2 categories.\n",
    "\n",
    "# Scattertext\n",
    "Each point in the graph represents a term present in either a Religion or Science document. If the point is closer to the upper left of the graph, it was more commonly present in Religion documents. If its closer to the lower right, it was more commonly present in Science documents. Words in the lower left are infrequent for both categories, while words in the top right occur most frequently for both. You also see the \"Top Religion\" and \"Top Science\" words on the right - Religion tends to use more words like \"god, jesus, christian, christians, faith.\" On the other hand, none of these words are mentioned in Science, which frequently contains more technical words like \"graphics, program, image, files, windows.\" Words more associated with Religion are blue and Science red.\n",
    "\n",
    "The \"Characteristics\" list shows you the list of words characteristic or unique to the entire corpus as a whole, which are used quite frequently in the corpus but not so much in everyday language. For example, the term \"jfif\" occurs quite frequently in the corpus as a whole, but you don't really find yourself using it so much in everyday conversation! The scattertext library does this by computing \"the difference in dense term ranks between the words in all of the documents in the study and a general English-language frequency list.\"\n",
    "\n",
    "Hovering over a word shows you its frequency in Religion and Science Categories and its TF-IDF Score. For example, the word \"god\" gives you \"131:0 per 25k words. score:00150.\" This means that the word shows up 131 times in the Religion category, 0 times in the science category, for every 25k words in the corpus. Score is the TF IDF score. You can click on a word for more details, such as where it has been used within the corpus (for more context).\n",
    "\n",
    "You can also see a summary of document count and word count for each category at the bottom. To be able to use the search function, please use the external link that's generated instead of the graph that loads on the Jupyter notebook.\n",
    "\n",
    "We can further improve this distribution by removing stop words such as \"is\" and \"the\" or performing stemming so that terms like \"christian\" and \"christians\" are considered the same term.\n",
    "\n",
    "<b> Please install the scattertext (`pip install scattertext`) and spacy(en) (`python -m spacy download en`) libraries so it can work and load properly. </b>\n",
    "\n",
    "Library Documentation:\n",
    "https://github.com/JasonKessler/scattertext#installation\n"
   ]
  },
  {
   "cell_type": "code",
   "execution_count": 26,
   "metadata": {},
   "outputs": [
    {
     "data": {
      "text/plain": [
       "<seaborn.matrix.ClusterGrid at 0x1a2f9fdc10>"
      ]
     },
     "execution_count": 26,
     "metadata": {},
     "output_type": "execute_result"
    },
    {
     "data": {
      "image/png": "[encoded data removed]",
      "text/plain": [
       "<Figure size 720x720 with 4 Axes>"
      ]
     },
     "metadata": {
      "needs_background": "light"
     },
     "output_type": "display_data"
    }
   ],
   "source": [
    "# code below\n",
    "import seaborn as sns\n",
    "\n",
    "# we need a sample size of 328 documents and 380 terms to get 95% confidence level and 5% confidence interval.\n",
    "# source: https://www.surveysystem.com/sscalc.htm\n",
    "heatmap_sample = matrix.sample(n=328).sample(n=380, axis=1) \n",
    "\n",
    "\n",
    "sns.clustermap(heatmap_sample, cmap=\"cool\")\n",
    "\n",
    "# see answer above for explanation of visualization"
   ]
  },
  {
   "cell_type": "code",
   "execution_count": 27,
   "metadata": {},
   "outputs": [],
   "source": [
    "# for a better visualization, i wanted to map a scatter plot of the terms across the categories.\n",
    "\n",
    "# generalizing 4 categories into 2 categories\n",
    "general_category = []\n",
    "for cat in X['category_name']:\n",
    "    if cat == 'sci.med' or cat == 'comp.graphics':\n",
    "        general_category.append(\"Science\")\n",
    "    else:\n",
    "        general_category.append(\"Religion\")\n",
    "        \n",
    "X['general_category'] = general_category"
   ]
  },
  {
   "cell_type": "code",
   "execution_count": 28,
   "metadata": {},
   "outputs": [
    {
     "data": {
      "text/html": [
       "\n",
       "        <iframe\n",
       "            width=\"1000\"\n",
       "            height=\"700\"\n",
       "            src=\"Visualization.html\"\n",
       "            frameborder=\"0\"\n",
       "            allowfullscreen\n",
       "        ></iframe>\n",
       "        "
      ],
      "text/plain": [
       "<IPython.lib.display.IFrame at 0x1a255a4150>"
      ]
     },
     "execution_count": 28,
     "metadata": {},
     "output_type": "execute_result"
    }
   ],
   "source": [
    "# import necessary libraries\n",
    "import scattertext as st\n",
    "import spacy\n",
    "from pprint import pprint\n",
    "from IPython.core.display import display, HTML\n",
    "from IPython.display import IFrame\n",
    "\n",
    "\n",
    "# note: for the second visualization we use the sample size n = 328 documents\n",
    "# but we visualize all terms used in that document\n",
    "heatmap_sample2 = X.sample(n=328)\n",
    "\n",
    "# Turn it into a Scattertext Corpus \n",
    "# takes a few minutes\n",
    "nlp = spacy.load('en')\n",
    "corpus = st.CorpusFromPandas(heatmap_sample2, \n",
    "                            category_col='general_category', \n",
    "                              text_col='text',\n",
    "                              nlp=nlp).build()\n",
    "\n",
    "# create visualization\n",
    "html = st.produce_scattertext_explorer(corpus,\n",
    "          category='Religion', category_name='Religion', not_category_name='Science', term_scorer = st.CredTFIDF(corpus))\n",
    "\n",
    "open(\"Visualization-copy-copy.html\", 'wb').write(html.encode('utf-8'))\n",
    "IFrame(src='Visualization.html', width = 1000, height=700)\n",
    "# note: I created a copy of the HTML file because for some reason search stops working when loaded into the iframe below.\n",
    "# However, they are all the same file.\n",
    "\n",
    "# see answer above for explanation of visualization"
   ]
  },
  {
   "cell_type": "markdown",
   "metadata": {},
   "source": [
    "<a href=\"Visualization-copy.html\"> To use search, click here (let it load for a few minutes) </a>"
   ]
  },
  {
   "cell_type": "code",
   "execution_count": 29,
   "metadata": {},
   "outputs": [],
   "source": [
    "# # you can also uncomment the lines below to load a heatmap of the sample\n",
    "# # however this is quite slow and takes around ~10 minutes to generate\n",
    "\n",
    "# plt.subplots(figsize=(9, 7))\n",
    "# ax = sns.heatmap(heatmap_sample, cmap=\"PuRd\",\n",
    "#                  vmin=0, vmax=1, annot=True)\n",
    "\n",
    "# # uncomment below to load the scattertext plot of the entire document\n",
    "# # takes ~20 minutes to generate; also, browser might hang for a bit\n",
    "\n",
    "# # Turn it into a Scattertext Corpus \n",
    "# corpus2 = st.CorpusFromPandas(X, \n",
    "#                             category_col='general_category', \n",
    "#                               text_col='text',\n",
    "#                               nlp=nlp).build()\n",
    "\n",
    "# html2 = st.produce_scattertext_explorer(corpus2,\n",
    "#           category='Religion', category_name='Religion', not_category_name='Science', term_scorer = st.CredTFIDF(corpus2))\n",
    "\n",
    "# open(\"Visualization-ALL.html\", 'wb').write(html2.encode('utf-8'))\n",
    "# IFrame(src='Visualization-ALL.html', width = 1000, height=700)"
   ]
  },
  {
   "cell_type": "markdown",
   "metadata": {},
   "source": [
    "<div style='background: #7fffd4'> <h1> >>> Exercise 12 (take home): </h1>\n",
    "Please try to reduce the dimension to 3, and plot the result use 3-D plot. Use at least 3 different angle (camera position) to check your result and describe what you found.\n",
    "\n",
    "$Hint$: you can refer to Axes3D in the documentation. </div>"
   ]
  },
  {
   "cell_type": "code",
   "execution_count": 30,
   "metadata": {},
   "outputs": [
    {
     "data": {
      "application/javascript": [
       "/* Put everything inside the global mpl namespace */\n",
       "window.mpl = {};\n",
       "\n",
       "\n",
       "mpl.get_websocket_type = function() {\n",
       "    if (typeof(WebSocket) !== 'undefined') {\n",
       "        return WebSocket;\n",
       "    } else if (typeof(MozWebSocket) !== 'undefined') {\n",
       "        return MozWebSocket;\n",
       "    } else {\n",
       "        alert('Your browser does not have WebSocket support. ' +\n",
       "              'Please try Chrome, Safari or Firefox ≥ 6. ' +\n",
       "              'Firefox 4 and 5 are also supported but you ' +\n",
       "              'have to enable WebSockets in about:config.');\n",
       "    };\n",
       "}\n",
       "\n",
       "mpl.figure = function(figure_id, websocket, ondownload, parent_element) {\n",
       "    this.id = figure_id;\n",
       "\n",
       "    this.ws = websocket;\n",
       "\n",
       "    this.supports_binary = (this.ws.binaryType != undefined);\n",
       "\n",
       "    if (!this.supports_binary) {\n",
       "        var warnings = document.getElementById(\"mpl-warnings\");\n",
       "        if (warnings) {\n",
       "            warnings.style.display = 'block';\n",
       "            warnings.textContent = (\n",
       "                \"This browser does not support binary websocket messages. \" +\n",
       "                    \"Performance may be slow.\");\n",
       "        }\n",
       "    }\n",
       "\n",
       "    this.imageObj = new Image();\n",
       "\n",
       "    this.context = undefined;\n",
       "    this.message = undefined;\n",
       "    this.canvas = undefined;\n",
       "    this.rubberband_canvas = undefined;\n",
       "    this.rubberband_context = undefined;\n",
       "    this.format_dropdown = undefined;\n",
       "\n",
       "    this.image_mode = 'full';\n",
       "\n",
       "    this.root = $('<div/>');\n",
       "    this._root_extra_style(this.root)\n",
       "    this.root.attr('style', 'display: inline-block');\n",
       "\n",
       "    $(parent_element).append(this.root);\n",
       "\n",
       "    this._init_header(this);\n",
       "    this._init_canvas(this);\n",
       "    this._init_toolbar(this);\n",
       "\n",
       "    var fig = this;\n",
       "\n",
       "    this.waiting = false;\n",
       "\n",
       "    this.ws.onopen =  function () {\n",
       "            fig.send_message(\"supports_binary\", {value: fig.supports_binary});\n",
       "            fig.send_message(\"send_image_mode\", {});\n",
       "            if (mpl.ratio != 1) {\n",
       "                fig.send_message(\"set_dpi_ratio\", {'dpi_ratio': mpl.ratio});\n",
       "            }\n",
       "            fig.send_message(\"refresh\", {});\n",
       "        }\n",
       "\n",
       "    this.imageObj.onload = function() {\n",
       "            if (fig.image_mode == 'full') {\n",
       "                // Full images could contain transparency (where diff images\n",
       "                // almost always do), so we need to clear the canvas so that\n",
       "                // there is no ghosting.\n",
       "                fig.context.clearRect(0, 0, fig.canvas.width, fig.canvas.height);\n",
       "            }\n",
       "            fig.context.drawImage(fig.imageObj, 0, 0);\n",
       "        };\n",
       "\n",
       "    this.imageObj.onunload = function() {\n",
       "        fig.ws.close();\n",
       "    }\n",
       "\n",
       "    this.ws.onmessage = this._make_on_message_function(this);\n",
       "\n",
       "    this.ondownload = ondownload;\n",
       "}\n",
       "\n",
       "mpl.figure.prototype._init_header = function() {\n",
       "    var titlebar = $(\n",
       "        '<div class=\"ui-dialog-titlebar ui-widget-header ui-corner-all ' +\n",
       "        'ui-helper-clearfix\"/>');\n",
       "    var titletext = $(\n",
       "        '<div class=\"ui-dialog-title\" style=\"width: 100%; ' +\n",
       "        'text-align: center; padding: 3px;\"/>');\n",
       "    titlebar.append(titletext)\n",
       "    this.root.append(titlebar);\n",
       "    this.header = titletext[0];\n",
       "}\n",
       "\n",
       "\n",
       "\n",
       "mpl.figure.prototype._canvas_extra_style = function(canvas_div) {\n",
       "\n",
       "}\n",
       "\n",
       "\n",
       "mpl.figure.prototype._root_extra_style = function(canvas_div) {\n",
       "\n",
       "}\n",
       "\n",
       "mpl.figure.prototype._init_canvas = function() {\n",
       "    var fig = this;\n",
       "\n",
       "    var canvas_div = $('<div/>');\n",
       "\n",
       "    canvas_div.attr('style', 'position: relative; clear: both; outline: 0');\n",
       "\n",
       "    function canvas_keyboard_event(event) {\n",
       "        return fig.key_event(event, event['data']);\n",
       "    }\n",
       "\n",
       "    canvas_div.keydown('key_press', canvas_keyboard_event);\n",
       "    canvas_div.keyup('key_release', canvas_keyboard_event);\n",
       "    this.canvas_div = canvas_div\n",
       "    this._canvas_extra_style(canvas_div)\n",
       "    this.root.append(canvas_div);\n",
       "\n",
       "    var canvas = $('<canvas/>');\n",
       "    canvas.addClass('mpl-canvas');\n",
       "    canvas.attr('style', \"left: 0; top: 0; z-index: 0; outline: 0\")\n",
       "\n",
       "    this.canvas = canvas[0];\n",
       "    this.context = canvas[0].getContext(\"2d\");\n",
       "\n",
       "    var backingStore = this.context.backingStorePixelRatio ||\n",
       "\tthis.context.webkitBackingStorePixelRatio ||\n",
       "\tthis.context.mozBackingStorePixelRatio ||\n",
       "\tthis.context.msBackingStorePixelRatio ||\n",
       "\tthis.context.oBackingStorePixelRatio ||\n",
       "\tthis.context.backingStorePixelRatio || 1;\n",
       "\n",
       "    mpl.ratio = (window.devicePixelRatio || 1) / backingStore;\n",
       "\n",
       "    var rubberband = $('<canvas/>');\n",
       "    rubberband.attr('style', \"position: absolute; left: 0; top: 0; z-index: 1;\")\n",
       "\n",
       "    var pass_mouse_events = true;\n",
       "\n",
       "    canvas_div.resizable({\n",
       "        start: function(event, ui) {\n",
       "            pass_mouse_events = false;\n",
       "        },\n",
       "        resize: function(event, ui) {\n",
       "            fig.request_resize(ui.size.width, ui.size.height);\n",
       "        },\n",
       "        stop: function(event, ui) {\n",
       "            pass_mouse_events = true;\n",
       "            fig.request_resize(ui.size.width, ui.size.height);\n",
       "        },\n",
       "    });\n",
       "\n",
       "    function mouse_event_fn(event) {\n",
       "        if (pass_mouse_events)\n",
       "            return fig.mouse_event(event, event['data']);\n",
       "    }\n",
       "\n",
       "    rubberband.mousedown('button_press', mouse_event_fn);\n",
       "    rubberband.mouseup('button_release', mouse_event_fn);\n",
       "    // Throttle sequential mouse events to 1 every 20ms.\n",
       "    rubberband.mousemove('motion_notify', mouse_event_fn);\n",
       "\n",
       "    rubberband.mouseenter('figure_enter', mouse_event_fn);\n",
       "    rubberband.mouseleave('figure_leave', mouse_event_fn);\n",
       "\n",
       "    canvas_div.on(\"wheel\", function (event) {\n",
       "        event = event.originalEvent;\n",
       "        event['data'] = 'scroll'\n",
       "        if (event.deltaY < 0) {\n",
       "            event.step = 1;\n",
       "        } else {\n",
       "            event.step = -1;\n",
       "        }\n",
       "        mouse_event_fn(event);\n",
       "    });\n",
       "\n",
       "    canvas_div.append(canvas);\n",
       "    canvas_div.append(rubberband);\n",
       "\n",
       "    this.rubberband = rubberband;\n",
       "    this.rubberband_canvas = rubberband[0];\n",
       "    this.rubberband_context = rubberband[0].getContext(\"2d\");\n",
       "    this.rubberband_context.strokeStyle = \"#000000\";\n",
       "\n",
       "    this._resize_canvas = function(width, height) {\n",
       "        // Keep the size of the canvas, canvas container, and rubber band\n",
       "        // canvas in synch.\n",
       "        canvas_div.css('width', width)\n",
       "        canvas_div.css('height', height)\n",
       "\n",
       "        canvas.attr('width', width * mpl.ratio);\n",
       "        canvas.attr('height', height * mpl.ratio);\n",
       "        canvas.attr('style', 'width: ' + width + 'px; height: ' + height + 'px;');\n",
       "\n",
       "        rubberband.attr('width', width);\n",
       "        rubberband.attr('height', height);\n",
       "    }\n",
       "\n",
       "    // Set the figure to an initial 600x600px, this will subsequently be updated\n",
       "    // upon first draw.\n",
       "    this._resize_canvas(600, 600);\n",
       "\n",
       "    // Disable right mouse context menu.\n",
       "    $(this.rubberband_canvas).bind(\"contextmenu\",function(e){\n",
       "        return false;\n",
       "    });\n",
       "\n",
       "    function set_focus () {\n",
       "        canvas.focus();\n",
       "        canvas_div.focus();\n",
       "    }\n",
       "\n",
       "    window.setTimeout(set_focus, 100);\n",
       "}\n",
       "\n",
       "mpl.figure.prototype._init_toolbar = function() {\n",
       "    var fig = this;\n",
       "\n",
       "    var nav_element = $('<div/>');\n",
       "    nav_element.attr('style', 'width: 100%');\n",
       "    this.root.append(nav_element);\n",
       "\n",
       "    // Define a callback function for later on.\n",
       "    function toolbar_event(event) {\n",
       "        return fig.toolbar_button_onclick(event['data']);\n",
       "    }\n",
       "    function toolbar_mouse_event(event) {\n",
       "        return fig.toolbar_button_onmouseover(event['data']);\n",
       "    }\n",
       "\n",
       "    for(var toolbar_ind in mpl.toolbar_items) {\n",
       "        var name = mpl.toolbar_items[toolbar_ind][0];\n",
       "        var tooltip = mpl.toolbar_items[toolbar_ind][1];\n",
       "        var image = mpl.toolbar_items[toolbar_ind][2];\n",
       "        var method_name = mpl.toolbar_items[toolbar_ind][3];\n",
       "\n",
       "        if (!name) {\n",
       "            // put a spacer in here.\n",
       "            continue;\n",
       "        }\n",
       "        var button = $('<button/>');\n",
       "        button.addClass('ui-button ui-widget ui-state-default ui-corner-all ' +\n",
       "                        'ui-button-icon-only');\n",
       "        button.attr('role', 'button');\n",
       "        button.attr('aria-disabled', 'false');\n",
       "        button.click(method_name, toolbar_event);\n",
       "        button.mouseover(tooltip, toolbar_mouse_event);\n",
       "\n",
       "        var icon_img = $('<span/>');\n",
       "        icon_img.addClass('ui-button-icon-primary ui-icon');\n",
       "        icon_img.addClass(image);\n",
       "        icon_img.addClass('ui-corner-all');\n",
       "\n",
       "        var tooltip_span = $('<span/>');\n",
       "        tooltip_span.addClass('ui-button-text');\n",
       "        tooltip_span.html(tooltip);\n",
       "\n",
       "        button.append(icon_img);\n",
       "        button.append(tooltip_span);\n",
       "\n",
       "        nav_element.append(button);\n",
       "    }\n",
       "\n",
       "    var fmt_picker_span = $('<span/>');\n",
       "\n",
       "    var fmt_picker = $('<select/>');\n",
       "    fmt_picker.addClass('mpl-toolbar-option ui-widget ui-widget-content');\n",
       "    fmt_picker_span.append(fmt_picker);\n",
       "    nav_element.append(fmt_picker_span);\n",
       "    this.format_dropdown = fmt_picker[0];\n",
       "\n",
       "    for (var ind in mpl.extensions) {\n",
       "        var fmt = mpl.extensions[ind];\n",
       "        var option = $(\n",
       "            '<option/>', {selected: fmt === mpl.default_extension}).html(fmt);\n",
       "        fmt_picker.append(option);\n",
       "    }\n",
       "\n",
       "    // Add hover states to the ui-buttons\n",
       "    $( \".ui-button\" ).hover(\n",
       "        function() { $(this).addClass(\"ui-state-hover\");},\n",
       "        function() { $(this).removeClass(\"ui-state-hover\");}\n",
       "    );\n",
       "\n",
       "    var status_bar = $('<span class=\"mpl-message\"/>');\n",
       "    nav_element.append(status_bar);\n",
       "    this.message = status_bar[0];\n",
       "}\n",
       "\n",
       "mpl.figure.prototype.request_resize = function(x_pixels, y_pixels) {\n",
       "    // Request matplotlib to resize the figure. Matplotlib will then trigger a resize in the client,\n",
       "    // which will in turn request a refresh of the image.\n",
       "    this.send_message('resize', {'width': x_pixels, 'height': y_pixels});\n",
       "}\n",
       "\n",
       "mpl.figure.prototype.send_message = function(type, properties) {\n",
       "    properties['type'] = type;\n",
       "    properties['figure_id'] = this.id;\n",
       "    this.ws.send(JSON.stringify(properties));\n",
       "}\n",
       "\n",
       "mpl.figure.prototype.send_draw_message = function() {\n",
       "    if (!this.waiting) {\n",
       "        this.waiting = true;\n",
       "        this.ws.send(JSON.stringify({type: \"draw\", figure_id: this.id}));\n",
       "    }\n",
       "}\n",
       "\n",
       "\n",
       "mpl.figure.prototype.handle_save = function(fig, msg) {\n",
       "    var format_dropdown = fig.format_dropdown;\n",
       "    var format = format_dropdown.options[format_dropdown.selectedIndex].value;\n",
       "    fig.ondownload(fig, format);\n",
       "}\n",
       "\n",
       "\n",
       "mpl.figure.prototype.handle_resize = function(fig, msg) {\n",
       "    var size = msg['size'];\n",
       "    if (size[0] != fig.canvas.width || size[1] != fig.canvas.height) {\n",
       "        fig._resize_canvas(size[0], size[1]);\n",
       "        fig.send_message(\"refresh\", {});\n",
       "    };\n",
       "}\n",
       "\n",
       "mpl.figure.prototype.handle_rubberband = function(fig, msg) {\n",
       "    var x0 = msg['x0'] / mpl.ratio;\n",
       "    var y0 = (fig.canvas.height - msg['y0']) / mpl.ratio;\n",
       "    var x1 = msg['x1'] / mpl.ratio;\n",
       "    var y1 = (fig.canvas.height - msg['y1']) / mpl.ratio;\n",
       "    x0 = Math.floor(x0) + 0.5;\n",
       "    y0 = Math.floor(y0) + 0.5;\n",
       "    x1 = Math.floor(x1) + 0.5;\n",
       "    y1 = Math.floor(y1) + 0.5;\n",
       "    var min_x = Math.min(x0, x1);\n",
       "    var min_y = Math.min(y0, y1);\n",
       "    var width = Math.abs(x1 - x0);\n",
       "    var height = Math.abs(y1 - y0);\n",
       "\n",
       "    fig.rubberband_context.clearRect(\n",
       "        0, 0, fig.canvas.width / mpl.ratio, fig.canvas.height / mpl.ratio);\n",
       "\n",
       "    fig.rubberband_context.strokeRect(min_x, min_y, width, height);\n",
       "}\n",
       "\n",
       "mpl.figure.prototype.handle_figure_label = function(fig, msg) {\n",
       "    // Updates the figure title.\n",
       "    fig.header.textContent = msg['label'];\n",
       "}\n",
       "\n",
       "mpl.figure.prototype.handle_cursor = function(fig, msg) {\n",
       "    var cursor = msg['cursor'];\n",
       "    switch(cursor)\n",
       "    {\n",
       "    case 0:\n",
       "        cursor = 'pointer';\n",
       "        break;\n",
       "    case 1:\n",
       "        cursor = 'default';\n",
       "        break;\n",
       "    case 2:\n",
       "        cursor = 'crosshair';\n",
       "        break;\n",
       "    case 3:\n",
       "        cursor = 'move';\n",
       "        break;\n",
       "    }\n",
       "    fig.rubberband_canvas.style.cursor = cursor;\n",
       "}\n",
       "\n",
       "mpl.figure.prototype.handle_message = function(fig, msg) {\n",
       "    fig.message.textContent = msg['message'];\n",
       "}\n",
       "\n",
       "mpl.figure.prototype.handle_draw = function(fig, msg) {\n",
       "    // Request the server to send over a new figure.\n",
       "    fig.send_draw_message();\n",
       "}\n",
       "\n",
       "mpl.figure.prototype.handle_image_mode = function(fig, msg) {\n",
       "    fig.image_mode = msg['mode'];\n",
       "}\n",
       "\n",
       "mpl.figure.prototype.updated_canvas_event = function() {\n",
       "    // Called whenever the canvas gets updated.\n",
       "    this.send_message(\"ack\", {});\n",
       "}\n",
       "\n",
       "// A function to construct a web socket function for onmessage handling.\n",
       "// Called in the figure constructor.\n",
       "mpl.figure.prototype._make_on_message_function = function(fig) {\n",
       "    return function socket_on_message(evt) {\n",
       "        if (evt.data instanceof Blob) {\n",
       "            /* FIXME: We get \"Resource interpreted as Image but\n",
       "             * transferred with MIME type text/plain:\" errors on\n",
       "             * Chrome.  But how to set the MIME type?  It doesn't seem\n",
       "             * to be part of the websocket stream */\n",
       "            evt.data.type = \"image/png\";\n",
       "\n",
       "            /* Free the memory for the previous frames */\n",
       "            if (fig.imageObj.src) {\n",
       "                (window.URL || window.webkitURL).revokeObjectURL(\n",
       "                    fig.imageObj.src);\n",
       "            }\n",
       "\n",
       "            fig.imageObj.src = (window.URL || window.webkitURL).createObjectURL(\n",
       "                evt.data);\n",
       "            fig.updated_canvas_event();\n",
       "            fig.waiting = false;\n",
       "            return;\n",
       "        }\n",
       "        else if (typeof evt.data === 'string' && evt.data.slice(0, 21) == \"data:image/png;base64\") {\n",
       "            fig.imageObj.src = evt.data;\n",
       "            fig.updated_canvas_event();\n",
       "            fig.waiting = false;\n",
       "            return;\n",
       "        }\n",
       "\n",
       "        var msg = JSON.parse(evt.data);\n",
       "        var msg_type = msg['type'];\n",
       "\n",
       "        // Call the  \"handle_{type}\" callback, which takes\n",
       "        // the figure and JSON message as its only arguments.\n",
       "        try {\n",
       "            var callback = fig[\"handle_\" + msg_type];\n",
       "        } catch (e) {\n",
       "            console.log(\"No handler for the '\" + msg_type + \"' message type: \", msg);\n",
       "            return;\n",
       "        }\n",
       "\n",
       "        if (callback) {\n",
       "            try {\n",
       "                // console.log(\"Handling '\" + msg_type + \"' message: \", msg);\n",
       "                callback(fig, msg);\n",
       "            } catch (e) {\n",
       "                console.log(\"Exception inside the 'handler_\" + msg_type + \"' callback:\", e, e.stack, msg);\n",
       "            }\n",
       "        }\n",
       "    };\n",
       "}\n",
       "\n",
       "// from http://stackoverflow.com/questions/1114465/getting-mouse-location-in-canvas\n",
       "mpl.findpos = function(e) {\n",
       "    //this section is from http://www.quirksmode.org/js/events_properties.html\n",
       "    var targ;\n",
       "    if (!e)\n",
       "        e = window.event;\n",
       "    if (e.target)\n",
       "        targ = e.target;\n",
       "    else if (e.srcElement)\n",
       "        targ = e.srcElement;\n",
       "    if (targ.nodeType == 3) // defeat Safari bug\n",
       "        targ = targ.parentNode;\n",
       "\n",
       "    // jQuery normalizes the pageX and pageY\n",
       "    // pageX,Y are the mouse positions relative to the document\n",
       "    // offset() returns the position of the element relative to the document\n",
       "    var x = e.pageX - $(targ).offset().left;\n",
       "    var y = e.pageY - $(targ).offset().top;\n",
       "\n",
       "    return {\"x\": x, \"y\": y};\n",
       "};\n",
       "\n",
       "/*\n",
       " * return a copy of an object with only non-object keys\n",
       " * we need this to avoid circular references\n",
       " * http://stackoverflow.com/a/24161582/3208463\n",
       " */\n",
       "function simpleKeys (original) {\n",
       "  return Object.keys(original).reduce(function (obj, key) {\n",
       "    if (typeof original[key] !== 'object')\n",
       "        obj[key] = original[key]\n",
       "    return obj;\n",
       "  }, {});\n",
       "}\n",
       "\n",
       "mpl.figure.prototype.mouse_event = function(event, name) {\n",
       "    var canvas_pos = mpl.findpos(event)\n",
       "\n",
       "    if (name === 'button_press')\n",
       "    {\n",
       "        this.canvas.focus();\n",
       "        this.canvas_div.focus();\n",
       "    }\n",
       "\n",
       "    var x = canvas_pos.x * mpl.ratio;\n",
       "    var y = canvas_pos.y * mpl.ratio;\n",
       "\n",
       "    this.send_message(name, {x: x, y: y, button: event.button,\n",
       "                             step: event.step,\n",
       "                             guiEvent: simpleKeys(event)});\n",
       "\n",
       "    /* This prevents the web browser from automatically changing to\n",
       "     * the text insertion cursor when the button is pressed.  We want\n",
       "     * to control all of the cursor setting manually through the\n",
       "     * 'cursor' event from matplotlib */\n",
       "    event.preventDefault();\n",
       "    return false;\n",
       "}\n",
       "\n",
       "mpl.figure.prototype._key_event_extra = function(event, name) {\n",
       "    // Handle any extra behaviour associated with a key event\n",
       "}\n",
       "\n",
       "mpl.figure.prototype.key_event = function(event, name) {\n",
       "\n",
       "    // Prevent repeat events\n",
       "    if (name == 'key_press')\n",
       "    {\n",
       "        if (event.which === this._key)\n",
       "            return;\n",
       "        else\n",
       "            this._key = event.which;\n",
       "    }\n",
       "    if (name == 'key_release')\n",
       "        this._key = null;\n",
       "\n",
       "    var value = '';\n",
       "    if (event.ctrlKey && event.which != 17)\n",
       "        value += \"ctrl+\";\n",
       "    if (event.altKey && event.which != 18)\n",
       "        value += \"alt+\";\n",
       "    if (event.shiftKey && event.which != 16)\n",
       "        value += \"shift+\";\n",
       "\n",
       "    value += 'k';\n",
       "    value += event.which.toString();\n",
       "\n",
       "    this._key_event_extra(event, name);\n",
       "\n",
       "    this.send_message(name, {key: value,\n",
       "                             guiEvent: simpleKeys(event)});\n",
       "    return false;\n",
       "}\n",
       "\n",
       "mpl.figure.prototype.toolbar_button_onclick = function(name) {\n",
       "    if (name == 'download') {\n",
       "        this.handle_save(this, null);\n",
       "    } else {\n",
       "        this.send_message(\"toolbar_button\", {name: name});\n",
       "    }\n",
       "};\n",
       "\n",
       "mpl.figure.prototype.toolbar_button_onmouseover = function(tooltip) {\n",
       "    this.message.textContent = tooltip;\n",
       "};\n",
       "mpl.toolbar_items = [[\"Home\", \"Reset original view\", \"fa fa-home icon-home\", \"home\"], [\"Back\", \"Back to previous view\", \"fa fa-arrow-left icon-arrow-left\", \"back\"], [\"Forward\", \"Forward to next view\", \"fa fa-arrow-right icon-arrow-right\", \"forward\"], [\"\", \"\", \"\", \"\"], [\"Pan\", \"Pan axes with left mouse, zoom with right\", \"fa fa-arrows icon-move\", \"pan\"], [\"Zoom\", \"Zoom to rectangle\", \"fa fa-square-o icon-check-empty\", \"zoom\"], [\"\", \"\", \"\", \"\"], [\"Download\", \"Download plot\", \"fa fa-floppy-o icon-save\", \"download\"]];\n",
       "\n",
       "mpl.extensions = [\"eps\", \"jpeg\", \"pdf\", \"png\", \"ps\", \"raw\", \"svg\", \"tif\"];\n",
       "\n",
       "mpl.default_extension = \"png\";var comm_websocket_adapter = function(comm) {\n",
       "    // Create a \"websocket\"-like object which calls the given IPython comm\n",
       "    // object with the appropriate methods. Currently this is a non binary\n",
       "    // socket, so there is still some room for performance tuning.\n",
       "    var ws = {};\n",
       "\n",
       "    ws.close = function() {\n",
       "        comm.close()\n",
       "    };\n",
       "    ws.send = function(m) {\n",
       "        //console.log('sending', m);\n",
       "        comm.send(m);\n",
       "    };\n",
       "    // Register the callback with on_msg.\n",
       "    comm.on_msg(function(msg) {\n",
       "        //console.log('receiving', msg['content']['data'], msg);\n",
       "        // Pass the mpl event to the overridden (by mpl) onmessage function.\n",
       "        ws.onmessage(msg['content']['data'])\n",
       "    });\n",
       "    return ws;\n",
       "}\n",
       "\n",
       "mpl.mpl_figure_comm = function(comm, msg) {\n",
       "    // This is the function which gets called when the mpl process\n",
       "    // starts-up an IPython Comm through the \"matplotlib\" channel.\n",
       "\n",
       "    var id = msg.content.data.id;\n",
       "    // Get hold of the div created by the display call when the Comm\n",
       "    // socket was opened in Python.\n",
       "    var element = $(\"#\" + id);\n",
       "    var ws_proxy = comm_websocket_adapter(comm)\n",
       "\n",
       "    function ondownload(figure, format) {\n",
       "        window.open(figure.imageObj.src);\n",
       "    }\n",
       "\n",
       "    var fig = new mpl.figure(id, ws_proxy,\n",
       "                           ondownload,\n",
       "                           element.get(0));\n",
       "\n",
       "    // Call onopen now - mpl needs it, as it is assuming we've passed it a real\n",
       "    // web socket which is closed, not our websocket->open comm proxy.\n",
       "    ws_proxy.onopen();\n",
       "\n",
       "    fig.parent_element = element.get(0);\n",
       "    fig.cell_info = mpl.find_output_cell(\"<div id='\" + id + \"'></div>\");\n",
       "    if (!fig.cell_info) {\n",
       "        console.error(\"Failed to find cell for figure\", id, fig);\n",
       "        return;\n",
       "    }\n",
       "\n",
       "    var output_index = fig.cell_info[2]\n",
       "    var cell = fig.cell_info[0];\n",
       "\n",
       "};\n",
       "\n",
       "mpl.figure.prototype.handle_close = function(fig, msg) {\n",
       "    var width = fig.canvas.width/mpl.ratio\n",
       "    fig.root.unbind('remove')\n",
       "\n",
       "    // Update the output cell to use the data from the current canvas.\n",
       "    fig.push_to_output();\n",
       "    var dataURL = fig.canvas.toDataURL();\n",
       "    // Re-enable the keyboard manager in IPython - without this line, in FF,\n",
       "    // the notebook keyboard shortcuts fail.\n",
       "    IPython.keyboard_manager.enable()\n",
       "    $(fig.parent_element).html('<img src=\"' + dataURL + '\" width=\"' + width + '\">');\n",
       "    fig.close_ws(fig, msg);\n",
       "}\n",
       "\n",
       "mpl.figure.prototype.close_ws = function(fig, msg){\n",
       "    fig.send_message('closing', msg);\n",
       "    // fig.ws.close()\n",
       "}\n",
       "\n",
       "mpl.figure.prototype.push_to_output = function(remove_interactive) {\n",
       "    // Turn the data on the canvas into data in the output cell.\n",
       "    var width = this.canvas.width/mpl.ratio\n",
       "    var dataURL = this.canvas.toDataURL();\n",
       "    this.cell_info[1]['text/html'] = '<img src=\"' + dataURL + '\" width=\"' + width + '\">';\n",
       "}\n",
       "\n",
       "mpl.figure.prototype.updated_canvas_event = function() {\n",
       "    // Tell IPython that the notebook contents must change.\n",
       "    IPython.notebook.set_dirty(true);\n",
       "    this.send_message(\"ack\", {});\n",
       "    var fig = this;\n",
       "    // Wait a second, then push the new image to the DOM so\n",
       "    // that it is saved nicely (might be nice to debounce this).\n",
       "    setTimeout(function () { fig.push_to_output() }, 1000);\n",
       "}\n",
       "\n",
       "mpl.figure.prototype._init_toolbar = function() {\n",
       "    var fig = this;\n",
       "\n",
       "    var nav_element = $('<div/>');\n",
       "    nav_element.attr('style', 'width: 100%');\n",
       "    this.root.append(nav_element);\n",
       "\n",
       "    // Define a callback function for later on.\n",
       "    function toolbar_event(event) {\n",
       "        return fig.toolbar_button_onclick(event['data']);\n",
       "    }\n",
       "    function toolbar_mouse_event(event) {\n",
       "        return fig.toolbar_button_onmouseover(event['data']);\n",
       "    }\n",
       "\n",
       "    for(var toolbar_ind in mpl.toolbar_items){\n",
       "        var name = mpl.toolbar_items[toolbar_ind][0];\n",
       "        var tooltip = mpl.toolbar_items[toolbar_ind][1];\n",
       "        var image = mpl.toolbar_items[toolbar_ind][2];\n",
       "        var method_name = mpl.toolbar_items[toolbar_ind][3];\n",
       "\n",
       "        if (!name) { continue; };\n",
       "\n",
       "        var button = $('<button class=\"btn btn-default\" href=\"#\" title=\"' + name + '\"><i class=\"fa ' + image + ' fa-lg\"></i></button>');\n",
       "        button.click(method_name, toolbar_event);\n",
       "        button.mouseover(tooltip, toolbar_mouse_event);\n",
       "        nav_element.append(button);\n",
       "    }\n",
       "\n",
       "    // Add the status bar.\n",
       "    var status_bar = $('<span class=\"mpl-message\" style=\"text-align:right; float: right;\"/>');\n",
       "    nav_element.append(status_bar);\n",
       "    this.message = status_bar[0];\n",
       "\n",
       "    // Add the close button to the window.\n",
       "    var buttongrp = $('<div class=\"btn-group inline pull-right\"></div>');\n",
       "    var button = $('<button class=\"btn btn-mini btn-primary\" href=\"#\" title=\"Stop Interaction\"><i class=\"fa fa-power-off icon-remove icon-large\"></i></button>');\n",
       "    button.click(function (evt) { fig.handle_close(fig, {}); } );\n",
       "    button.mouseover('Stop Interaction', toolbar_mouse_event);\n",
       "    buttongrp.append(button);\n",
       "    var titlebar = this.root.find($('.ui-dialog-titlebar'));\n",
       "    titlebar.prepend(buttongrp);\n",
       "}\n",
       "\n",
       "mpl.figure.prototype._root_extra_style = function(el){\n",
       "    var fig = this\n",
       "    el.on(\"remove\", function(){\n",
       "\tfig.close_ws(fig, {});\n",
       "    });\n",
       "}\n",
       "\n",
       "mpl.figure.prototype._canvas_extra_style = function(el){\n",
       "    // this is important to make the div 'focusable\n",
       "    el.attr('tabindex', 0)\n",
       "    // reach out to IPython and tell the keyboard manager to turn it's self\n",
       "    // off when our div gets focus\n",
       "\n",
       "    // location in version 3\n",
       "    if (IPython.notebook.keyboard_manager) {\n",
       "        IPython.notebook.keyboard_manager.register_events(el);\n",
       "    }\n",
       "    else {\n",
       "        // location in version 2\n",
       "        IPython.keyboard_manager.register_events(el);\n",
       "    }\n",
       "\n",
       "}\n",
       "\n",
       "mpl.figure.prototype._key_event_extra = function(event, name) {\n",
       "    var manager = IPython.notebook.keyboard_manager;\n",
       "    if (!manager)\n",
       "        manager = IPython.keyboard_manager;\n",
       "\n",
       "    // Check for shift+enter\n",
       "    if (event.shiftKey && event.which == 13) {\n",
       "        this.canvas_div.blur();\n",
       "        event.shiftKey = false;\n",
       "        // Send a \"J\" for go to next cell\n",
       "        event.which = 74;\n",
       "        event.keyCode = 74;\n",
       "        manager.command_mode();\n",
       "        manager.handle_keydown(event);\n",
       "    }\n",
       "}\n",
       "\n",
       "mpl.figure.prototype.handle_save = function(fig, msg) {\n",
       "    fig.ondownload(fig, null);\n",
       "}\n",
       "\n",
       "\n",
       "mpl.find_output_cell = function(html_output) {\n",
       "    // Return the cell and output element which can be found *uniquely* in the notebook.\n",
       "    // Note - this is a bit hacky, but it is done because the \"notebook_saving.Notebook\"\n",
       "    // IPython event is triggered only after the cells have been serialised, which for\n",
       "    // our purposes (turning an active figure into a static one), is too late.\n",
       "    var cells = IPython.notebook.get_cells();\n",
       "    var ncells = cells.length;\n",
       "    for (var i=0; i<ncells; i++) {\n",
       "        var cell = cells[i];\n",
       "        if (cell.cell_type === 'code'){\n",
       "            for (var j=0; j<cell.output_area.outputs.length; j++) {\n",
       "                var data = cell.output_area.outputs[j];\n",
       "                if (data.data) {\n",
       "                    // IPython >= 3 moved mimebundle to data attribute of output\n",
       "                    data = data.data;\n",
       "                }\n",
       "                if (data['text/html'] == html_output) {\n",
       "                    return [cell, data, j];\n",
       "                }\n",
       "            }\n",
       "        }\n",
       "    }\n",
       "}\n",
       "\n",
       "// Register the function which deals with the matplotlib target/channel.\n",
       "// The kernel may be null if the page has been refreshed.\n",
       "if (IPython.notebook.kernel != null) {\n",
       "    IPython.notebook.kernel.comm_manager.register_target('matplotlib', mpl.mpl_figure_comm);\n",
       "}\n"
      ],
      "text/plain": [
       "<IPython.core.display.Javascript object>"
      ]
     },
     "metadata": {},
     "output_type": "display_data"
    },
    {
     "data": {
      "text/html": [
       "<img src=\"data:image/png;base64,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\" width=\"719.999989271164\">"
      ],
      "text/plain": [
       "<IPython.core.display.HTML object>"
      ]
     },
     "metadata": {},
     "output_type": "display_data"
    }
   ],
   "source": [
    "# Answer here:\n",
    "%matplotlib notebook\n",
    "%matplotlib notebook\n",
    "from sklearn.decomposition import PCA\n",
    "from mpl_toolkits.mplot3d import Axes3D\n",
    "\n",
    "\n",
    "# plot\n",
    "fig = plt.figure(figsize = (10,5))\n",
    "ax = Axes3D(fig, rect=[0, 0, .95, 1], elev=30, azim=-60)\n",
    "\n",
    "X_reduced = PCA(n_components = 3).fit_transform(X_counts.toarray())\n",
    "col = ['coral', 'blue', 'black', 'm']\n",
    "\n",
    "\n",
    "for c, category in zip(col, categories):\n",
    "    xs = X_reduced[X['category_name'] == category].T[0]\n",
    "    ys = X_reduced[X['category_name'] == category].T[1]\n",
    "    zs = X_reduced[X['category_name'] == category].T[2] #added 3rd dimension\n",
    "    ax.scatter(xs, ys, zs, c = c, marker='o')\n",
    "   \n",
    "\n",
    "ax.grid(color='gray', linestyle=':', linewidth=2, alpha=0.2)\n",
    "ax.set_xlabel('\\nX Label')\n",
    "ax.set_ylabel('\\nY Label')\n",
    "ax.set_zlabel('\\nZ Label')\n",
    "\n",
    "plt.show()"
   ]
  },
  {
   "cell_type": "markdown",
   "metadata": {},
   "source": [
    "To view from different angles, we can interactively rotate the figure above or edit the \"azim\" param in Axes3D in the code above then rerun the cell. Along the 3 axes we see that the data is a bit more separated (hinting most variance is captured along X and Y axis / first 2 principal components). However the purple, black, blue, and orange points are still mostly clumped together along the area around (x= -170, y=150, z=-105) making it hard to separate the data."
   ]
  },
  {
   "cell_type": "markdown",
   "metadata": {},
   "source": [
    "<div style='background: #7fffd4'> <h1> >>> Exercise 13 (take home): </h1>\n",
    "If you want a nicer interactive visualization here, I would encourage you try to install and use plotly to achieve this. </div>"
   ]
  },
  {
   "cell_type": "code",
   "execution_count": 31,
   "metadata": {},
   "outputs": [],
   "source": [
    "# compute term frequencies\n",
    "# note this takes time to compute. You may want to reduce the amount of terms you want to compute frequencies for\n",
    "term_frequencies = []\n",
    "for j in range(0,X_counts.shape[1]):\n",
    "    term_frequencies.append(sum(X_counts[:,j].toarray()))"
   ]
  },
  {
   "cell_type": "code",
   "execution_count": 37,
   "metadata": {},
   "outputs": [
    {
     "data": {
      "application/javascript": [
       "/* Put everything inside the global mpl namespace */\n",
       "window.mpl = {};\n",
       "\n",
       "\n",
       "mpl.get_websocket_type = function() {\n",
       "    if (typeof(WebSocket) !== 'undefined') {\n",
       "        return WebSocket;\n",
       "    } else if (typeof(MozWebSocket) !== 'undefined') {\n",
       "        return MozWebSocket;\n",
       "    } else {\n",
       "        alert('Your browser does not have WebSocket support. ' +\n",
       "              'Please try Chrome, Safari or Firefox ≥ 6. ' +\n",
       "              'Firefox 4 and 5 are also supported but you ' +\n",
       "              'have to enable WebSockets in about:config.');\n",
       "    };\n",
       "}\n",
       "\n",
       "mpl.figure = function(figure_id, websocket, ondownload, parent_element) {\n",
       "    this.id = figure_id;\n",
       "\n",
       "    this.ws = websocket;\n",
       "\n",
       "    this.supports_binary = (this.ws.binaryType != undefined);\n",
       "\n",
       "    if (!this.supports_binary) {\n",
       "        var warnings = document.getElementById(\"mpl-warnings\");\n",
       "        if (warnings) {\n",
       "            warnings.style.display = 'block';\n",
       "            warnings.textContent = (\n",
       "                \"This browser does not support binary websocket messages. \" +\n",
       "                    \"Performance may be slow.\");\n",
       "        }\n",
       "    }\n",
       "\n",
       "    this.imageObj = new Image();\n",
       "\n",
       "    this.context = undefined;\n",
       "    this.message = undefined;\n",
       "    this.canvas = undefined;\n",
       "    this.rubberband_canvas = undefined;\n",
       "    this.rubberband_context = undefined;\n",
       "    this.format_dropdown = undefined;\n",
       "\n",
       "    this.image_mode = 'full';\n",
       "\n",
       "    this.root = $('<div/>');\n",
       "    this._root_extra_style(this.root)\n",
       "    this.root.attr('style', 'display: inline-block');\n",
       "\n",
       "    $(parent_element).append(this.root);\n",
       "\n",
       "    this._init_header(this);\n",
       "    this._init_canvas(this);\n",
       "    this._init_toolbar(this);\n",
       "\n",
       "    var fig = this;\n",
       "\n",
       "    this.waiting = false;\n",
       "\n",
       "    this.ws.onopen =  function () {\n",
       "            fig.send_message(\"supports_binary\", {value: fig.supports_binary});\n",
       "            fig.send_message(\"send_image_mode\", {});\n",
       "            if (mpl.ratio != 1) {\n",
       "                fig.send_message(\"set_dpi_ratio\", {'dpi_ratio': mpl.ratio});\n",
       "            }\n",
       "            fig.send_message(\"refresh\", {});\n",
       "        }\n",
       "\n",
       "    this.imageObj.onload = function() {\n",
       "            if (fig.image_mode == 'full') {\n",
       "                // Full images could contain transparency (where diff images\n",
       "                // almost always do), so we need to clear the canvas so that\n",
       "                // there is no ghosting.\n",
       "                fig.context.clearRect(0, 0, fig.canvas.width, fig.canvas.height);\n",
       "            }\n",
       "            fig.context.drawImage(fig.imageObj, 0, 0);\n",
       "        };\n",
       "\n",
       "    this.imageObj.onunload = function() {\n",
       "        fig.ws.close();\n",
       "    }\n",
       "\n",
       "    this.ws.onmessage = this._make_on_message_function(this);\n",
       "\n",
       "    this.ondownload = ondownload;\n",
       "}\n",
       "\n",
       "mpl.figure.prototype._init_header = function() {\n",
       "    var titlebar = $(\n",
       "        '<div class=\"ui-dialog-titlebar ui-widget-header ui-corner-all ' +\n",
       "        'ui-helper-clearfix\"/>');\n",
       "    var titletext = $(\n",
       "        '<div class=\"ui-dialog-title\" style=\"width: 100%; ' +\n",
       "        'text-align: center; padding: 3px;\"/>');\n",
       "    titlebar.append(titletext)\n",
       "    this.root.append(titlebar);\n",
       "    this.header = titletext[0];\n",
       "}\n",
       "\n",
       "\n",
       "\n",
       "mpl.figure.prototype._canvas_extra_style = function(canvas_div) {\n",
       "\n",
       "}\n",
       "\n",
       "\n",
       "mpl.figure.prototype._root_extra_style = function(canvas_div) {\n",
       "\n",
       "}\n",
       "\n",
       "mpl.figure.prototype._init_canvas = function() {\n",
       "    var fig = this;\n",
       "\n",
       "    var canvas_div = $('<div/>');\n",
       "\n",
       "    canvas_div.attr('style', 'position: relative; clear: both; outline: 0');\n",
       "\n",
       "    function canvas_keyboard_event(event) {\n",
       "        return fig.key_event(event, event['data']);\n",
       "    }\n",
       "\n",
       "    canvas_div.keydown('key_press', canvas_keyboard_event);\n",
       "    canvas_div.keyup('key_release', canvas_keyboard_event);\n",
       "    this.canvas_div = canvas_div\n",
       "    this._canvas_extra_style(canvas_div)\n",
       "    this.root.append(canvas_div);\n",
       "\n",
       "    var canvas = $('<canvas/>');\n",
       "    canvas.addClass('mpl-canvas');\n",
       "    canvas.attr('style', \"left: 0; top: 0; z-index: 0; outline: 0\")\n",
       "\n",
       "    this.canvas = canvas[0];\n",
       "    this.context = canvas[0].getContext(\"2d\");\n",
       "\n",
       "    var backingStore = this.context.backingStorePixelRatio ||\n",
       "\tthis.context.webkitBackingStorePixelRatio ||\n",
       "\tthis.context.mozBackingStorePixelRatio ||\n",
       "\tthis.context.msBackingStorePixelRatio ||\n",
       "\tthis.context.oBackingStorePixelRatio ||\n",
       "\tthis.context.backingStorePixelRatio || 1;\n",
       "\n",
       "    mpl.ratio = (window.devicePixelRatio || 1) / backingStore;\n",
       "\n",
       "    var rubberband = $('<canvas/>');\n",
       "    rubberband.attr('style', \"position: absolute; left: 0; top: 0; z-index: 1;\")\n",
       "\n",
       "    var pass_mouse_events = true;\n",
       "\n",
       "    canvas_div.resizable({\n",
       "        start: function(event, ui) {\n",
       "            pass_mouse_events = false;\n",
       "        },\n",
       "        resize: function(event, ui) {\n",
       "            fig.request_resize(ui.size.width, ui.size.height);\n",
       "        },\n",
       "        stop: function(event, ui) {\n",
       "            pass_mouse_events = true;\n",
       "            fig.request_resize(ui.size.width, ui.size.height);\n",
       "        },\n",
       "    });\n",
       "\n",
       "    function mouse_event_fn(event) {\n",
       "        if (pass_mouse_events)\n",
       "            return fig.mouse_event(event, event['data']);\n",
       "    }\n",
       "\n",
       "    rubberband.mousedown('button_press', mouse_event_fn);\n",
       "    rubberband.mouseup('button_release', mouse_event_fn);\n",
       "    // Throttle sequential mouse events to 1 every 20ms.\n",
       "    rubberband.mousemove('motion_notify', mouse_event_fn);\n",
       "\n",
       "    rubberband.mouseenter('figure_enter', mouse_event_fn);\n",
       "    rubberband.mouseleave('figure_leave', mouse_event_fn);\n",
       "\n",
       "    canvas_div.on(\"wheel\", function (event) {\n",
       "        event = event.originalEvent;\n",
       "        event['data'] = 'scroll'\n",
       "        if (event.deltaY < 0) {\n",
       "            event.step = 1;\n",
       "        } else {\n",
       "            event.step = -1;\n",
       "        }\n",
       "        mouse_event_fn(event);\n",
       "    });\n",
       "\n",
       "    canvas_div.append(canvas);\n",
       "    canvas_div.append(rubberband);\n",
       "\n",
       "    this.rubberband = rubberband;\n",
       "    this.rubberband_canvas = rubberband[0];\n",
       "    this.rubberband_context = rubberband[0].getContext(\"2d\");\n",
       "    this.rubberband_context.strokeStyle = \"#000000\";\n",
       "\n",
       "    this._resize_canvas = function(width, height) {\n",
       "        // Keep the size of the canvas, canvas container, and rubber band\n",
       "        // canvas in synch.\n",
       "        canvas_div.css('width', width)\n",
       "        canvas_div.css('height', height)\n",
       "\n",
       "        canvas.attr('width', width * mpl.ratio);\n",
       "        canvas.attr('height', height * mpl.ratio);\n",
       "        canvas.attr('style', 'width: ' + width + 'px; height: ' + height + 'px;');\n",
       "\n",
       "        rubberband.attr('width', width);\n",
       "        rubberband.attr('height', height);\n",
       "    }\n",
       "\n",
       "    // Set the figure to an initial 600x600px, this will subsequently be updated\n",
       "    // upon first draw.\n",
       "    this._resize_canvas(600, 600);\n",
       "\n",
       "    // Disable right mouse context menu.\n",
       "    $(this.rubberband_canvas).bind(\"contextmenu\",function(e){\n",
       "        return false;\n",
       "    });\n",
       "\n",
       "    function set_focus () {\n",
       "        canvas.focus();\n",
       "        canvas_div.focus();\n",
       "    }\n",
       "\n",
       "    window.setTimeout(set_focus, 100);\n",
       "}\n",
       "\n",
       "mpl.figure.prototype._init_toolbar = function() {\n",
       "    var fig = this;\n",
       "\n",
       "    var nav_element = $('<div/>');\n",
       "    nav_element.attr('style', 'width: 100%');\n",
       "    this.root.append(nav_element);\n",
       "\n",
       "    // Define a callback function for later on.\n",
       "    function toolbar_event(event) {\n",
       "        return fig.toolbar_button_onclick(event['data']);\n",
       "    }\n",
       "    function toolbar_mouse_event(event) {\n",
       "        return fig.toolbar_button_onmouseover(event['data']);\n",
       "    }\n",
       "\n",
       "    for(var toolbar_ind in mpl.toolbar_items) {\n",
       "        var name = mpl.toolbar_items[toolbar_ind][0];\n",
       "        var tooltip = mpl.toolbar_items[toolbar_ind][1];\n",
       "        var image = mpl.toolbar_items[toolbar_ind][2];\n",
       "        var method_name = mpl.toolbar_items[toolbar_ind][3];\n",
       "\n",
       "        if (!name) {\n",
       "            // put a spacer in here.\n",
       "            continue;\n",
       "        }\n",
       "        var button = $('<button/>');\n",
       "        button.addClass('ui-button ui-widget ui-state-default ui-corner-all ' +\n",
       "                        'ui-button-icon-only');\n",
       "        button.attr('role', 'button');\n",
       "        button.attr('aria-disabled', 'false');\n",
       "        button.click(method_name, toolbar_event);\n",
       "        button.mouseover(tooltip, toolbar_mouse_event);\n",
       "\n",
       "        var icon_img = $('<span/>');\n",
       "        icon_img.addClass('ui-button-icon-primary ui-icon');\n",
       "        icon_img.addClass(image);\n",
       "        icon_img.addClass('ui-corner-all');\n",
       "\n",
       "        var tooltip_span = $('<span/>');\n",
       "        tooltip_span.addClass('ui-button-text');\n",
       "        tooltip_span.html(tooltip);\n",
       "\n",
       "        button.append(icon_img);\n",
       "        button.append(tooltip_span);\n",
       "\n",
       "        nav_element.append(button);\n",
       "    }\n",
       "\n",
       "    var fmt_picker_span = $('<span/>');\n",
       "\n",
       "    var fmt_picker = $('<select/>');\n",
       "    fmt_picker.addClass('mpl-toolbar-option ui-widget ui-widget-content');\n",
       "    fmt_picker_span.append(fmt_picker);\n",
       "    nav_element.append(fmt_picker_span);\n",
       "    this.format_dropdown = fmt_picker[0];\n",
       "\n",
       "    for (var ind in mpl.extensions) {\n",
       "        var fmt = mpl.extensions[ind];\n",
       "        var option = $(\n",
       "            '<option/>', {selected: fmt === mpl.default_extension}).html(fmt);\n",
       "        fmt_picker.append(option);\n",
       "    }\n",
       "\n",
       "    // Add hover states to the ui-buttons\n",
       "    $( \".ui-button\" ).hover(\n",
       "        function() { $(this).addClass(\"ui-state-hover\");},\n",
       "        function() { $(this).removeClass(\"ui-state-hover\");}\n",
       "    );\n",
       "\n",
       "    var status_bar = $('<span class=\"mpl-message\"/>');\n",
       "    nav_element.append(status_bar);\n",
       "    this.message = status_bar[0];\n",
       "}\n",
       "\n",
       "mpl.figure.prototype.request_resize = function(x_pixels, y_pixels) {\n",
       "    // Request matplotlib to resize the figure. Matplotlib will then trigger a resize in the client,\n",
       "    // which will in turn request a refresh of the image.\n",
       "    this.send_message('resize', {'width': x_pixels, 'height': y_pixels});\n",
       "}\n",
       "\n",
       "mpl.figure.prototype.send_message = function(type, properties) {\n",
       "    properties['type'] = type;\n",
       "    properties['figure_id'] = this.id;\n",
       "    this.ws.send(JSON.stringify(properties));\n",
       "}\n",
       "\n",
       "mpl.figure.prototype.send_draw_message = function() {\n",
       "    if (!this.waiting) {\n",
       "        this.waiting = true;\n",
       "        this.ws.send(JSON.stringify({type: \"draw\", figure_id: this.id}));\n",
       "    }\n",
       "}\n",
       "\n",
       "\n",
       "mpl.figure.prototype.handle_save = function(fig, msg) {\n",
       "    var format_dropdown = fig.format_dropdown;\n",
       "    var format = format_dropdown.options[format_dropdown.selectedIndex].value;\n",
       "    fig.ondownload(fig, format);\n",
       "}\n",
       "\n",
       "\n",
       "mpl.figure.prototype.handle_resize = function(fig, msg) {\n",
       "    var size = msg['size'];\n",
       "    if (size[0] != fig.canvas.width || size[1] != fig.canvas.height) {\n",
       "        fig._resize_canvas(size[0], size[1]);\n",
       "        fig.send_message(\"refresh\", {});\n",
       "    };\n",
       "}\n",
       "\n",
       "mpl.figure.prototype.handle_rubberband = function(fig, msg) {\n",
       "    var x0 = msg['x0'] / mpl.ratio;\n",
       "    var y0 = (fig.canvas.height - msg['y0']) / mpl.ratio;\n",
       "    var x1 = msg['x1'] / mpl.ratio;\n",
       "    var y1 = (fig.canvas.height - msg['y1']) / mpl.ratio;\n",
       "    x0 = Math.floor(x0) + 0.5;\n",
       "    y0 = Math.floor(y0) + 0.5;\n",
       "    x1 = Math.floor(x1) + 0.5;\n",
       "    y1 = Math.floor(y1) + 0.5;\n",
       "    var min_x = Math.min(x0, x1);\n",
       "    var min_y = Math.min(y0, y1);\n",
       "    var width = Math.abs(x1 - x0);\n",
       "    var height = Math.abs(y1 - y0);\n",
       "\n",
       "    fig.rubberband_context.clearRect(\n",
       "        0, 0, fig.canvas.width / mpl.ratio, fig.canvas.height / mpl.ratio);\n",
       "\n",
       "    fig.rubberband_context.strokeRect(min_x, min_y, width, height);\n",
       "}\n",
       "\n",
       "mpl.figure.prototype.handle_figure_label = function(fig, msg) {\n",
       "    // Updates the figure title.\n",
       "    fig.header.textContent = msg['label'];\n",
       "}\n",
       "\n",
       "mpl.figure.prototype.handle_cursor = function(fig, msg) {\n",
       "    var cursor = msg['cursor'];\n",
       "    switch(cursor)\n",
       "    {\n",
       "    case 0:\n",
       "        cursor = 'pointer';\n",
       "        break;\n",
       "    case 1:\n",
       "        cursor = 'default';\n",
       "        break;\n",
       "    case 2:\n",
       "        cursor = 'crosshair';\n",
       "        break;\n",
       "    case 3:\n",
       "        cursor = 'move';\n",
       "        break;\n",
       "    }\n",
       "    fig.rubberband_canvas.style.cursor = cursor;\n",
       "}\n",
       "\n",
       "mpl.figure.prototype.handle_message = function(fig, msg) {\n",
       "    fig.message.textContent = msg['message'];\n",
       "}\n",
       "\n",
       "mpl.figure.prototype.handle_draw = function(fig, msg) {\n",
       "    // Request the server to send over a new figure.\n",
       "    fig.send_draw_message();\n",
       "}\n",
       "\n",
       "mpl.figure.prototype.handle_image_mode = function(fig, msg) {\n",
       "    fig.image_mode = msg['mode'];\n",
       "}\n",
       "\n",
       "mpl.figure.prototype.updated_canvas_event = function() {\n",
       "    // Called whenever the canvas gets updated.\n",
       "    this.send_message(\"ack\", {});\n",
       "}\n",
       "\n",
       "// A function to construct a web socket function for onmessage handling.\n",
       "// Called in the figure constructor.\n",
       "mpl.figure.prototype._make_on_message_function = function(fig) {\n",
       "    return function socket_on_message(evt) {\n",
       "        if (evt.data instanceof Blob) {\n",
       "            /* FIXME: We get \"Resource interpreted as Image but\n",
       "             * transferred with MIME type text/plain:\" errors on\n",
       "             * Chrome.  But how to set the MIME type?  It doesn't seem\n",
       "             * to be part of the websocket stream */\n",
       "            evt.data.type = \"image/png\";\n",
       "\n",
       "            /* Free the memory for the previous frames */\n",
       "            if (fig.imageObj.src) {\n",
       "                (window.URL || window.webkitURL).revokeObjectURL(\n",
       "                    fig.imageObj.src);\n",
       "            }\n",
       "\n",
       "            fig.imageObj.src = (window.URL || window.webkitURL).createObjectURL(\n",
       "                evt.data);\n",
       "            fig.updated_canvas_event();\n",
       "            fig.waiting = false;\n",
       "            return;\n",
       "        }\n",
       "        else if (typeof evt.data === 'string' && evt.data.slice(0, 21) == \"data:image/png;base64\") {\n",
       "            fig.imageObj.src = evt.data;\n",
       "            fig.updated_canvas_event();\n",
       "            fig.waiting = false;\n",
       "            return;\n",
       "        }\n",
       "\n",
       "        var msg = JSON.parse(evt.data);\n",
       "        var msg_type = msg['type'];\n",
       "\n",
       "        // Call the  \"handle_{type}\" callback, which takes\n",
       "        // the figure and JSON message as its only arguments.\n",
       "        try {\n",
       "            var callback = fig[\"handle_\" + msg_type];\n",
       "        } catch (e) {\n",
       "            console.log(\"No handler for the '\" + msg_type + \"' message type: \", msg);\n",
       "            return;\n",
       "        }\n",
       "\n",
       "        if (callback) {\n",
       "            try {\n",
       "                // console.log(\"Handling '\" + msg_type + \"' message: \", msg);\n",
       "                callback(fig, msg);\n",
       "            } catch (e) {\n",
       "                console.log(\"Exception inside the 'handler_\" + msg_type + \"' callback:\", e, e.stack, msg);\n",
       "            }\n",
       "        }\n",
       "    };\n",
       "}\n",
       "\n",
       "// from http://stackoverflow.com/questions/1114465/getting-mouse-location-in-canvas\n",
       "mpl.findpos = function(e) {\n",
       "    //this section is from http://www.quirksmode.org/js/events_properties.html\n",
       "    var targ;\n",
       "    if (!e)\n",
       "        e = window.event;\n",
       "    if (e.target)\n",
       "        targ = e.target;\n",
       "    else if (e.srcElement)\n",
       "        targ = e.srcElement;\n",
       "    if (targ.nodeType == 3) // defeat Safari bug\n",
       "        targ = targ.parentNode;\n",
       "\n",
       "    // jQuery normalizes the pageX and pageY\n",
       "    // pageX,Y are the mouse positions relative to the document\n",
       "    // offset() returns the position of the element relative to the document\n",
       "    var x = e.pageX - $(targ).offset().left;\n",
       "    var y = e.pageY - $(targ).offset().top;\n",
       "\n",
       "    return {\"x\": x, \"y\": y};\n",
       "};\n",
       "\n",
       "/*\n",
       " * return a copy of an object with only non-object keys\n",
       " * we need this to avoid circular references\n",
       " * http://stackoverflow.com/a/24161582/3208463\n",
       " */\n",
       "function simpleKeys (original) {\n",
       "  return Object.keys(original).reduce(function (obj, key) {\n",
       "    if (typeof original[key] !== 'object')\n",
       "        obj[key] = original[key]\n",
       "    return obj;\n",
       "  }, {});\n",
       "}\n",
       "\n",
       "mpl.figure.prototype.mouse_event = function(event, name) {\n",
       "    var canvas_pos = mpl.findpos(event)\n",
       "\n",
       "    if (name === 'button_press')\n",
       "    {\n",
       "        this.canvas.focus();\n",
       "        this.canvas_div.focus();\n",
       "    }\n",
       "\n",
       "    var x = canvas_pos.x * mpl.ratio;\n",
       "    var y = canvas_pos.y * mpl.ratio;\n",
       "\n",
       "    this.send_message(name, {x: x, y: y, button: event.button,\n",
       "                             step: event.step,\n",
       "                             guiEvent: simpleKeys(event)});\n",
       "\n",
       "    /* This prevents the web browser from automatically changing to\n",
       "     * the text insertion cursor when the button is pressed.  We want\n",
       "     * to control all of the cursor setting manually through the\n",
       "     * 'cursor' event from matplotlib */\n",
       "    event.preventDefault();\n",
       "    return false;\n",
       "}\n",
       "\n",
       "mpl.figure.prototype._key_event_extra = function(event, name) {\n",
       "    // Handle any extra behaviour associated with a key event\n",
       "}\n",
       "\n",
       "mpl.figure.prototype.key_event = function(event, name) {\n",
       "\n",
       "    // Prevent repeat events\n",
       "    if (name == 'key_press')\n",
       "    {\n",
       "        if (event.which === this._key)\n",
       "            return;\n",
       "        else\n",
       "            this._key = event.which;\n",
       "    }\n",
       "    if (name == 'key_release')\n",
       "        this._key = null;\n",
       "\n",
       "    var value = '';\n",
       "    if (event.ctrlKey && event.which != 17)\n",
       "        value += \"ctrl+\";\n",
       "    if (event.altKey && event.which != 18)\n",
       "        value += \"alt+\";\n",
       "    if (event.shiftKey && event.which != 16)\n",
       "        value += \"shift+\";\n",
       "\n",
       "    value += 'k';\n",
       "    value += event.which.toString();\n",
       "\n",
       "    this._key_event_extra(event, name);\n",
       "\n",
       "    this.send_message(name, {key: value,\n",
       "                             guiEvent: simpleKeys(event)});\n",
       "    return false;\n",
       "}\n",
       "\n",
       "mpl.figure.prototype.toolbar_button_onclick = function(name) {\n",
       "    if (name == 'download') {\n",
       "        this.handle_save(this, null);\n",
       "    } else {\n",
       "        this.send_message(\"toolbar_button\", {name: name});\n",
       "    }\n",
       "};\n",
       "\n",
       "mpl.figure.prototype.toolbar_button_onmouseover = function(tooltip) {\n",
       "    this.message.textContent = tooltip;\n",
       "};\n",
       "mpl.toolbar_items = [[\"Home\", \"Reset original view\", \"fa fa-home icon-home\", \"home\"], [\"Back\", \"Back to previous view\", \"fa fa-arrow-left icon-arrow-left\", \"back\"], [\"Forward\", \"Forward to next view\", \"fa fa-arrow-right icon-arrow-right\", \"forward\"], [\"\", \"\", \"\", \"\"], [\"Pan\", \"Pan axes with left mouse, zoom with right\", \"fa fa-arrows icon-move\", \"pan\"], [\"Zoom\", \"Zoom to rectangle\", \"fa fa-square-o icon-check-empty\", \"zoom\"], [\"\", \"\", \"\", \"\"], [\"Download\", \"Download plot\", \"fa fa-floppy-o icon-save\", \"download\"]];\n",
       "\n",
       "mpl.extensions = [\"eps\", \"jpeg\", \"pdf\", \"png\", \"ps\", \"raw\", \"svg\", \"tif\"];\n",
       "\n",
       "mpl.default_extension = \"png\";var comm_websocket_adapter = function(comm) {\n",
       "    // Create a \"websocket\"-like object which calls the given IPython comm\n",
       "    // object with the appropriate methods. Currently this is a non binary\n",
       "    // socket, so there is still some room for performance tuning.\n",
       "    var ws = {};\n",
       "\n",
       "    ws.close = function() {\n",
       "        comm.close()\n",
       "    };\n",
       "    ws.send = function(m) {\n",
       "        //console.log('sending', m);\n",
       "        comm.send(m);\n",
       "    };\n",
       "    // Register the callback with on_msg.\n",
       "    comm.on_msg(function(msg) {\n",
       "        //console.log('receiving', msg['content']['data'], msg);\n",
       "        // Pass the mpl event to the overridden (by mpl) onmessage function.\n",
       "        ws.onmessage(msg['content']['data'])\n",
       "    });\n",
       "    return ws;\n",
       "}\n",
       "\n",
       "mpl.mpl_figure_comm = function(comm, msg) {\n",
       "    // This is the function which gets called when the mpl process\n",
       "    // starts-up an IPython Comm through the \"matplotlib\" channel.\n",
       "\n",
       "    var id = msg.content.data.id;\n",
       "    // Get hold of the div created by the display call when the Comm\n",
       "    // socket was opened in Python.\n",
       "    var element = $(\"#\" + id);\n",
       "    var ws_proxy = comm_websocket_adapter(comm)\n",
       "\n",
       "    function ondownload(figure, format) {\n",
       "        window.open(figure.imageObj.src);\n",
       "    }\n",
       "\n",
       "    var fig = new mpl.figure(id, ws_proxy,\n",
       "                           ondownload,\n",
       "                           element.get(0));\n",
       "\n",
       "    // Call onopen now - mpl needs it, as it is assuming we've passed it a real\n",
       "    // web socket which is closed, not our websocket->open comm proxy.\n",
       "    ws_proxy.onopen();\n",
       "\n",
       "    fig.parent_element = element.get(0);\n",
       "    fig.cell_info = mpl.find_output_cell(\"<div id='\" + id + \"'></div>\");\n",
       "    if (!fig.cell_info) {\n",
       "        console.error(\"Failed to find cell for figure\", id, fig);\n",
       "        return;\n",
       "    }\n",
       "\n",
       "    var output_index = fig.cell_info[2]\n",
       "    var cell = fig.cell_info[0];\n",
       "\n",
       "};\n",
       "\n",
       "mpl.figure.prototype.handle_close = function(fig, msg) {\n",
       "    var width = fig.canvas.width/mpl.ratio\n",
       "    fig.root.unbind('remove')\n",
       "\n",
       "    // Update the output cell to use the data from the current canvas.\n",
       "    fig.push_to_output();\n",
       "    var dataURL = fig.canvas.toDataURL();\n",
       "    // Re-enable the keyboard manager in IPython - without this line, in FF,\n",
       "    // the notebook keyboard shortcuts fail.\n",
       "    IPython.keyboard_manager.enable()\n",
       "    $(fig.parent_element).html('<img src=\"' + dataURL + '\" width=\"' + width + '\">');\n",
       "    fig.close_ws(fig, msg);\n",
       "}\n",
       "\n",
       "mpl.figure.prototype.close_ws = function(fig, msg){\n",
       "    fig.send_message('closing', msg);\n",
       "    // fig.ws.close()\n",
       "}\n",
       "\n",
       "mpl.figure.prototype.push_to_output = function(remove_interactive) {\n",
       "    // Turn the data on the canvas into data in the output cell.\n",
       "    var width = this.canvas.width/mpl.ratio\n",
       "    var dataURL = this.canvas.toDataURL();\n",
       "    this.cell_info[1]['text/html'] = '<img src=\"' + dataURL + '\" width=\"' + width + '\">';\n",
       "}\n",
       "\n",
       "mpl.figure.prototype.updated_canvas_event = function() {\n",
       "    // Tell IPython that the notebook contents must change.\n",
       "    IPython.notebook.set_dirty(true);\n",
       "    this.send_message(\"ack\", {});\n",
       "    var fig = this;\n",
       "    // Wait a second, then push the new image to the DOM so\n",
       "    // that it is saved nicely (might be nice to debounce this).\n",
       "    setTimeout(function () { fig.push_to_output() }, 1000);\n",
       "}\n",
       "\n",
       "mpl.figure.prototype._init_toolbar = function() {\n",
       "    var fig = this;\n",
       "\n",
       "    var nav_element = $('<div/>');\n",
       "    nav_element.attr('style', 'width: 100%');\n",
       "    this.root.append(nav_element);\n",
       "\n",
       "    // Define a callback function for later on.\n",
       "    function toolbar_event(event) {\n",
       "        return fig.toolbar_button_onclick(event['data']);\n",
       "    }\n",
       "    function toolbar_mouse_event(event) {\n",
       "        return fig.toolbar_button_onmouseover(event['data']);\n",
       "    }\n",
       "\n",
       "    for(var toolbar_ind in mpl.toolbar_items){\n",
       "        var name = mpl.toolbar_items[toolbar_ind][0];\n",
       "        var tooltip = mpl.toolbar_items[toolbar_ind][1];\n",
       "        var image = mpl.toolbar_items[toolbar_ind][2];\n",
       "        var method_name = mpl.toolbar_items[toolbar_ind][3];\n",
       "\n",
       "        if (!name) { continue; };\n",
       "\n",
       "        var button = $('<button class=\"btn btn-default\" href=\"#\" title=\"' + name + '\"><i class=\"fa ' + image + ' fa-lg\"></i></button>');\n",
       "        button.click(method_name, toolbar_event);\n",
       "        button.mouseover(tooltip, toolbar_mouse_event);\n",
       "        nav_element.append(button);\n",
       "    }\n",
       "\n",
       "    // Add the status bar.\n",
       "    var status_bar = $('<span class=\"mpl-message\" style=\"text-align:right; float: right;\"/>');\n",
       "    nav_element.append(status_bar);\n",
       "    this.message = status_bar[0];\n",
       "\n",
       "    // Add the close button to the window.\n",
       "    var buttongrp = $('<div class=\"btn-group inline pull-right\"></div>');\n",
       "    var button = $('<button class=\"btn btn-mini btn-primary\" href=\"#\" title=\"Stop Interaction\"><i class=\"fa fa-power-off icon-remove icon-large\"></i></button>');\n",
       "    button.click(function (evt) { fig.handle_close(fig, {}); } );\n",
       "    button.mouseover('Stop Interaction', toolbar_mouse_event);\n",
       "    buttongrp.append(button);\n",
       "    var titlebar = this.root.find($('.ui-dialog-titlebar'));\n",
       "    titlebar.prepend(buttongrp);\n",
       "}\n",
       "\n",
       "mpl.figure.prototype._root_extra_style = function(el){\n",
       "    var fig = this\n",
       "    el.on(\"remove\", function(){\n",
       "\tfig.close_ws(fig, {});\n",
       "    });\n",
       "}\n",
       "\n",
       "mpl.figure.prototype._canvas_extra_style = function(el){\n",
       "    // this is important to make the div 'focusable\n",
       "    el.attr('tabindex', 0)\n",
       "    // reach out to IPython and tell the keyboard manager to turn it's self\n",
       "    // off when our div gets focus\n",
       "\n",
       "    // location in version 3\n",
       "    if (IPython.notebook.keyboard_manager) {\n",
       "        IPython.notebook.keyboard_manager.register_events(el);\n",
       "    }\n",
       "    else {\n",
       "        // location in version 2\n",
       "        IPython.keyboard_manager.register_events(el);\n",
       "    }\n",
       "\n",
       "}\n",
       "\n",
       "mpl.figure.prototype._key_event_extra = function(event, name) {\n",
       "    var manager = IPython.notebook.keyboard_manager;\n",
       "    if (!manager)\n",
       "        manager = IPython.keyboard_manager;\n",
       "\n",
       "    // Check for shift+enter\n",
       "    if (event.shiftKey && event.which == 13) {\n",
       "        this.canvas_div.blur();\n",
       "        event.shiftKey = false;\n",
       "        // Send a \"J\" for go to next cell\n",
       "        event.which = 74;\n",
       "        event.keyCode = 74;\n",
       "        manager.command_mode();\n",
       "        manager.handle_keydown(event);\n",
       "    }\n",
       "}\n",
       "\n",
       "mpl.figure.prototype.handle_save = function(fig, msg) {\n",
       "    fig.ondownload(fig, null);\n",
       "}\n",
       "\n",
       "\n",
       "mpl.find_output_cell = function(html_output) {\n",
       "    // Return the cell and output element which can be found *uniquely* in the notebook.\n",
       "    // Note - this is a bit hacky, but it is done because the \"notebook_saving.Notebook\"\n",
       "    // IPython event is triggered only after the cells have been serialised, which for\n",
       "    // our purposes (turning an active figure into a static one), is too late.\n",
       "    var cells = IPython.notebook.get_cells();\n",
       "    var ncells = cells.length;\n",
       "    for (var i=0; i<ncells; i++) {\n",
       "        var cell = cells[i];\n",
       "        if (cell.cell_type === 'code'){\n",
       "            for (var j=0; j<cell.output_area.outputs.length; j++) {\n",
       "                var data = cell.output_area.outputs[j];\n",
       "                if (data.data) {\n",
       "                    // IPython >= 3 moved mimebundle to data attribute of output\n",
       "                    data = data.data;\n",
       "                }\n",
       "                if (data['text/html'] == html_output) {\n",
       "                    return [cell, data, j];\n",
       "                }\n",
       "            }\n",
       "        }\n",
       "    }\n",
       "}\n",
       "\n",
       "// Register the function which deals with the matplotlib target/channel.\n",
       "// The kernel may be null if the page has been refreshed.\n",
       "if (IPython.notebook.kernel != null) {\n",
       "    IPython.notebook.kernel.comm_manager.register_target('matplotlib', mpl.mpl_figure_comm);\n",
       "}\n"
      ],
      "text/plain": [
       "<IPython.core.display.Javascript object>"
      ]
     },
     "metadata": {},
     "output_type": "display_data"
    },
    {
     "data": {
      "text/html": [
       "<img src=\"data:image/png;base64,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\" width=\"719.999989271164\">"
      ],
      "text/plain": [
       "<IPython.core.display.HTML object>"
      ]
     },
     "metadata": {},
     "output_type": "display_data"
    }
   ],
   "source": [
    "term_frequencies = np.asarray(X_counts.sum(axis=0))[0]\n",
    "\n",
    "# load original graph\n",
    "plt.subplots(figsize=(10, 2))\n",
    "g = sns.barplot(x=count_vect.get_feature_names()[:300], \n",
    "            y=term_frequencies[:300])\n",
    "g.set_xticklabels(count_vect.get_feature_names()[:300], rotation = 90);"
   ]
  },
  {
   "cell_type": "code",
   "execution_count": 174,
   "metadata": {
    "scrolled": true
   },
   "outputs": [
    {
     "data": {
      "application/vnd.plotly.v1+json": {
       "config": {
        "linkText": "Export to plot.ly",
        "plotlyServerURL": "https://plot.ly",
        "showLink": false
       },
       "data": [
        {
         "type": "bar",
         "x": [
          "00",
          "000",
          "0000",
          "0000001200",
          "000005102000",
          "0001",
          "000100255pixel",
          "00014",
          "000406",
          "0007",
          "000usd",
          "0010",
          "001004",
          "0010580b",
          "001125",
          "001200201pixel",
          "0014",
          "001642",
          "00196",
          "002",
          "0028",
          "003258u19250",
          "0033",
          "0038",
          "0039",
          "004021809",
          "004158",
          "004627",
          "0049",
          "00500",
          "005148",
          "00630",
          "008561",
          "0094",
          "00am",
          "00index",
          "00pm",
          "01",
          "0100",
          "010116",
          "010702",
          "011255",
          "011308pxf3",
          "011605",
          "011720",
          "012019",
          "012536",
          "012946",
          "013",
          "013034",
          "0131",
          "013423tan102",
          "013657",
          "0138",
          "013846",
          "0150",
          "015518",
          "01580",
          "015931",
          "01720",
          "01752",
          "0179",
          "01821",
          "01830",
          "0184",
          "01852",
          "01854",
          "01890",
          "0195",
          "0199",
          "01a",
          "01wb",
          "02",
          "020",
          "0200",
          "020504",
          "020637",
          "020646",
          "020701tan102",
          "020751",
          "02115",
          "02118",
          "02139",
          "02142",
          "02154",
          "02160",
          "021635",
          "021708",
          "02173",
          "0223",
          "02254",
          "022621tan102",
          "023044",
          "0235",
          "0237",
          "024103",
          "024150",
          "024626",
          "025240",
          "025924",
          "0278",
          "02908",
          "0293",
          "03",
          "030105",
          "0303",
          "030334",
          "03051",
          "0306",
          "030734",
          "031423",
          "0318",
          "032251",
          "0330",
          "033446",
          "033843",
          "034226",
          "0349",
          "0358",
          "0362",
          "0372",
          "03756",
          "0380",
          "0391",
          "04",
          "040",
          "040286",
          "04046",
          "040493161915",
          "040819",
          "0410",
          "041343",
          "0418",
          "042100",
          "0423",
          "043654",
          "044140",
          "044946",
          "04g",
          "05",
          "0500",
          "050046mvs104",
          "0502",
          "050524",
          "050750",
          "0510",
          "051039",
          "0511",
          "051201",
          "051246",
          "0513",
          "053250",
          "05401",
          "05402",
          "05446",
          "054600",
          "055958",
          "0578",
          "06",
          "0600",
          "0600lines",
          "060493161931",
          "0608",
          "061",
          "062328",
          "062908mvs104",
          "06320",
          "063425",
          "0649",
          "06510",
          "065230",
          "0656",
          "068",
          "07",
          "0700",
          "0704",
          "0706",
          "071",
          "07102",
          "071613j5j",
          "071823",
          "0721",
          "0729",
          "07410",
          "0752",
          "07653",
          "077",
          "07748",
          "08",
          "0804",
          "08057",
          "080719",
          "081",
          "081052",
          "081303",
          "083731",
          "084",
          "084042",
          "084258",
          "085526",
          "08690",
          "08786",
          "08934",
          "09",
          "0900",
          "090030",
          "0901",
          "0903",
          "090306",
          "0908",
          "091139",
          "091258",
          "091844",
          "092051",
          "0922",
          "0926",
          "0930",
          "093300",
          "093904",
          "0943",
          "095148",
          "095220",
          "0987",
          "0_",
          "0______________________________________________________________________0",
          "0a",
          "0b",
          "0b10",
          "0b15",
          "0e9",
          "0hb",
          "0l7",
          "0s",
          "0u1",
          "0x",
          "0x00",
          "0x100",
          "0x1f",
          "0x3d4",
          "0x8",
          "0xc010",
          "0xc018",
          "10",
          "100",
          "1000",
          "10000",
          "100000",
          "100015",
          "100039",
          "100042",
          "1000mg",
          "1001",
          "10012",
          "10016",
          "10021",
          "1003",
          "10032",
          "10036",
          "10038",
          "1005",
          "10056",
          "1007",
          "100c",
          "100grams",
          "100k",
          "100lez",
          "100megs",
          "100mg",
          "101",
          "1010",
          "10101",
          "101010",
          "1013",
          "1015",
          "101747",
          "10179",
          "10193",
          "10196",
          "101h",
          "102",
          "102007",
          "1023",
          "1024",
          "1024x1024",
          "1024x512",
          "1024x728",
          "1024x768",
          "1024x768x24",
          "1024x768x65000",
          "1024x786x24",
          "10250",
          "1027",
          "1028",
          "102810",
          "1029",
          "103",
          "1030",
          "103237",
          "10368",
          "1039"
         ],
         "y": [
          134,
          92,
          1,
          2,
          1,
          3,
          1,
          1,
          1,
          1,
          2,
          1,
          1,
          3,
          1,
          1,
          1,
          2,
          1,
          3,
          1,
          2,
          1,
          1,
          1,
          2,
          1,
          1,
          1,
          1,
          1,
          1,
          1,
          1,
          5,
          1,
          13,
          95,
          4,
          1,
          1,
          1,
          1,
          1,
          2,
          1,
          1,
          1,
          2,
          1,
          1,
          1,
          1,
          2,
          1,
          1,
          1,
          4,
          2,
          1,
          1,
          1,
          1,
          1,
          2,
          1,
          1,
          1,
          1,
          1,
          2,
          1,
          59,
          1,
          4,
          2,
          1,
          1,
          1,
          1,
          2,
          3,
          1,
          2,
          1,
          1,
          1,
          1,
          3,
          1,
          1,
          1,
          3,
          1,
          1,
          3,
          2,
          1,
          2,
          2,
          1,
          1,
          3,
          100,
          1,
          1,
          1,
          1,
          1,
          1,
          2,
          1,
          2,
          1,
          2,
          1,
          2,
          5,
          24,
          1,
          1,
          1,
          1,
          2,
          47,
          4,
          1,
          1,
          1,
          1,
          1,
          3,
          1,
          1,
          4,
          2,
          2,
          1,
          1,
          62,
          2,
          2,
          1,
          1,
          1,
          2,
          1,
          5,
          1,
          1,
          1,
          1,
          1,
          1,
          1,
          1,
          1,
          1,
          18,
          3,
          1,
          1,
          3,
          2,
          1,
          1,
          3,
          2,
          1,
          1,
          1,
          1,
          1,
          27,
          1,
          1,
          1,
          7,
          1,
          1,
          2,
          2,
          1,
          1,
          1,
          1,
          1,
          1,
          40,
          1,
          2,
          1,
          1,
          5,
          1,
          1,
          1,
          5,
          1,
          1,
          1,
          1,
          1,
          34,
          1,
          2,
          1,
          1,
          1,
          1,
          2,
          2,
          2,
          1,
          1,
          1,
          2,
          2,
          1,
          1,
          1,
          4,
          2,
          1,
          1,
          1,
          1,
          1,
          1,
          1,
          1,
          1,
          1,
          1,
          2,
          1,
          3,
          1,
          1,
          1,
          1,
          1,
          378,
          105,
          20,
          2,
          2,
          2,
          1,
          1,
          1,
          1,
          1,
          2,
          1,
          1,
          1,
          1,
          1,
          1,
          1,
          1,
          1,
          2,
          2,
          1,
          1,
          1,
          19,
          1,
          3,
          4,
          8,
          2,
          1,
          2,
          2,
          1,
          1,
          7,
          3,
          1,
          5,
          1,
          1,
          1,
          7,
          1,
          1,
          2,
          1,
          1,
          2,
          1,
          1,
          4,
          1,
          3,
          1,
          1
         ]
        }
       ],
       "layout": {
        "template": {
         "data": {
          "bar": [
           {
            "error_x": {
             "color": "#2a3f5f"
            },
            "error_y": {
             "color": "#2a3f5f"
            },
            "marker": {
             "line": {
              "color": "#E5ECF6",
              "width": 0.5
             }
            },
            "type": "bar"
           }
          ],
          "barpolar": [
           {
            "marker": {
             "line": {
              "color": "#E5ECF6",
              "width": 0.5
             }
            },
            "type": "barpolar"
           }
          ],
          "carpet": [
           {
            "aaxis": {
             "endlinecolor": "#2a3f5f",
             "gridcolor": "white",
             "linecolor": "white",
             "minorgridcolor": "white",
             "startlinecolor": "#2a3f5f"
            },
            "baxis": {
             "endlinecolor": "#2a3f5f",
             "gridcolor": "white",
             "linecolor": "white",
             "minorgridcolor": "white",
             "startlinecolor": "#2a3f5f"
            },
            "type": "carpet"
           }
          ],
          "choropleth": [
           {
            "colorbar": {
             "outlinewidth": 0,
             "ticks": ""
            },
            "type": "choropleth"
           }
          ],
          "contour": [
           {
            "colorbar": {
             "outlinewidth": 0,
             "ticks": ""
            },
            "colorscale": [
             [
              0,
              "#0d0887"
             ],
             [
              0.1111111111111111,
              "#46039f"
             ],
             [
              0.2222222222222222,
              "#7201a8"
             ],
             [
              0.3333333333333333,
              "#9c179e"
             ],
             [
              0.4444444444444444,
              "#bd3786"
             ],
             [
              0.5555555555555556,
              "#d8576b"
             ],
             [
              0.6666666666666666,
              "#ed7953"
             ],
             [
              0.7777777777777778,
              "#fb9f3a"
             ],
             [
              0.8888888888888888,
              "#fdca26"
             ],
             [
              1,
              "#f0f921"
             ]
            ],
            "type": "contour"
           }
          ],
          "contourcarpet": [
           {
            "colorbar": {
             "outlinewidth": 0,
             "ticks": ""
            },
            "type": "contourcarpet"
           }
          ],
          "heatmap": [
           {
            "colorbar": {
             "outlinewidth": 0,
             "ticks": ""
            },
            "colorscale": [
             [
              0,
              "#0d0887"
             ],
             [
              0.1111111111111111,
              "#46039f"
             ],
             [
              0.2222222222222222,
              "#7201a8"
             ],
             [
              0.3333333333333333,
              "#9c179e"
             ],
             [
              0.4444444444444444,
              "#bd3786"
             ],
             [
              0.5555555555555556,
              "#d8576b"
             ],
             [
              0.6666666666666666,
              "#ed7953"
             ],
             [
              0.7777777777777778,
              "#fb9f3a"
             ],
             [
              0.8888888888888888,
              "#fdca26"
             ],
             [
              1,
              "#f0f921"
             ]
            ],
            "type": "heatmap"
           }
          ],
          "heatmapgl": [
           {
            "colorbar": {
             "outlinewidth": 0,
             "ticks": ""
            },
            "colorscale": [
             [
              0,
              "#0d0887"
             ],
             [
              0.1111111111111111,
              "#46039f"
             ],
             [
              0.2222222222222222,
              "#7201a8"
             ],
             [
              0.3333333333333333,
              "#9c179e"
             ],
             [
              0.4444444444444444,
              "#bd3786"
             ],
             [
              0.5555555555555556,
              "#d8576b"
             ],
             [
              0.6666666666666666,
              "#ed7953"
             ],
             [
              0.7777777777777778,
              "#fb9f3a"
             ],
             [
              0.8888888888888888,
              "#fdca26"
             ],
             [
              1,
              "#f0f921"
             ]
            ],
            "type": "heatmapgl"
           }
          ],
          "histogram": [
           {
            "marker": {
             "colorbar": {
              "outlinewidth": 0,
              "ticks": ""
             }
            },
            "type": "histogram"
           }
          ],
          "histogram2d": [
           {
            "colorbar": {
             "outlinewidth": 0,
             "ticks": ""
            },
            "colorscale": [
             [
              0,
              "#0d0887"
             ],
             [
              0.1111111111111111,
              "#46039f"
             ],
             [
              0.2222222222222222,
              "#7201a8"
             ],
             [
              0.3333333333333333,
              "#9c179e"
             ],
             [
              0.4444444444444444,
              "#bd3786"
             ],
             [
              0.5555555555555556,
              "#d8576b"
             ],
             [
              0.6666666666666666,
              "#ed7953"
             ],
             [
              0.7777777777777778,
              "#fb9f3a"
             ],
             [
              0.8888888888888888,
              "#fdca26"
             ],
             [
              1,
              "#f0f921"
             ]
            ],
            "type": "histogram2d"
           }
          ],
          "histogram2dcontour": [
           {
            "colorbar": {
             "outlinewidth": 0,
             "ticks": ""
            },
            "colorscale": [
             [
              0,
              "#0d0887"
             ],
             [
              0.1111111111111111,
              "#46039f"
             ],
             [
              0.2222222222222222,
              "#7201a8"
             ],
             [
              0.3333333333333333,
              "#9c179e"
             ],
             [
              0.4444444444444444,
              "#bd3786"
             ],
             [
              0.5555555555555556,
              "#d8576b"
             ],
             [
              0.6666666666666666,
              "#ed7953"
             ],
             [
              0.7777777777777778,
              "#fb9f3a"
             ],
             [
              0.8888888888888888,
              "#fdca26"
             ],
             [
              1,
              "#f0f921"
             ]
            ],
            "type": "histogram2dcontour"
           }
          ],
          "mesh3d": [
           {
            "colorbar": {
             "outlinewidth": 0,
             "ticks": ""
            },
            "type": "mesh3d"
           }
          ],
          "parcoords": [
           {
            "line": {
             "colorbar": {
              "outlinewidth": 0,
              "ticks": ""
             }
            },
            "type": "parcoords"
           }
          ],
          "scatter": [
           {
            "marker": {
             "colorbar": {
              "outlinewidth": 0,
              "ticks": ""
             }
            },
            "type": "scatter"
           }
          ],
          "scatter3d": [
           {
            "line": {
             "colorbar": {
              "outlinewidth": 0,
              "ticks": ""
             }
            },
            "marker": {
             "colorbar": {
              "outlinewidth": 0,
              "ticks": ""
             }
            },
            "type": "scatter3d"
           }
          ],
          "scattercarpet": [
           {
            "marker": {
             "colorbar": {
              "outlinewidth": 0,
              "ticks": ""
             }
            },
            "type": "scattercarpet"
           }
          ],
          "scattergeo": [
           {
            "marker": {
             "colorbar": {
              "outlinewidth": 0,
              "ticks": ""
             }
            },
            "type": "scattergeo"
           }
          ],
          "scattergl": [
           {
            "marker": {
             "colorbar": {
              "outlinewidth": 0,
              "ticks": ""
             }
            },
            "type": "scattergl"
           }
          ],
          "scattermapbox": [
           {
            "marker": {
             "colorbar": {
              "outlinewidth": 0,
              "ticks": ""
             }
            },
            "type": "scattermapbox"
           }
          ],
          "scatterpolar": [
           {
            "marker": {
             "colorbar": {
              "outlinewidth": 0,
              "ticks": ""
             }
            },
            "type": "scatterpolar"
           }
          ],
          "scatterpolargl": [
           {
            "marker": {
             "colorbar": {
              "outlinewidth": 0,
              "ticks": ""
             }
            },
            "type": "scatterpolargl"
           }
          ],
          "scatterternary": [
           {
            "marker": {
             "colorbar": {
              "outlinewidth": 0,
              "ticks": ""
             }
            },
            "type": "scatterternary"
           }
          ],
          "surface": [
           {
            "colorbar": {
             "outlinewidth": 0,
             "ticks": ""
            },
            "colorscale": [
             [
              0,
              "#0d0887"
             ],
             [
              0.1111111111111111,
              "#46039f"
             ],
             [
              0.2222222222222222,
              "#7201a8"
             ],
             [
              0.3333333333333333,
              "#9c179e"
             ],
             [
              0.4444444444444444,
              "#bd3786"
             ],
             [
              0.5555555555555556,
              "#d8576b"
             ],
             [
              0.6666666666666666,
              "#ed7953"
             ],
             [
              0.7777777777777778,
              "#fb9f3a"
             ],
             [
              0.8888888888888888,
              "#fdca26"
             ],
             [
              1,
              "#f0f921"
             ]
            ],
            "type": "surface"
           }
          ],
          "table": [
           {
            "cells": {
             "fill": {
              "color": "#EBF0F8"
             },
             "line": {
              "color": "white"
             }
            },
            "header": {
             "fill": {
              "color": "#C8D4E3"
             },
             "line": {
              "color": "white"
             }
            },
            "type": "table"
           }
          ]
         },
         "layout": {
          "annotationdefaults": {
           "arrowcolor": "#2a3f5f",
           "arrowhead": 0,
           "arrowwidth": 1
          },
          "colorscale": {
           "diverging": [
            [
             0,
             "#8e0152"
            ],
            [
             0.1,
             "#c51b7d"
            ],
            [
             0.2,
             "#de77ae"
            ],
            [
             0.3,
             "#f1b6da"
            ],
            [
             0.4,
             "#fde0ef"
            ],
            [
             0.5,
             "#f7f7f7"
            ],
            [
             0.6,
             "#e6f5d0"
            ],
            [
             0.7,
             "#b8e186"
            ],
            [
             0.8,
             "#7fbc41"
            ],
            [
             0.9,
             "#4d9221"
            ],
            [
             1,
             "#276419"
            ]
           ],
           "sequential": [
            [
             0,
             "#0d0887"
            ],
            [
             0.1111111111111111,
             "#46039f"
            ],
            [
             0.2222222222222222,
             "#7201a8"
            ],
            [
             0.3333333333333333,
             "#9c179e"
            ],
            [
             0.4444444444444444,
             "#bd3786"
            ],
            [
             0.5555555555555556,
             "#d8576b"
            ],
            [
             0.6666666666666666,
             "#ed7953"
            ],
            [
             0.7777777777777778,
             "#fb9f3a"
            ],
            [
             0.8888888888888888,
             "#fdca26"
            ],
            [
             1,
             "#f0f921"
            ]
           ],
           "sequentialminus": [
            [
             0,
             "#0d0887"
            ],
            [
             0.1111111111111111,
             "#46039f"
            ],
            [
             0.2222222222222222,
             "#7201a8"
            ],
            [
             0.3333333333333333,
             "#9c179e"
            ],
            [
             0.4444444444444444,
             "#bd3786"
            ],
            [
             0.5555555555555556,
             "#d8576b"
            ],
            [
             0.6666666666666666,
             "#ed7953"
            ],
            [
             0.7777777777777778,
             "#fb9f3a"
            ],
            [
             0.8888888888888888,
             "#fdca26"
            ],
            [
             1,
             "#f0f921"
            ]
           ]
          },
          "colorway": [
           "#636efa",
           "#EF553B",
           "#00cc96",
           "#ab63fa",
           "#FFA15A",
           "#19d3f3",
           "#FF6692",
           "#B6E880",
           "#FF97FF",
           "#FECB52"
          ],
          "font": {
           "color": "#2a3f5f"
          },
          "geo": {
           "bgcolor": "white",
           "lakecolor": "white",
           "landcolor": "#E5ECF6",
           "showlakes": true,
           "showland": true,
           "subunitcolor": "white"
          },
          "hoverlabel": {
           "align": "left"
          },
          "hovermode": "closest",
          "mapbox": {
           "style": "light"
          },
          "paper_bgcolor": "white",
          "plot_bgcolor": "#E5ECF6",
          "polar": {
           "angularaxis": {
            "gridcolor": "white",
            "linecolor": "white",
            "ticks": ""
           },
           "bgcolor": "#E5ECF6",
           "radialaxis": {
            "gridcolor": "white",
            "linecolor": "white",
            "ticks": ""
           }
          },
          "scene": {
           "xaxis": {
            "backgroundcolor": "#E5ECF6",
            "gridcolor": "white",
            "gridwidth": 2,
            "linecolor": "white",
            "showbackground": true,
            "ticks": "",
            "zerolinecolor": "white"
           },
           "yaxis": {
            "backgroundcolor": "#E5ECF6",
            "gridcolor": "white",
            "gridwidth": 2,
            "linecolor": "white",
            "showbackground": true,
            "ticks": "",
            "zerolinecolor": "white"
           },
           "zaxis": {
            "backgroundcolor": "#E5ECF6",
            "gridcolor": "white",
            "gridwidth": 2,
            "linecolor": "white",
            "showbackground": true,
            "ticks": "",
            "zerolinecolor": "white"
           }
          },
          "shapedefaults": {
           "line": {
            "color": "#2a3f5f"
           }
          },
          "ternary": {
           "aaxis": {
            "gridcolor": "white",
            "linecolor": "white",
            "ticks": ""
           },
           "baxis": {
            "gridcolor": "white",
            "linecolor": "white",
            "ticks": ""
           },
           "bgcolor": "#E5ECF6",
           "caxis": {
            "gridcolor": "white",
            "linecolor": "white",
            "ticks": ""
           }
          },
          "title": {
           "x": 0.05
          },
          "xaxis": {
           "automargin": true,
           "gridcolor": "white",
           "linecolor": "white",
           "ticks": "",
           "zerolinecolor": "white",
           "zerolinewidth": 2
          },
          "yaxis": {
           "automargin": true,
           "gridcolor": "white",
           "linecolor": "white",
           "ticks": "",
           "zerolinecolor": "white",
           "zerolinewidth": 2
          }
         }
        },
        "title": {
         "text": "Term Frequencies"
        },
        "xaxis": {
         "type": "category"
        }
       }
      },
      "text/html": [
       "<div>\n",
       "        \n",
       "        \n",
       "            <div id=\"94af7c3d-378e-4179-93ed-e971d26aad1e\" class=\"plotly-graph-div\" style=\"height:525px; width:100%;\"></div>\n",
       "            <script type=\"text/javascript\">\n",
       "                require([\"plotly\"], function(Plotly) {\n",
       "                    window.PLOTLYENV=window.PLOTLYENV || {};\n",
       "                    \n",
       "                if (document.getElementById(\"94af7c3d-378e-4179-93ed-e971d26aad1e\")) {\n",
       "                    Plotly.newPlot(\n",
       "                        '94af7c3d-378e-4179-93ed-e971d26aad1e',\n",
       "                        [{\"type\": \"bar\", \"x\": [\"00\", \"000\", \"0000\", \"0000001200\", \"000005102000\", \"0001\", \"000100255pixel\", \"00014\", \"000406\", \"0007\", \"000usd\", \"0010\", \"001004\", \"0010580b\", \"001125\", \"001200201pixel\", \"0014\", \"001642\", \"00196\", \"002\", \"0028\", \"003258u19250\", \"0033\", \"0038\", \"0039\", \"004021809\", \"004158\", \"004627\", \"0049\", \"00500\", \"005148\", \"00630\", \"008561\", \"0094\", \"00am\", \"00index\", \"00pm\", \"01\", \"0100\", \"010116\", \"010702\", \"011255\", \"011308pxf3\", \"011605\", \"011720\", \"012019\", \"012536\", \"012946\", \"013\", \"013034\", \"0131\", \"013423tan102\", \"013657\", \"0138\", \"013846\", \"0150\", \"015518\", \"01580\", \"015931\", \"01720\", \"01752\", \"0179\", \"01821\", \"01830\", \"0184\", \"01852\", \"01854\", \"01890\", \"0195\", \"0199\", \"01a\", \"01wb\", \"02\", \"020\", \"0200\", \"020504\", \"020637\", \"020646\", \"020701tan102\", \"020751\", \"02115\", \"02118\", \"02139\", \"02142\", \"02154\", \"02160\", \"021635\", \"021708\", \"02173\", \"0223\", \"02254\", \"022621tan102\", \"023044\", \"0235\", \"0237\", \"024103\", \"024150\", \"024626\", \"025240\", \"025924\", \"0278\", \"02908\", \"0293\", \"03\", \"030105\", \"0303\", \"030334\", \"03051\", \"0306\", \"030734\", \"031423\", \"0318\", \"032251\", \"0330\", \"033446\", \"033843\", \"034226\", \"0349\", \"0358\", \"0362\", \"0372\", \"03756\", \"0380\", \"0391\", \"04\", \"040\", \"040286\", \"04046\", \"040493161915\", \"040819\", \"0410\", \"041343\", \"0418\", \"042100\", \"0423\", \"043654\", \"044140\", \"044946\", \"04g\", \"05\", \"0500\", \"050046mvs104\", \"0502\", \"050524\", \"050750\", \"0510\", \"051039\", \"0511\", \"051201\", \"051246\", \"0513\", \"053250\", \"05401\", \"05402\", \"05446\", \"054600\", \"055958\", \"0578\", \"06\", \"0600\", \"0600lines\", \"060493161931\", \"0608\", \"061\", \"062328\", \"062908mvs104\", \"06320\", \"063425\", \"0649\", \"06510\", \"065230\", \"0656\", \"068\", \"07\", \"0700\", \"0704\", \"0706\", \"071\", \"07102\", \"071613j5j\", \"071823\", \"0721\", \"0729\", \"07410\", \"0752\", \"07653\", \"077\", \"07748\", \"08\", \"0804\", \"08057\", \"080719\", \"081\", \"081052\", \"081303\", \"083731\", \"084\", \"084042\", \"084258\", \"085526\", \"08690\", \"08786\", \"08934\", \"09\", \"0900\", \"090030\", \"0901\", \"0903\", \"090306\", \"0908\", \"091139\", \"091258\", \"091844\", \"092051\", \"0922\", \"0926\", \"0930\", \"093300\", \"093904\", \"0943\", \"095148\", \"095220\", \"0987\", \"0_\", \"0______________________________________________________________________0\", \"0a\", \"0b\", \"0b10\", \"0b15\", \"0e9\", \"0hb\", \"0l7\", \"0s\", \"0u1\", \"0x\", \"0x00\", \"0x100\", \"0x1f\", \"0x3d4\", \"0x8\", \"0xc010\", \"0xc018\", \"10\", \"100\", \"1000\", \"10000\", \"100000\", \"100015\", \"100039\", \"100042\", \"1000mg\", \"1001\", \"10012\", \"10016\", \"10021\", \"1003\", \"10032\", \"10036\", \"10038\", \"1005\", \"10056\", \"1007\", \"100c\", \"100grams\", \"100k\", \"100lez\", \"100megs\", \"100mg\", \"101\", \"1010\", \"10101\", \"101010\", \"1013\", \"1015\", \"101747\", \"10179\", \"10193\", \"10196\", \"101h\", \"102\", \"102007\", \"1023\", \"1024\", \"1024x1024\", \"1024x512\", \"1024x728\", \"1024x768\", \"1024x768x24\", \"1024x768x65000\", \"1024x786x24\", \"10250\", \"1027\", \"1028\", \"102810\", \"1029\", \"103\", \"1030\", \"103237\", \"10368\", \"1039\"], \"y\": [134, 92, 1, 2, 1, 3, 1, 1, 1, 1, 2, 1, 1, 3, 1, 1, 1, 2, 1, 3, 1, 2, 1, 1, 1, 2, 1, 1, 1, 1, 1, 1, 1, 1, 5, 1, 13, 95, 4, 1, 1, 1, 1, 1, 2, 1, 1, 1, 2, 1, 1, 1, 1, 2, 1, 1, 1, 4, 2, 1, 1, 1, 1, 1, 2, 1, 1, 1, 1, 1, 2, 1, 59, 1, 4, 2, 1, 1, 1, 1, 2, 3, 1, 2, 1, 1, 1, 1, 3, 1, 1, 1, 3, 1, 1, 3, 2, 1, 2, 2, 1, 1, 3, 100, 1, 1, 1, 1, 1, 1, 2, 1, 2, 1, 2, 1, 2, 5, 24, 1, 1, 1, 1, 2, 47, 4, 1, 1, 1, 1, 1, 3, 1, 1, 4, 2, 2, 1, 1, 62, 2, 2, 1, 1, 1, 2, 1, 5, 1, 1, 1, 1, 1, 1, 1, 1, 1, 1, 18, 3, 1, 1, 3, 2, 1, 1, 3, 2, 1, 1, 1, 1, 1, 27, 1, 1, 1, 7, 1, 1, 2, 2, 1, 1, 1, 1, 1, 1, 40, 1, 2, 1, 1, 5, 1, 1, 1, 5, 1, 1, 1, 1, 1, 34, 1, 2, 1, 1, 1, 1, 2, 2, 2, 1, 1, 1, 2, 2, 1, 1, 1, 4, 2, 1, 1, 1, 1, 1, 1, 1, 1, 1, 1, 1, 2, 1, 3, 1, 1, 1, 1, 1, 378, 105, 20, 2, 2, 2, 1, 1, 1, 1, 1, 2, 1, 1, 1, 1, 1, 1, 1, 1, 1, 2, 2, 1, 1, 1, 19, 1, 3, 4, 8, 2, 1, 2, 2, 1, 1, 7, 3, 1, 5, 1, 1, 1, 7, 1, 1, 2, 1, 1, 2, 1, 1, 4, 1, 3, 1, 1]}],\n",
       "                        {\"template\": {\"data\": {\"bar\": [{\"error_x\": {\"color\": \"#2a3f5f\"}, \"error_y\": {\"color\": \"#2a3f5f\"}, \"marker\": {\"line\": {\"color\": \"#E5ECF6\", \"width\": 0.5}}, \"type\": \"bar\"}], \"barpolar\": [{\"marker\": {\"line\": {\"color\": \"#E5ECF6\", \"width\": 0.5}}, \"type\": \"barpolar\"}], \"carpet\": [{\"aaxis\": {\"endlinecolor\": \"#2a3f5f\", \"gridcolor\": \"white\", \"linecolor\": \"white\", \"minorgridcolor\": \"white\", \"startlinecolor\": \"#2a3f5f\"}, \"baxis\": {\"endlinecolor\": \"#2a3f5f\", \"gridcolor\": \"white\", \"linecolor\": \"white\", \"minorgridcolor\": \"white\", \"startlinecolor\": \"#2a3f5f\"}, \"type\": \"carpet\"}], \"choropleth\": [{\"colorbar\": {\"outlinewidth\": 0, \"ticks\": \"\"}, \"type\": \"choropleth\"}], \"contour\": [{\"colorbar\": {\"outlinewidth\": 0, \"ticks\": \"\"}, \"colorscale\": [[0.0, \"#0d0887\"], [0.1111111111111111, \"#46039f\"], [0.2222222222222222, \"#7201a8\"], [0.3333333333333333, \"#9c179e\"], [0.4444444444444444, \"#bd3786\"], [0.5555555555555556, \"#d8576b\"], [0.6666666666666666, \"#ed7953\"], [0.7777777777777778, \"#fb9f3a\"], [0.8888888888888888, \"#fdca26\"], [1.0, \"#f0f921\"]], \"type\": \"contour\"}], \"contourcarpet\": [{\"colorbar\": {\"outlinewidth\": 0, \"ticks\": \"\"}, \"type\": \"contourcarpet\"}], \"heatmap\": [{\"colorbar\": {\"outlinewidth\": 0, \"ticks\": \"\"}, \"colorscale\": [[0.0, \"#0d0887\"], [0.1111111111111111, \"#46039f\"], [0.2222222222222222, \"#7201a8\"], [0.3333333333333333, \"#9c179e\"], [0.4444444444444444, \"#bd3786\"], [0.5555555555555556, \"#d8576b\"], [0.6666666666666666, \"#ed7953\"], [0.7777777777777778, \"#fb9f3a\"], [0.8888888888888888, \"#fdca26\"], [1.0, \"#f0f921\"]], \"type\": \"heatmap\"}], \"heatmapgl\": [{\"colorbar\": {\"outlinewidth\": 0, \"ticks\": \"\"}, \"colorscale\": [[0.0, \"#0d0887\"], [0.1111111111111111, \"#46039f\"], [0.2222222222222222, \"#7201a8\"], [0.3333333333333333, \"#9c179e\"], [0.4444444444444444, \"#bd3786\"], [0.5555555555555556, \"#d8576b\"], [0.6666666666666666, \"#ed7953\"], [0.7777777777777778, \"#fb9f3a\"], [0.8888888888888888, \"#fdca26\"], [1.0, \"#f0f921\"]], \"type\": \"heatmapgl\"}], \"histogram\": [{\"marker\": {\"colorbar\": {\"outlinewidth\": 0, \"ticks\": \"\"}}, \"type\": \"histogram\"}], \"histogram2d\": [{\"colorbar\": {\"outlinewidth\": 0, \"ticks\": \"\"}, \"colorscale\": [[0.0, \"#0d0887\"], [0.1111111111111111, \"#46039f\"], [0.2222222222222222, \"#7201a8\"], [0.3333333333333333, \"#9c179e\"], [0.4444444444444444, \"#bd3786\"], [0.5555555555555556, \"#d8576b\"], [0.6666666666666666, \"#ed7953\"], [0.7777777777777778, \"#fb9f3a\"], [0.8888888888888888, \"#fdca26\"], [1.0, \"#f0f921\"]], \"type\": \"histogram2d\"}], \"histogram2dcontour\": [{\"colorbar\": {\"outlinewidth\": 0, \"ticks\": \"\"}, \"colorscale\": [[0.0, \"#0d0887\"], [0.1111111111111111, \"#46039f\"], [0.2222222222222222, \"#7201a8\"], [0.3333333333333333, \"#9c179e\"], [0.4444444444444444, \"#bd3786\"], [0.5555555555555556, \"#d8576b\"], [0.6666666666666666, \"#ed7953\"], [0.7777777777777778, \"#fb9f3a\"], [0.8888888888888888, \"#fdca26\"], [1.0, \"#f0f921\"]], \"type\": \"histogram2dcontour\"}], \"mesh3d\": [{\"colorbar\": {\"outlinewidth\": 0, \"ticks\": \"\"}, \"type\": \"mesh3d\"}], \"parcoords\": [{\"line\": {\"colorbar\": {\"outlinewidth\": 0, \"ticks\": \"\"}}, \"type\": \"parcoords\"}], \"scatter\": [{\"marker\": {\"colorbar\": {\"outlinewidth\": 0, \"ticks\": \"\"}}, \"type\": \"scatter\"}], \"scatter3d\": [{\"line\": {\"colorbar\": {\"outlinewidth\": 0, \"ticks\": \"\"}}, \"marker\": {\"colorbar\": {\"outlinewidth\": 0, \"ticks\": \"\"}}, \"type\": \"scatter3d\"}], \"scattercarpet\": [{\"marker\": {\"colorbar\": {\"outlinewidth\": 0, \"ticks\": \"\"}}, \"type\": \"scattercarpet\"}], \"scattergeo\": [{\"marker\": {\"colorbar\": {\"outlinewidth\": 0, \"ticks\": \"\"}}, \"type\": \"scattergeo\"}], \"scattergl\": [{\"marker\": {\"colorbar\": {\"outlinewidth\": 0, \"ticks\": \"\"}}, \"type\": \"scattergl\"}], \"scattermapbox\": [{\"marker\": {\"colorbar\": {\"outlinewidth\": 0, \"ticks\": \"\"}}, \"type\": \"scattermapbox\"}], \"scatterpolar\": [{\"marker\": {\"colorbar\": {\"outlinewidth\": 0, \"ticks\": \"\"}}, \"type\": \"scatterpolar\"}], \"scatterpolargl\": [{\"marker\": {\"colorbar\": {\"outlinewidth\": 0, \"ticks\": \"\"}}, \"type\": \"scatterpolargl\"}], \"scatterternary\": [{\"marker\": {\"colorbar\": {\"outlinewidth\": 0, \"ticks\": \"\"}}, \"type\": \"scatterternary\"}], \"surface\": [{\"colorbar\": {\"outlinewidth\": 0, \"ticks\": \"\"}, \"colorscale\": [[0.0, \"#0d0887\"], [0.1111111111111111, \"#46039f\"], [0.2222222222222222, \"#7201a8\"], [0.3333333333333333, \"#9c179e\"], [0.4444444444444444, \"#bd3786\"], [0.5555555555555556, \"#d8576b\"], [0.6666666666666666, \"#ed7953\"], [0.7777777777777778, \"#fb9f3a\"], [0.8888888888888888, \"#fdca26\"], [1.0, \"#f0f921\"]], \"type\": \"surface\"}], \"table\": [{\"cells\": {\"fill\": {\"color\": \"#EBF0F8\"}, \"line\": {\"color\": \"white\"}}, \"header\": {\"fill\": {\"color\": \"#C8D4E3\"}, \"line\": {\"color\": \"white\"}}, \"type\": \"table\"}]}, \"layout\": {\"annotationdefaults\": {\"arrowcolor\": \"#2a3f5f\", \"arrowhead\": 0, \"arrowwidth\": 1}, \"colorscale\": {\"diverging\": [[0, \"#8e0152\"], [0.1, \"#c51b7d\"], [0.2, \"#de77ae\"], [0.3, \"#f1b6da\"], [0.4, \"#fde0ef\"], [0.5, \"#f7f7f7\"], [0.6, \"#e6f5d0\"], [0.7, \"#b8e186\"], [0.8, \"#7fbc41\"], [0.9, \"#4d9221\"], [1, \"#276419\"]], \"sequential\": [[0.0, \"#0d0887\"], [0.1111111111111111, \"#46039f\"], [0.2222222222222222, \"#7201a8\"], [0.3333333333333333, \"#9c179e\"], [0.4444444444444444, \"#bd3786\"], [0.5555555555555556, \"#d8576b\"], [0.6666666666666666, \"#ed7953\"], [0.7777777777777778, \"#fb9f3a\"], [0.8888888888888888, \"#fdca26\"], [1.0, \"#f0f921\"]], \"sequentialminus\": [[0.0, \"#0d0887\"], [0.1111111111111111, \"#46039f\"], [0.2222222222222222, \"#7201a8\"], [0.3333333333333333, \"#9c179e\"], [0.4444444444444444, \"#bd3786\"], [0.5555555555555556, \"#d8576b\"], [0.6666666666666666, \"#ed7953\"], [0.7777777777777778, \"#fb9f3a\"], [0.8888888888888888, \"#fdca26\"], [1.0, \"#f0f921\"]]}, \"colorway\": [\"#636efa\", \"#EF553B\", \"#00cc96\", \"#ab63fa\", \"#FFA15A\", \"#19d3f3\", \"#FF6692\", \"#B6E880\", \"#FF97FF\", \"#FECB52\"], \"font\": {\"color\": \"#2a3f5f\"}, \"geo\": {\"bgcolor\": \"white\", \"lakecolor\": \"white\", \"landcolor\": \"#E5ECF6\", \"showlakes\": true, \"showland\": true, \"subunitcolor\": \"white\"}, \"hoverlabel\": {\"align\": \"left\"}, \"hovermode\": \"closest\", \"mapbox\": {\"style\": \"light\"}, \"paper_bgcolor\": \"white\", \"plot_bgcolor\": \"#E5ECF6\", \"polar\": {\"angularaxis\": {\"gridcolor\": \"white\", \"linecolor\": \"white\", \"ticks\": \"\"}, \"bgcolor\": \"#E5ECF6\", \"radialaxis\": {\"gridcolor\": \"white\", \"linecolor\": \"white\", \"ticks\": \"\"}}, \"scene\": {\"xaxis\": {\"backgroundcolor\": \"#E5ECF6\", \"gridcolor\": \"white\", \"gridwidth\": 2, \"linecolor\": \"white\", \"showbackground\": true, \"ticks\": \"\", \"zerolinecolor\": \"white\"}, \"yaxis\": {\"backgroundcolor\": \"#E5ECF6\", \"gridcolor\": \"white\", \"gridwidth\": 2, \"linecolor\": \"white\", \"showbackground\": true, \"ticks\": \"\", \"zerolinecolor\": \"white\"}, \"zaxis\": {\"backgroundcolor\": \"#E5ECF6\", \"gridcolor\": \"white\", \"gridwidth\": 2, \"linecolor\": \"white\", \"showbackground\": true, \"ticks\": \"\", \"zerolinecolor\": \"white\"}}, \"shapedefaults\": {\"line\": {\"color\": \"#2a3f5f\"}}, \"ternary\": {\"aaxis\": {\"gridcolor\": \"white\", \"linecolor\": \"white\", \"ticks\": \"\"}, \"baxis\": {\"gridcolor\": \"white\", \"linecolor\": \"white\", \"ticks\": \"\"}, \"bgcolor\": \"#E5ECF6\", \"caxis\": {\"gridcolor\": \"white\", \"linecolor\": \"white\", \"ticks\": \"\"}}, \"title\": {\"x\": 0.05}, \"xaxis\": {\"automargin\": true, \"gridcolor\": \"white\", \"linecolor\": \"white\", \"ticks\": \"\", \"zerolinecolor\": \"white\", \"zerolinewidth\": 2}, \"yaxis\": {\"automargin\": true, \"gridcolor\": \"white\", \"linecolor\": \"white\", \"ticks\": \"\", \"zerolinecolor\": \"white\", \"zerolinewidth\": 2}}}, \"title\": {\"text\": \"Term Frequencies\"}, \"xaxis\": {\"type\": \"category\"}},\n",
       "                        {\"responsive\": true}\n",
       "                    ).then(function(){\n",
       "                            \n",
       "var gd = document.getElementById('94af7c3d-378e-4179-93ed-e971d26aad1e');\n",
       "var x = new MutationObserver(function (mutations, observer) {{\n",
       "        var display = window.getComputedStyle(gd).display;\n",
       "        if (!display || display === 'none') {{\n",
       "            console.log([gd, 'removed!']);\n",
       "            Plotly.purge(gd);\n",
       "            observer.disconnect();\n",
       "        }}\n",
       "}});\n",
       "\n",
       "// Listen for the removal of the full notebook cells\n",
       "var notebookContainer = gd.closest('#notebook-container');\n",
       "if (notebookContainer) {{\n",
       "    x.observe(notebookContainer, {childList: true});\n",
       "}}\n",
       "\n",
       "// Listen for the clearing of the current output cell\n",
       "var outputEl = gd.closest('.output');\n",
       "if (outputEl) {{\n",
       "    x.observe(outputEl, {childList: true});\n",
       "}}\n",
       "\n",
       "                        })\n",
       "                };\n",
       "                });\n",
       "            </script>\n",
       "        </div>"
      ]
     },
     "metadata": {},
     "output_type": "display_data"
    }
   ],
   "source": [
    "# load interactive graph with plotly\n",
    "from plotly.offline import plot, iplot\n",
    "import plotly.graph_objs as go\n",
    "\n",
    "data = [go.Bar(\n",
    "    x=count_vect.get_feature_names()[:300],\n",
    "    y=term_frequencies[:300]\n",
    ")]\n",
    "\n",
    "layout = go.Layout(xaxis=dict(type='category'), title=\"Term Frequencies\")\n",
    "fig = go.Figure(data=data, layout=layout)\n",
    "iplot(fig)\n",
    "\n",
    "# hover over a data point or use the buttons on the menu on the upper right to interact with the graph!"
   ]
  },
  {
   "cell_type": "markdown",
   "metadata": {},
   "source": [
    "<div style='background: #7fffd4'> <h1> >>> Exercise 14 (take home): </h1>\n",
    "The chart above contains all the vocabulary, and it's computationally intensive to both compute and visualize. Can you efficiently reduce the number of terms you want to visualize as an exercise. \n",
    "</div>"
   ]
  },
  {
   "cell_type": "markdown",
   "metadata": {},
   "source": [
    "To reduce the number of terms, we will first clean the data then take a random sample of that cleaned data. After cleaning the data so it's roughly 83% of its original size, we decide on a sample size of n=150 to get 95% confidence level at 8% confidence interval (source: https://www.surveysystem.com/sscalc.htm)"
   ]
  },
  {
   "cell_type": "code",
   "execution_count": 324,
   "metadata": {},
   "outputs": [
    {
     "data": {
      "text/plain": [
       "(35788, 2)"
      ]
     },
     "execution_count": 324,
     "metadata": {},
     "output_type": "execute_result"
    }
   ],
   "source": [
    "# build dataframe of term frequencies\n",
    "termfreq = pd.DataFrame( {'term':count_vect.get_feature_names(), 'freq': term_frequencies })\n",
    "termfreq.shape"
   ]
  },
  {
   "cell_type": "code",
   "execution_count": 353,
   "metadata": {},
   "outputs": [
    {
     "name": "stderr",
     "output_type": "stream",
     "text": [
      "[nltk_data] Downloading package wordnet to\n",
      "[nltk_data]     /Users/tonigarcia/nltk_data...\n",
      "[nltk_data]   Package wordnet is already up-to-date!\n",
      "[nltk_data] Downloading package stopwords to\n",
      "[nltk_data]     /Users/tonigarcia/nltk_data...\n",
      "[nltk_data]   Package stopwords is already up-to-date!\n"
     ]
    }
   ],
   "source": [
    "# cleaning the data\n",
    "\n",
    "# remove numbers: for the purpose of this example, we will assume that numbers are not relevant for the analysis\n",
    "termfreq = termfreq.mask(termfreq[\"term\"].str.isnumeric()).dropna().reset_index(drop=True)\n",
    "\n",
    "# remove _ at the beginning and end of terms, or words that are just ___ they are not relevant to the analysis\n",
    "\n",
    "# takes one minute\n",
    "for index, word in enumerate(termfreq['term']):\n",
    "    termfreq['term'][index] = word.strip('_')\n",
    "\n",
    "termfreq = termfreq[termfreq['term'] != '']\n",
    "\n",
    "\n",
    "# lemmatize\n",
    "nltk.download('wordnet')\n",
    "\n",
    "lemmatizer=WordNetLemmatizer()\n",
    "termfreq['term'] = termfreq['term'].apply(lambda x: lemmatizer.lemmatize(x))\n",
    "\n",
    "# remove stop words\n",
    "from sklearn.feature_extraction.stop_words import ENGLISH_STOP_WORDS\n",
    "nltk.download('stopwords')\n",
    "\n",
    "stop_words = set(stopwords.words('english'))\n",
    "termfreq = termfreq[~termfreq['term'].isin(stop_words)]\n",
    "\n",
    "\n",
    "# after cleaning, aggregate common terms\n",
    "termfreq = termfreq.groupby('term').aggregate({'freq': 'sum'})\n",
    "termfreq.shape\n",
    "# we were able to reduce it from ~36K terms to ~29.5K terms"
   ]
  },
  {
   "cell_type": "code",
   "execution_count": 382,
   "metadata": {},
   "outputs": [
    {
     "data": {
      "application/vnd.plotly.v1+json": {
       "config": {
        "linkText": "Export to plot.ly",
        "plotlyServerURL": "https://plot.ly",
        "showLink": false
       },
       "data": [
        {
         "type": "bar",
         "x": [
          "fasad",
          "wvnvms",
          "mail",
          "decide",
          "ottolini",
          "chou",
          "segard",
          "rom",
          "tone",
          "underline",
          "rjb",
          "stephenh",
          "presuppostions",
          "kuhub",
          "embodied",
          "constitutes",
          "rightly",
          "alastair",
          "sure",
          "adiministering",
          "pantheistic",
          "georgec",
          "itor",
          "schmelativity",
          "cavano",
          "inhalant",
          "cres",
          "speedy",
          "deported",
          "favourable",
          "thankful",
          "bobbe",
          "polarized",
          "gpu",
          "assure",
          "rearrangement",
          "04g",
          "tiff6",
          "r0506048",
          "amongst",
          "shipment",
          "granting",
          "kinesis2",
          "ffts",
          "ramble",
          "oncvx1",
          "satisfac",
          "powered",
          "gillaspie",
          "obst",
          "skewed",
          "leukodystrophies",
          "uab",
          "engage",
          "applicability",
          "tomd",
          "labeled",
          "yuan",
          "prophtets",
          "inbetween",
          "gib",
          "chaining",
          "dz",
          "lamenting",
          "watertight",
          "elektronik",
          "incorporated",
          "csd",
          "coined",
          "pasture",
          "creativity",
          "surrey",
          "li",
          "paging",
          "situated",
          "job",
          "sagely",
          "acadia",
          "aging",
          "guarantee",
          "engagement",
          "plurality",
          "telesci",
          "vuw",
          "wanna",
          "precocious",
          "unixd2",
          "hlam",
          "holy",
          "decade",
          "migrating",
          "asbestos",
          "realiability",
          "sounder",
          "genbank",
          "friedman",
          "cristo",
          "reqirement",
          "irreversible",
          "leaving",
          "lindy",
          "atw1h",
          "cholera",
          "yelling",
          "basketball",
          "rambling",
          "responsibility",
          "mpdillon",
          "enthusiastically",
          "morph",
          "hcf",
          "smell",
          "coarsely",
          "buehler",
          "employ",
          "lexus",
          "ascribe",
          "xpecs",
          "mcdougald",
          "insuperable",
          "a1200",
          "relic",
          "discontinued",
          "socrates",
          "wright",
          "explanation",
          "cast",
          "ib",
          "gagme",
          "otheres",
          "vectra",
          "lack",
          "brunt",
          "willian",
          "bashings",
          "strategic",
          "equilibrium",
          "intravenously",
          "crunch",
          "surveillance",
          "noncancerous",
          "petrol",
          "cheerful",
          "bmw",
          "real3d",
          "bus",
          "cruelty",
          "billary",
          "vigourously",
          "km"
         ],
         "y": [
          12,
          8,
          398,
          65,
          8,
          1,
          6,
          48,
          7,
          1,
          3,
          1,
          1,
          14,
          1,
          8,
          6,
          8,
          361,
          1,
          1,
          5,
          1,
          1,
          4,
          2,
          1,
          1,
          1,
          1,
          1,
          64,
          1,
          1,
          5,
          1,
          1,
          3,
          3,
          15,
          1,
          3,
          1,
          3,
          2,
          1,
          1,
          1,
          1,
          1,
          4,
          1,
          29,
          14,
          1,
          1,
          5,
          3,
          1,
          1,
          1,
          2,
          1,
          1,
          1,
          1,
          10,
          55,
          2,
          1,
          2,
          3,
          33,
          6,
          1,
          74,
          1,
          2,
          1,
          16,
          6,
          3,
          2,
          6,
          6,
          1,
          1,
          1,
          162,
          12,
          1,
          1,
          6,
          1,
          1,
          2,
          3,
          1,
          1,
          29,
          2,
          5,
          1,
          1,
          1,
          2,
          33,
          1,
          2,
          3,
          5,
          13,
          2,
          10,
          8,
          1,
          2,
          1,
          2,
          1,
          3,
          1,
          1,
          3,
          16,
          75,
          18,
          2,
          1,
          1,
          1,
          95,
          1,
          1,
          1,
          9,
          1,
          1,
          1,
          30,
          1,
          1,
          1,
          1,
          1,
          17,
          1,
          1,
          1,
          25
         ]
        }
       ],
       "layout": {
        "template": {
         "data": {
          "bar": [
           {
            "error_x": {
             "color": "#2a3f5f"
            },
            "error_y": {
             "color": "#2a3f5f"
            },
            "marker": {
             "line": {
              "color": "#E5ECF6",
              "width": 0.5
             }
            },
            "type": "bar"
           }
          ],
          "barpolar": [
           {
            "marker": {
             "line": {
              "color": "#E5ECF6",
              "width": 0.5
             }
            },
            "type": "barpolar"
           }
          ],
          "carpet": [
           {
            "aaxis": {
             "endlinecolor": "#2a3f5f",
             "gridcolor": "white",
             "linecolor": "white",
             "minorgridcolor": "white",
             "startlinecolor": "#2a3f5f"
            },
            "baxis": {
             "endlinecolor": "#2a3f5f",
             "gridcolor": "white",
             "linecolor": "white",
             "minorgridcolor": "white",
             "startlinecolor": "#2a3f5f"
            },
            "type": "carpet"
           }
          ],
          "choropleth": [
           {
            "colorbar": {
             "outlinewidth": 0,
             "ticks": ""
            },
            "type": "choropleth"
           }
          ],
          "contour": [
           {
            "colorbar": {
             "outlinewidth": 0,
             "ticks": ""
            },
            "colorscale": [
             [
              0,
              "#0d0887"
             ],
             [
              0.1111111111111111,
              "#46039f"
             ],
             [
              0.2222222222222222,
              "#7201a8"
             ],
             [
              0.3333333333333333,
              "#9c179e"
             ],
             [
              0.4444444444444444,
              "#bd3786"
             ],
             [
              0.5555555555555556,
              "#d8576b"
             ],
             [
              0.6666666666666666,
              "#ed7953"
             ],
             [
              0.7777777777777778,
              "#fb9f3a"
             ],
             [
              0.8888888888888888,
              "#fdca26"
             ],
             [
              1,
              "#f0f921"
             ]
            ],
            "type": "contour"
           }
          ],
          "contourcarpet": [
           {
            "colorbar": {
             "outlinewidth": 0,
             "ticks": ""
            },
            "type": "contourcarpet"
           }
          ],
          "heatmap": [
           {
            "colorbar": {
             "outlinewidth": 0,
             "ticks": ""
            },
            "colorscale": [
             [
              0,
              "#0d0887"
             ],
             [
              0.1111111111111111,
              "#46039f"
             ],
             [
              0.2222222222222222,
              "#7201a8"
             ],
             [
              0.3333333333333333,
              "#9c179e"
             ],
             [
              0.4444444444444444,
              "#bd3786"
             ],
             [
              0.5555555555555556,
              "#d8576b"
             ],
             [
              0.6666666666666666,
              "#ed7953"
             ],
             [
              0.7777777777777778,
              "#fb9f3a"
             ],
             [
              0.8888888888888888,
              "#fdca26"
             ],
             [
              1,
              "#f0f921"
             ]
            ],
            "type": "heatmap"
           }
          ],
          "heatmapgl": [
           {
            "colorbar": {
             "outlinewidth": 0,
             "ticks": ""
            },
            "colorscale": [
             [
              0,
              "#0d0887"
             ],
             [
              0.1111111111111111,
              "#46039f"
             ],
             [
              0.2222222222222222,
              "#7201a8"
             ],
             [
              0.3333333333333333,
              "#9c179e"
             ],
             [
              0.4444444444444444,
              "#bd3786"
             ],
             [
              0.5555555555555556,
              "#d8576b"
             ],
             [
              0.6666666666666666,
              "#ed7953"
             ],
             [
              0.7777777777777778,
              "#fb9f3a"
             ],
             [
              0.8888888888888888,
              "#fdca26"
             ],
             [
              1,
              "#f0f921"
             ]
            ],
            "type": "heatmapgl"
           }
          ],
          "histogram": [
           {
            "marker": {
             "colorbar": {
              "outlinewidth": 0,
              "ticks": ""
             }
            },
            "type": "histogram"
           }
          ],
          "histogram2d": [
           {
            "colorbar": {
             "outlinewidth": 0,
             "ticks": ""
            },
            "colorscale": [
             [
              0,
              "#0d0887"
             ],
             [
              0.1111111111111111,
              "#46039f"
             ],
             [
              0.2222222222222222,
              "#7201a8"
             ],
             [
              0.3333333333333333,
              "#9c179e"
             ],
             [
              0.4444444444444444,
              "#bd3786"
             ],
             [
              0.5555555555555556,
              "#d8576b"
             ],
             [
              0.6666666666666666,
              "#ed7953"
             ],
             [
              0.7777777777777778,
              "#fb9f3a"
             ],
             [
              0.8888888888888888,
              "#fdca26"
             ],
             [
              1,
              "#f0f921"
             ]
            ],
            "type": "histogram2d"
           }
          ],
          "histogram2dcontour": [
           {
            "colorbar": {
             "outlinewidth": 0,
             "ticks": ""
            },
            "colorscale": [
             [
              0,
              "#0d0887"
             ],
             [
              0.1111111111111111,
              "#46039f"
             ],
             [
              0.2222222222222222,
              "#7201a8"
             ],
             [
              0.3333333333333333,
              "#9c179e"
             ],
             [
              0.4444444444444444,
              "#bd3786"
             ],
             [
              0.5555555555555556,
              "#d8576b"
             ],
             [
              0.6666666666666666,
              "#ed7953"
             ],
             [
              0.7777777777777778,
              "#fb9f3a"
             ],
             [
              0.8888888888888888,
              "#fdca26"
             ],
             [
              1,
              "#f0f921"
             ]
            ],
            "type": "histogram2dcontour"
           }
          ],
          "mesh3d": [
           {
            "colorbar": {
             "outlinewidth": 0,
             "ticks": ""
            },
            "type": "mesh3d"
           }
          ],
          "parcoords": [
           {
            "line": {
             "colorbar": {
              "outlinewidth": 0,
              "ticks": ""
             }
            },
            "type": "parcoords"
           }
          ],
          "scatter": [
           {
            "marker": {
             "colorbar": {
              "outlinewidth": 0,
              "ticks": ""
             }
            },
            "type": "scatter"
           }
          ],
          "scatter3d": [
           {
            "line": {
             "colorbar": {
              "outlinewidth": 0,
              "ticks": ""
             }
            },
            "marker": {
             "colorbar": {
              "outlinewidth": 0,
              "ticks": ""
             }
            },
            "type": "scatter3d"
           }
          ],
          "scattercarpet": [
           {
            "marker": {
             "colorbar": {
              "outlinewidth": 0,
              "ticks": ""
             }
            },
            "type": "scattercarpet"
           }
          ],
          "scattergeo": [
           {
            "marker": {
             "colorbar": {
              "outlinewidth": 0,
              "ticks": ""
             }
            },
            "type": "scattergeo"
           }
          ],
          "scattergl": [
           {
            "marker": {
             "colorbar": {
              "outlinewidth": 0,
              "ticks": ""
             }
            },
            "type": "scattergl"
           }
          ],
          "scattermapbox": [
           {
            "marker": {
             "colorbar": {
              "outlinewidth": 0,
              "ticks": ""
             }
            },
            "type": "scattermapbox"
           }
          ],
          "scatterpolar": [
           {
            "marker": {
             "colorbar": {
              "outlinewidth": 0,
              "ticks": ""
             }
            },
            "type": "scatterpolar"
           }
          ],
          "scatterpolargl": [
           {
            "marker": {
             "colorbar": {
              "outlinewidth": 0,
              "ticks": ""
             }
            },
            "type": "scatterpolargl"
           }
          ],
          "scatterternary": [
           {
            "marker": {
             "colorbar": {
              "outlinewidth": 0,
              "ticks": ""
             }
            },
            "type": "scatterternary"
           }
          ],
          "surface": [
           {
            "colorbar": {
             "outlinewidth": 0,
             "ticks": ""
            },
            "colorscale": [
             [
              0,
              "#0d0887"
             ],
             [
              0.1111111111111111,
              "#46039f"
             ],
             [
              0.2222222222222222,
              "#7201a8"
             ],
             [
              0.3333333333333333,
              "#9c179e"
             ],
             [
              0.4444444444444444,
              "#bd3786"
             ],
             [
              0.5555555555555556,
              "#d8576b"
             ],
             [
              0.6666666666666666,
              "#ed7953"
             ],
             [
              0.7777777777777778,
              "#fb9f3a"
             ],
             [
              0.8888888888888888,
              "#fdca26"
             ],
             [
              1,
              "#f0f921"
             ]
            ],
            "type": "surface"
           }
          ],
          "table": [
           {
            "cells": {
             "fill": {
              "color": "#EBF0F8"
             },
             "line": {
              "color": "white"
             }
            },
            "header": {
             "fill": {
              "color": "#C8D4E3"
             },
             "line": {
              "color": "white"
             }
            },
            "type": "table"
           }
          ]
         },
         "layout": {
          "annotationdefaults": {
           "arrowcolor": "#2a3f5f",
           "arrowhead": 0,
           "arrowwidth": 1
          },
          "colorscale": {
           "diverging": [
            [
             0,
             "#8e0152"
            ],
            [
             0.1,
             "#c51b7d"
            ],
            [
             0.2,
             "#de77ae"
            ],
            [
             0.3,
             "#f1b6da"
            ],
            [
             0.4,
             "#fde0ef"
            ],
            [
             0.5,
             "#f7f7f7"
            ],
            [
             0.6,
             "#e6f5d0"
            ],
            [
             0.7,
             "#b8e186"
            ],
            [
             0.8,
             "#7fbc41"
            ],
            [
             0.9,
             "#4d9221"
            ],
            [
             1,
             "#276419"
            ]
           ],
           "sequential": [
            [
             0,
             "#0d0887"
            ],
            [
             0.1111111111111111,
             "#46039f"
            ],
            [
             0.2222222222222222,
             "#7201a8"
            ],
            [
             0.3333333333333333,
             "#9c179e"
            ],
            [
             0.4444444444444444,
             "#bd3786"
            ],
            [
             0.5555555555555556,
             "#d8576b"
            ],
            [
             0.6666666666666666,
             "#ed7953"
            ],
            [
             0.7777777777777778,
             "#fb9f3a"
            ],
            [
             0.8888888888888888,
             "#fdca26"
            ],
            [
             1,
             "#f0f921"
            ]
           ],
           "sequentialminus": [
            [
             0,
             "#0d0887"
            ],
            [
             0.1111111111111111,
             "#46039f"
            ],
            [
             0.2222222222222222,
             "#7201a8"
            ],
            [
             0.3333333333333333,
             "#9c179e"
            ],
            [
             0.4444444444444444,
             "#bd3786"
            ],
            [
             0.5555555555555556,
             "#d8576b"
            ],
            [
             0.6666666666666666,
             "#ed7953"
            ],
            [
             0.7777777777777778,
             "#fb9f3a"
            ],
            [
             0.8888888888888888,
             "#fdca26"
            ],
            [
             1,
             "#f0f921"
            ]
           ]
          },
          "colorway": [
           "#636efa",
           "#EF553B",
           "#00cc96",
           "#ab63fa",
           "#FFA15A",
           "#19d3f3",
           "#FF6692",
           "#B6E880",
           "#FF97FF",
           "#FECB52"
          ],
          "font": {
           "color": "#2a3f5f"
          },
          "geo": {
           "bgcolor": "white",
           "lakecolor": "white",
           "landcolor": "#E5ECF6",
           "showlakes": true,
           "showland": true,
           "subunitcolor": "white"
          },
          "hoverlabel": {
           "align": "left"
          },
          "hovermode": "closest",
          "mapbox": {
           "style": "light"
          },
          "paper_bgcolor": "white",
          "plot_bgcolor": "#E5ECF6",
          "polar": {
           "angularaxis": {
            "gridcolor": "white",
            "linecolor": "white",
            "ticks": ""
           },
           "bgcolor": "#E5ECF6",
           "radialaxis": {
            "gridcolor": "white",
            "linecolor": "white",
            "ticks": ""
           }
          },
          "scene": {
           "xaxis": {
            "backgroundcolor": "#E5ECF6",
            "gridcolor": "white",
            "gridwidth": 2,
            "linecolor": "white",
            "showbackground": true,
            "ticks": "",
            "zerolinecolor": "white"
           },
           "yaxis": {
            "backgroundcolor": "#E5ECF6",
            "gridcolor": "white",
            "gridwidth": 2,
            "linecolor": "white",
            "showbackground": true,
            "ticks": "",
            "zerolinecolor": "white"
           },
           "zaxis": {
            "backgroundcolor": "#E5ECF6",
            "gridcolor": "white",
            "gridwidth": 2,
            "linecolor": "white",
            "showbackground": true,
            "ticks": "",
            "zerolinecolor": "white"
           }
          },
          "shapedefaults": {
           "line": {
            "color": "#2a3f5f"
           }
          },
          "ternary": {
           "aaxis": {
            "gridcolor": "white",
            "linecolor": "white",
            "ticks": ""
           },
           "baxis": {
            "gridcolor": "white",
            "linecolor": "white",
            "ticks": ""
           },
           "bgcolor": "#E5ECF6",
           "caxis": {
            "gridcolor": "white",
            "linecolor": "white",
            "ticks": ""
           }
          },
          "title": {
           "x": 0.05
          },
          "xaxis": {
           "automargin": true,
           "gridcolor": "white",
           "linecolor": "white",
           "ticks": "",
           "zerolinecolor": "white",
           "zerolinewidth": 2
          },
          "yaxis": {
           "automargin": true,
           "gridcolor": "white",
           "linecolor": "white",
           "ticks": "",
           "zerolinecolor": "white",
           "zerolinewidth": 2
          }
         }
        },
        "title": {
         "text": "Term Frequencies"
        },
        "xaxis": {
         "type": "category"
        }
       }
      },
      "text/html": [
       "<div>\n",
       "        \n",
       "        \n",
       "            <div id=\"15faf8f4-0bd1-49e0-80d7-7638d4f2bce1\" class=\"plotly-graph-div\" style=\"height:525px; width:100%;\"></div>\n",
       "            <script type=\"text/javascript\">\n",
       "                require([\"plotly\"], function(Plotly) {\n",
       "                    window.PLOTLYENV=window.PLOTLYENV || {};\n",
       "                    \n",
       "                if (document.getElementById(\"15faf8f4-0bd1-49e0-80d7-7638d4f2bce1\")) {\n",
       "                    Plotly.newPlot(\n",
       "                        '15faf8f4-0bd1-49e0-80d7-7638d4f2bce1',\n",
       "                        [{\"type\": \"bar\", \"x\": [\"fasad\", \"wvnvms\", \"mail\", \"decide\", \"ottolini\", \"chou\", \"segard\", \"rom\", \"tone\", \"underline\", \"rjb\", \"stephenh\", \"presuppostions\", \"kuhub\", \"embodied\", \"constitutes\", \"rightly\", \"alastair\", \"sure\", \"adiministering\", \"pantheistic\", \"georgec\", \"itor\", \"schmelativity\", \"cavano\", \"inhalant\", \"cres\", \"speedy\", \"deported\", \"favourable\", \"thankful\", \"bobbe\", \"polarized\", \"gpu\", \"assure\", \"rearrangement\", \"04g\", \"tiff6\", \"r0506048\", \"amongst\", \"shipment\", \"granting\", \"kinesis2\", \"ffts\", \"ramble\", \"oncvx1\", \"satisfac\", \"powered\", \"gillaspie\", \"obst\", \"skewed\", \"leukodystrophies\", \"uab\", \"engage\", \"applicability\", \"tomd\", \"labeled\", \"yuan\", \"prophtets\", \"inbetween\", \"gib\", \"chaining\", \"dz\", \"lamenting\", \"watertight\", \"elektronik\", \"incorporated\", \"csd\", \"coined\", \"pasture\", \"creativity\", \"surrey\", \"li\", \"paging\", \"situated\", \"job\", \"sagely\", \"acadia\", \"aging\", \"guarantee\", \"engagement\", \"plurality\", \"telesci\", \"vuw\", \"wanna\", \"precocious\", \"unixd2\", \"hlam\", \"holy\", \"decade\", \"migrating\", \"asbestos\", \"realiability\", \"sounder\", \"genbank\", \"friedman\", \"cristo\", \"reqirement\", \"irreversible\", \"leaving\", \"lindy\", \"atw1h\", \"cholera\", \"yelling\", \"basketball\", \"rambling\", \"responsibility\", \"mpdillon\", \"enthusiastically\", \"morph\", \"hcf\", \"smell\", \"coarsely\", \"buehler\", \"employ\", \"lexus\", \"ascribe\", \"xpecs\", \"mcdougald\", \"insuperable\", \"a1200\", \"relic\", \"discontinued\", \"socrates\", \"wright\", \"explanation\", \"cast\", \"ib\", \"gagme\", \"otheres\", \"vectra\", \"lack\", \"brunt\", \"willian\", \"bashings\", \"strategic\", \"equilibrium\", \"intravenously\", \"crunch\", \"surveillance\", \"noncancerous\", \"petrol\", \"cheerful\", \"bmw\", \"real3d\", \"bus\", \"cruelty\", \"billary\", \"vigourously\", \"km\"], \"y\": [12.0, 8.0, 398.0, 65.0, 8.0, 1.0, 6.0, 48.0, 7.0, 1.0, 3.0, 1.0, 1.0, 14.0, 1.0, 8.0, 6.0, 8.0, 361.0, 1.0, 1.0, 5.0, 1.0, 1.0, 4.0, 2.0, 1.0, 1.0, 1.0, 1.0, 1.0, 64.0, 1.0, 1.0, 5.0, 1.0, 1.0, 3.0, 3.0, 15.0, 1.0, 3.0, 1.0, 3.0, 2.0, 1.0, 1.0, 1.0, 1.0, 1.0, 4.0, 1.0, 29.0, 14.0, 1.0, 1.0, 5.0, 3.0, 1.0, 1.0, 1.0, 2.0, 1.0, 1.0, 1.0, 1.0, 10.0, 55.0, 2.0, 1.0, 2.0, 3.0, 33.0, 6.0, 1.0, 74.0, 1.0, 2.0, 1.0, 16.0, 6.0, 3.0, 2.0, 6.0, 6.0, 1.0, 1.0, 1.0, 162.0, 12.0, 1.0, 1.0, 6.0, 1.0, 1.0, 2.0, 3.0, 1.0, 1.0, 29.0, 2.0, 5.0, 1.0, 1.0, 1.0, 2.0, 33.0, 1.0, 2.0, 3.0, 5.0, 13.0, 2.0, 10.0, 8.0, 1.0, 2.0, 1.0, 2.0, 1.0, 3.0, 1.0, 1.0, 3.0, 16.0, 75.0, 18.0, 2.0, 1.0, 1.0, 1.0, 95.0, 1.0, 1.0, 1.0, 9.0, 1.0, 1.0, 1.0, 30.0, 1.0, 1.0, 1.0, 1.0, 1.0, 17.0, 1.0, 1.0, 1.0, 25.0]}],\n",
       "                        {\"template\": {\"data\": {\"bar\": [{\"error_x\": {\"color\": \"#2a3f5f\"}, \"error_y\": {\"color\": \"#2a3f5f\"}, \"marker\": {\"line\": {\"color\": \"#E5ECF6\", \"width\": 0.5}}, \"type\": \"bar\"}], \"barpolar\": [{\"marker\": {\"line\": {\"color\": \"#E5ECF6\", \"width\": 0.5}}, \"type\": \"barpolar\"}], \"carpet\": [{\"aaxis\": {\"endlinecolor\": \"#2a3f5f\", \"gridcolor\": \"white\", \"linecolor\": \"white\", \"minorgridcolor\": \"white\", \"startlinecolor\": \"#2a3f5f\"}, \"baxis\": {\"endlinecolor\": \"#2a3f5f\", \"gridcolor\": \"white\", \"linecolor\": \"white\", \"minorgridcolor\": \"white\", \"startlinecolor\": \"#2a3f5f\"}, \"type\": \"carpet\"}], \"choropleth\": [{\"colorbar\": {\"outlinewidth\": 0, \"ticks\": \"\"}, \"type\": \"choropleth\"}], \"contour\": [{\"colorbar\": {\"outlinewidth\": 0, \"ticks\": \"\"}, \"colorscale\": [[0.0, \"#0d0887\"], [0.1111111111111111, \"#46039f\"], [0.2222222222222222, \"#7201a8\"], [0.3333333333333333, \"#9c179e\"], [0.4444444444444444, \"#bd3786\"], [0.5555555555555556, \"#d8576b\"], [0.6666666666666666, \"#ed7953\"], [0.7777777777777778, \"#fb9f3a\"], [0.8888888888888888, \"#fdca26\"], [1.0, \"#f0f921\"]], \"type\": \"contour\"}], \"contourcarpet\": [{\"colorbar\": {\"outlinewidth\": 0, \"ticks\": \"\"}, \"type\": \"contourcarpet\"}], \"heatmap\": [{\"colorbar\": {\"outlinewidth\": 0, \"ticks\": \"\"}, \"colorscale\": [[0.0, \"#0d0887\"], [0.1111111111111111, \"#46039f\"], [0.2222222222222222, \"#7201a8\"], [0.3333333333333333, \"#9c179e\"], [0.4444444444444444, \"#bd3786\"], [0.5555555555555556, \"#d8576b\"], [0.6666666666666666, \"#ed7953\"], [0.7777777777777778, \"#fb9f3a\"], [0.8888888888888888, \"#fdca26\"], [1.0, \"#f0f921\"]], \"type\": \"heatmap\"}], \"heatmapgl\": [{\"colorbar\": {\"outlinewidth\": 0, \"ticks\": \"\"}, \"colorscale\": [[0.0, \"#0d0887\"], [0.1111111111111111, \"#46039f\"], [0.2222222222222222, \"#7201a8\"], [0.3333333333333333, \"#9c179e\"], [0.4444444444444444, \"#bd3786\"], [0.5555555555555556, \"#d8576b\"], [0.6666666666666666, \"#ed7953\"], [0.7777777777777778, \"#fb9f3a\"], [0.8888888888888888, \"#fdca26\"], [1.0, \"#f0f921\"]], \"type\": \"heatmapgl\"}], \"histogram\": [{\"marker\": {\"colorbar\": {\"outlinewidth\": 0, \"ticks\": \"\"}}, \"type\": \"histogram\"}], \"histogram2d\": [{\"colorbar\": {\"outlinewidth\": 0, \"ticks\": \"\"}, \"colorscale\": [[0.0, \"#0d0887\"], [0.1111111111111111, \"#46039f\"], [0.2222222222222222, \"#7201a8\"], [0.3333333333333333, \"#9c179e\"], [0.4444444444444444, \"#bd3786\"], [0.5555555555555556, \"#d8576b\"], [0.6666666666666666, \"#ed7953\"], [0.7777777777777778, \"#fb9f3a\"], [0.8888888888888888, \"#fdca26\"], [1.0, \"#f0f921\"]], \"type\": \"histogram2d\"}], \"histogram2dcontour\": [{\"colorbar\": {\"outlinewidth\": 0, \"ticks\": \"\"}, \"colorscale\": [[0.0, \"#0d0887\"], [0.1111111111111111, \"#46039f\"], [0.2222222222222222, \"#7201a8\"], [0.3333333333333333, \"#9c179e\"], [0.4444444444444444, \"#bd3786\"], [0.5555555555555556, \"#d8576b\"], [0.6666666666666666, \"#ed7953\"], [0.7777777777777778, \"#fb9f3a\"], [0.8888888888888888, \"#fdca26\"], [1.0, \"#f0f921\"]], \"type\": \"histogram2dcontour\"}], \"mesh3d\": [{\"colorbar\": {\"outlinewidth\": 0, \"ticks\": \"\"}, \"type\": \"mesh3d\"}], \"parcoords\": [{\"line\": {\"colorbar\": {\"outlinewidth\": 0, \"ticks\": \"\"}}, \"type\": \"parcoords\"}], \"scatter\": [{\"marker\": {\"colorbar\": {\"outlinewidth\": 0, \"ticks\": \"\"}}, \"type\": \"scatter\"}], \"scatter3d\": [{\"line\": {\"colorbar\": {\"outlinewidth\": 0, \"ticks\": \"\"}}, \"marker\": {\"colorbar\": {\"outlinewidth\": 0, \"ticks\": \"\"}}, \"type\": \"scatter3d\"}], \"scattercarpet\": [{\"marker\": {\"colorbar\": {\"outlinewidth\": 0, \"ticks\": \"\"}}, \"type\": \"scattercarpet\"}], \"scattergeo\": [{\"marker\": {\"colorbar\": {\"outlinewidth\": 0, \"ticks\": \"\"}}, \"type\": \"scattergeo\"}], \"scattergl\": [{\"marker\": {\"colorbar\": {\"outlinewidth\": 0, \"ticks\": \"\"}}, \"type\": \"scattergl\"}], \"scattermapbox\": [{\"marker\": {\"colorbar\": {\"outlinewidth\": 0, \"ticks\": \"\"}}, \"type\": \"scattermapbox\"}], \"scatterpolar\": [{\"marker\": {\"colorbar\": {\"outlinewidth\": 0, \"ticks\": \"\"}}, \"type\": \"scatterpolar\"}], \"scatterpolargl\": [{\"marker\": {\"colorbar\": {\"outlinewidth\": 0, \"ticks\": \"\"}}, \"type\": \"scatterpolargl\"}], \"scatterternary\": [{\"marker\": {\"colorbar\": {\"outlinewidth\": 0, \"ticks\": \"\"}}, \"type\": \"scatterternary\"}], \"surface\": [{\"colorbar\": {\"outlinewidth\": 0, \"ticks\": \"\"}, \"colorscale\": [[0.0, \"#0d0887\"], [0.1111111111111111, \"#46039f\"], [0.2222222222222222, \"#7201a8\"], [0.3333333333333333, \"#9c179e\"], [0.4444444444444444, \"#bd3786\"], [0.5555555555555556, \"#d8576b\"], [0.6666666666666666, \"#ed7953\"], [0.7777777777777778, \"#fb9f3a\"], [0.8888888888888888, \"#fdca26\"], [1.0, \"#f0f921\"]], \"type\": \"surface\"}], \"table\": [{\"cells\": {\"fill\": {\"color\": \"#EBF0F8\"}, \"line\": {\"color\": \"white\"}}, \"header\": {\"fill\": {\"color\": \"#C8D4E3\"}, \"line\": {\"color\": \"white\"}}, \"type\": \"table\"}]}, \"layout\": {\"annotationdefaults\": {\"arrowcolor\": \"#2a3f5f\", \"arrowhead\": 0, \"arrowwidth\": 1}, \"colorscale\": {\"diverging\": [[0, \"#8e0152\"], [0.1, \"#c51b7d\"], [0.2, \"#de77ae\"], [0.3, \"#f1b6da\"], [0.4, \"#fde0ef\"], [0.5, \"#f7f7f7\"], [0.6, \"#e6f5d0\"], [0.7, \"#b8e186\"], [0.8, \"#7fbc41\"], [0.9, \"#4d9221\"], [1, \"#276419\"]], \"sequential\": [[0.0, \"#0d0887\"], [0.1111111111111111, \"#46039f\"], [0.2222222222222222, \"#7201a8\"], [0.3333333333333333, \"#9c179e\"], [0.4444444444444444, \"#bd3786\"], [0.5555555555555556, \"#d8576b\"], [0.6666666666666666, \"#ed7953\"], [0.7777777777777778, \"#fb9f3a\"], [0.8888888888888888, \"#fdca26\"], [1.0, \"#f0f921\"]], \"sequentialminus\": [[0.0, \"#0d0887\"], [0.1111111111111111, \"#46039f\"], [0.2222222222222222, \"#7201a8\"], [0.3333333333333333, \"#9c179e\"], [0.4444444444444444, \"#bd3786\"], [0.5555555555555556, \"#d8576b\"], [0.6666666666666666, \"#ed7953\"], [0.7777777777777778, \"#fb9f3a\"], [0.8888888888888888, \"#fdca26\"], [1.0, \"#f0f921\"]]}, \"colorway\": [\"#636efa\", \"#EF553B\", \"#00cc96\", \"#ab63fa\", \"#FFA15A\", \"#19d3f3\", \"#FF6692\", \"#B6E880\", \"#FF97FF\", \"#FECB52\"], \"font\": {\"color\": \"#2a3f5f\"}, \"geo\": {\"bgcolor\": \"white\", \"lakecolor\": \"white\", \"landcolor\": \"#E5ECF6\", \"showlakes\": true, \"showland\": true, \"subunitcolor\": \"white\"}, \"hoverlabel\": {\"align\": \"left\"}, \"hovermode\": \"closest\", \"mapbox\": {\"style\": \"light\"}, \"paper_bgcolor\": \"white\", \"plot_bgcolor\": \"#E5ECF6\", \"polar\": {\"angularaxis\": {\"gridcolor\": \"white\", \"linecolor\": \"white\", \"ticks\": \"\"}, \"bgcolor\": \"#E5ECF6\", \"radialaxis\": {\"gridcolor\": \"white\", \"linecolor\": \"white\", \"ticks\": \"\"}}, \"scene\": {\"xaxis\": {\"backgroundcolor\": \"#E5ECF6\", \"gridcolor\": \"white\", \"gridwidth\": 2, \"linecolor\": \"white\", \"showbackground\": true, \"ticks\": \"\", \"zerolinecolor\": \"white\"}, \"yaxis\": {\"backgroundcolor\": \"#E5ECF6\", \"gridcolor\": \"white\", \"gridwidth\": 2, \"linecolor\": \"white\", \"showbackground\": true, \"ticks\": \"\", \"zerolinecolor\": \"white\"}, \"zaxis\": {\"backgroundcolor\": \"#E5ECF6\", \"gridcolor\": \"white\", \"gridwidth\": 2, \"linecolor\": \"white\", \"showbackground\": true, \"ticks\": \"\", \"zerolinecolor\": \"white\"}}, \"shapedefaults\": {\"line\": {\"color\": \"#2a3f5f\"}}, \"ternary\": {\"aaxis\": {\"gridcolor\": \"white\", \"linecolor\": \"white\", \"ticks\": \"\"}, \"baxis\": {\"gridcolor\": \"white\", \"linecolor\": \"white\", \"ticks\": \"\"}, \"bgcolor\": \"#E5ECF6\", \"caxis\": {\"gridcolor\": \"white\", \"linecolor\": \"white\", \"ticks\": \"\"}}, \"title\": {\"x\": 0.05}, \"xaxis\": {\"automargin\": true, \"gridcolor\": \"white\", \"linecolor\": \"white\", \"ticks\": \"\", \"zerolinecolor\": \"white\", \"zerolinewidth\": 2}, \"yaxis\": {\"automargin\": true, \"gridcolor\": \"white\", \"linecolor\": \"white\", \"ticks\": \"\", \"zerolinecolor\": \"white\", \"zerolinewidth\": 2}}}, \"title\": {\"text\": \"Term Frequencies\"}, \"xaxis\": {\"type\": \"category\"}},\n",
       "                        {\"responsive\": true}\n",
       "                    ).then(function(){\n",
       "                            \n",
       "var gd = document.getElementById('15faf8f4-0bd1-49e0-80d7-7638d4f2bce1');\n",
       "var x = new MutationObserver(function (mutations, observer) {{\n",
       "        var display = window.getComputedStyle(gd).display;\n",
       "        if (!display || display === 'none') {{\n",
       "            console.log([gd, 'removed!']);\n",
       "            Plotly.purge(gd);\n",
       "            observer.disconnect();\n",
       "        }}\n",
       "}});\n",
       "\n",
       "// Listen for the removal of the full notebook cells\n",
       "var notebookContainer = gd.closest('#notebook-container');\n",
       "if (notebookContainer) {{\n",
       "    x.observe(notebookContainer, {childList: true});\n",
       "}}\n",
       "\n",
       "// Listen for the clearing of the current output cell\n",
       "var outputEl = gd.closest('.output');\n",
       "if (outputEl) {{\n",
       "    x.observe(outputEl, {childList: true});\n",
       "}}\n",
       "\n",
       "                        })\n",
       "                };\n",
       "                });\n",
       "            </script>\n",
       "        </div>"
      ]
     },
     "metadata": {},
     "output_type": "display_data"
    }
   ],
   "source": [
    "# Graphing A Sample\n",
    "termfreqsample = termfreq.sample(n=150)\n",
    "\n",
    "tfsdata = [go.Bar(\n",
    "    x=termfreqsample.index,\n",
    "    y=termfreqsample['freq']\n",
    ")]\n",
    "\n",
    "tfslayout = go.Layout(xaxis=dict(type='category'), title=\"Term Frequencies\")\n",
    "tfsfig = go.Figure(data=tfsdata, layout=tfslayout)\n",
    "iplot(tfsfig)"
   ]
  },
  {
   "cell_type": "markdown",
   "metadata": {},
   "source": [
    "<div style='background: #7fffd4'> <h1> >>> Exercise 15 (take home): </h1>\n",
    "Additionally, you can attempt to sort the terms on the `x-axis` by frequency instead of in alphabetical order. This way the visualization is more meaninfgul and you will be able to observe the so called [long tail](https://en.wikipedia.org/wiki/Long_tail) (get familiar with this term since it will appear a lot in data mining and other statistics courses).\n",
    "</div>"
   ]
  },
  {
   "cell_type": "code",
   "execution_count": 385,
   "metadata": {},
   "outputs": [
    {
     "data": {
      "application/vnd.plotly.v1+json": {
       "config": {
        "linkText": "Export to plot.ly",
        "plotlyServerURL": "https://plot.ly",
        "showLink": false
       },
       "data": [
        {
         "type": "bar",
         "x": [
          "mail",
          "sure",
          "holy",
          "lack",
          "explanation",
          "job",
          "decide",
          "bobbe",
          "csd",
          "rom",
          "responsibility",
          "li",
          "surveillance",
          "leaving",
          "uab",
          "km",
          "cast",
          "bus",
          "guarantee",
          "wright",
          "amongst",
          "engage",
          "kuhub",
          "smell",
          "decade",
          "fasad",
          "buehler",
          "incorporated",
          "strategic",
          "employ",
          "alastair",
          "ottolini",
          "wvnvms",
          "constitutes",
          "tone",
          "segard",
          "realiability",
          "wanna",
          "engagement",
          "paging",
          "rightly",
          "vuw",
          "georgec",
          "hcf",
          "atw1h",
          "assure",
          "labeled",
          "cavano",
          "skewed",
          "tiff6",
          "socrates",
          "a1200",
          "morph",
          "cristo",
          "rjb",
          "plurality",
          "surrey",
          "granting",
          "yuan",
          "r0506048",
          "ffts",
          "friedman",
          "acadia",
          "rambling",
          "coarsely",
          "inhalant",
          "lindy",
          "ascribe",
          "mcdougald",
          "ramble",
          "ib",
          "telesci",
          "enthusiastically",
          "coined",
          "chaining",
          "creativity",
          "pantheistic",
          "adiministering",
          "relic",
          "satisfac",
          "insuperable",
          "real3d",
          "xpecs",
          "lexus",
          "cruelty",
          "oncvx1",
          "billary",
          "cres",
          "vigourously",
          "speedy",
          "powered",
          "discontinued",
          "bmw",
          "crunch",
          "schmelativity",
          "itor",
          "gagme",
          "otheres",
          "vectra",
          "chou",
          "gillaspie",
          "cheerful",
          "willian",
          "bashings",
          "petrol",
          "noncancerous",
          "equilibrium",
          "intravenously",
          "brunt",
          "prophtets",
          "mpdillon",
          "deported",
          "polarized",
          "gpu",
          "applicability",
          "aging",
          "sagely",
          "rearrangement",
          "situated",
          "04g",
          "stephenh",
          "tomd",
          "pasture",
          "presuppostions",
          "elektronik",
          "watertight",
          "lamenting",
          "dz",
          "gib",
          "embodied",
          "precocious",
          "unixd2",
          "leukodystrophies",
          "inbetween",
          "yelling",
          "cholera",
          "obst",
          "underline",
          "irreversible",
          "reqirement",
          "kinesis2",
          "hlam",
          "genbank",
          "sounder",
          "favourable",
          "asbestos",
          "migrating",
          "thankful",
          "shipment",
          "basketball"
         ],
         "y": [
          398,
          361,
          162,
          95,
          75,
          74,
          65,
          64,
          55,
          48,
          33,
          33,
          30,
          29,
          29,
          25,
          18,
          17,
          16,
          16,
          15,
          14,
          14,
          13,
          12,
          12,
          10,
          10,
          9,
          8,
          8,
          8,
          8,
          8,
          7,
          6,
          6,
          6,
          6,
          6,
          6,
          6,
          5,
          5,
          5,
          5,
          5,
          4,
          4,
          3,
          3,
          3,
          3,
          3,
          3,
          3,
          3,
          3,
          3,
          3,
          3,
          2,
          2,
          2,
          2,
          2,
          2,
          2,
          2,
          2,
          2,
          2,
          2,
          2,
          2,
          2,
          1,
          1,
          1,
          1,
          1,
          1,
          1,
          1,
          1,
          1,
          1,
          1,
          1,
          1,
          1,
          1,
          1,
          1,
          1,
          1,
          1,
          1,
          1,
          1,
          1,
          1,
          1,
          1,
          1,
          1,
          1,
          1,
          1,
          1,
          1,
          1,
          1,
          1,
          1,
          1,
          1,
          1,
          1,
          1,
          1,
          1,
          1,
          1,
          1,
          1,
          1,
          1,
          1,
          1,
          1,
          1,
          1,
          1,
          1,
          1,
          1,
          1,
          1,
          1,
          1,
          1,
          1,
          1,
          1,
          1,
          1,
          1,
          1,
          1
         ]
        }
       ],
       "layout": {
        "template": {
         "data": {
          "bar": [
           {
            "error_x": {
             "color": "#2a3f5f"
            },
            "error_y": {
             "color": "#2a3f5f"
            },
            "marker": {
             "line": {
              "color": "#E5ECF6",
              "width": 0.5
             }
            },
            "type": "bar"
           }
          ],
          "barpolar": [
           {
            "marker": {
             "line": {
              "color": "#E5ECF6",
              "width": 0.5
             }
            },
            "type": "barpolar"
           }
          ],
          "carpet": [
           {
            "aaxis": {
             "endlinecolor": "#2a3f5f",
             "gridcolor": "white",
             "linecolor": "white",
             "minorgridcolor": "white",
             "startlinecolor": "#2a3f5f"
            },
            "baxis": {
             "endlinecolor": "#2a3f5f",
             "gridcolor": "white",
             "linecolor": "white",
             "minorgridcolor": "white",
             "startlinecolor": "#2a3f5f"
            },
            "type": "carpet"
           }
          ],
          "choropleth": [
           {
            "colorbar": {
             "outlinewidth": 0,
             "ticks": ""
            },
            "type": "choropleth"
           }
          ],
          "contour": [
           {
            "colorbar": {
             "outlinewidth": 0,
             "ticks": ""
            },
            "colorscale": [
             [
              0,
              "#0d0887"
             ],
             [
              0.1111111111111111,
              "#46039f"
             ],
             [
              0.2222222222222222,
              "#7201a8"
             ],
             [
              0.3333333333333333,
              "#9c179e"
             ],
             [
              0.4444444444444444,
              "#bd3786"
             ],
             [
              0.5555555555555556,
              "#d8576b"
             ],
             [
              0.6666666666666666,
              "#ed7953"
             ],
             [
              0.7777777777777778,
              "#fb9f3a"
             ],
             [
              0.8888888888888888,
              "#fdca26"
             ],
             [
              1,
              "#f0f921"
             ]
            ],
            "type": "contour"
           }
          ],
          "contourcarpet": [
           {
            "colorbar": {
             "outlinewidth": 0,
             "ticks": ""
            },
            "type": "contourcarpet"
           }
          ],
          "heatmap": [
           {
            "colorbar": {
             "outlinewidth": 0,
             "ticks": ""
            },
            "colorscale": [
             [
              0,
              "#0d0887"
             ],
             [
              0.1111111111111111,
              "#46039f"
             ],
             [
              0.2222222222222222,
              "#7201a8"
             ],
             [
              0.3333333333333333,
              "#9c179e"
             ],
             [
              0.4444444444444444,
              "#bd3786"
             ],
             [
              0.5555555555555556,
              "#d8576b"
             ],
             [
              0.6666666666666666,
              "#ed7953"
             ],
             [
              0.7777777777777778,
              "#fb9f3a"
             ],
             [
              0.8888888888888888,
              "#fdca26"
             ],
             [
              1,
              "#f0f921"
             ]
            ],
            "type": "heatmap"
           }
          ],
          "heatmapgl": [
           {
            "colorbar": {
             "outlinewidth": 0,
             "ticks": ""
            },
            "colorscale": [
             [
              0,
              "#0d0887"
             ],
             [
              0.1111111111111111,
              "#46039f"
             ],
             [
              0.2222222222222222,
              "#7201a8"
             ],
             [
              0.3333333333333333,
              "#9c179e"
             ],
             [
              0.4444444444444444,
              "#bd3786"
             ],
             [
              0.5555555555555556,
              "#d8576b"
             ],
             [
              0.6666666666666666,
              "#ed7953"
             ],
             [
              0.7777777777777778,
              "#fb9f3a"
             ],
             [
              0.8888888888888888,
              "#fdca26"
             ],
             [
              1,
              "#f0f921"
             ]
            ],
            "type": "heatmapgl"
           }
          ],
          "histogram": [
           {
            "marker": {
             "colorbar": {
              "outlinewidth": 0,
              "ticks": ""
             }
            },
            "type": "histogram"
           }
          ],
          "histogram2d": [
           {
            "colorbar": {
             "outlinewidth": 0,
             "ticks": ""
            },
            "colorscale": [
             [
              0,
              "#0d0887"
             ],
             [
              0.1111111111111111,
              "#46039f"
             ],
             [
              0.2222222222222222,
              "#7201a8"
             ],
             [
              0.3333333333333333,
              "#9c179e"
             ],
             [
              0.4444444444444444,
              "#bd3786"
             ],
             [
              0.5555555555555556,
              "#d8576b"
             ],
             [
              0.6666666666666666,
              "#ed7953"
             ],
             [
              0.7777777777777778,
              "#fb9f3a"
             ],
             [
              0.8888888888888888,
              "#fdca26"
             ],
             [
              1,
              "#f0f921"
             ]
            ],
            "type": "histogram2d"
           }
          ],
          "histogram2dcontour": [
           {
            "colorbar": {
             "outlinewidth": 0,
             "ticks": ""
            },
            "colorscale": [
             [
              0,
              "#0d0887"
             ],
             [
              0.1111111111111111,
              "#46039f"
             ],
             [
              0.2222222222222222,
              "#7201a8"
             ],
             [
              0.3333333333333333,
              "#9c179e"
             ],
             [
              0.4444444444444444,
              "#bd3786"
             ],
             [
              0.5555555555555556,
              "#d8576b"
             ],
             [
              0.6666666666666666,
              "#ed7953"
             ],
             [
              0.7777777777777778,
              "#fb9f3a"
             ],
             [
              0.8888888888888888,
              "#fdca26"
             ],
             [
              1,
              "#f0f921"
             ]
            ],
            "type": "histogram2dcontour"
           }
          ],
          "mesh3d": [
           {
            "colorbar": {
             "outlinewidth": 0,
             "ticks": ""
            },
            "type": "mesh3d"
           }
          ],
          "parcoords": [
           {
            "line": {
             "colorbar": {
              "outlinewidth": 0,
              "ticks": ""
             }
            },
            "type": "parcoords"
           }
          ],
          "scatter": [
           {
            "marker": {
             "colorbar": {
              "outlinewidth": 0,
              "ticks": ""
             }
            },
            "type": "scatter"
           }
          ],
          "scatter3d": [
           {
            "line": {
             "colorbar": {
              "outlinewidth": 0,
              "ticks": ""
             }
            },
            "marker": {
             "colorbar": {
              "outlinewidth": 0,
              "ticks": ""
             }
            },
            "type": "scatter3d"
           }
          ],
          "scattercarpet": [
           {
            "marker": {
             "colorbar": {
              "outlinewidth": 0,
              "ticks": ""
             }
            },
            "type": "scattercarpet"
           }
          ],
          "scattergeo": [
           {
            "marker": {
             "colorbar": {
              "outlinewidth": 0,
              "ticks": ""
             }
            },
            "type": "scattergeo"
           }
          ],
          "scattergl": [
           {
            "marker": {
             "colorbar": {
              "outlinewidth": 0,
              "ticks": ""
             }
            },
            "type": "scattergl"
           }
          ],
          "scattermapbox": [
           {
            "marker": {
             "colorbar": {
              "outlinewidth": 0,
              "ticks": ""
             }
            },
            "type": "scattermapbox"
           }
          ],
          "scatterpolar": [
           {
            "marker": {
             "colorbar": {
              "outlinewidth": 0,
              "ticks": ""
             }
            },
            "type": "scatterpolar"
           }
          ],
          "scatterpolargl": [
           {
            "marker": {
             "colorbar": {
              "outlinewidth": 0,
              "ticks": ""
             }
            },
            "type": "scatterpolargl"
           }
          ],
          "scatterternary": [
           {
            "marker": {
             "colorbar": {
              "outlinewidth": 0,
              "ticks": ""
             }
            },
            "type": "scatterternary"
           }
          ],
          "surface": [
           {
            "colorbar": {
             "outlinewidth": 0,
             "ticks": ""
            },
            "colorscale": [
             [
              0,
              "#0d0887"
             ],
             [
              0.1111111111111111,
              "#46039f"
             ],
             [
              0.2222222222222222,
              "#7201a8"
             ],
             [
              0.3333333333333333,
              "#9c179e"
             ],
             [
              0.4444444444444444,
              "#bd3786"
             ],
             [
              0.5555555555555556,
              "#d8576b"
             ],
             [
              0.6666666666666666,
              "#ed7953"
             ],
             [
              0.7777777777777778,
              "#fb9f3a"
             ],
             [
              0.8888888888888888,
              "#fdca26"
             ],
             [
              1,
              "#f0f921"
             ]
            ],
            "type": "surface"
           }
          ],
          "table": [
           {
            "cells": {
             "fill": {
              "color": "#EBF0F8"
             },
             "line": {
              "color": "white"
             }
            },
            "header": {
             "fill": {
              "color": "#C8D4E3"
             },
             "line": {
              "color": "white"
             }
            },
            "type": "table"
           }
          ]
         },
         "layout": {
          "annotationdefaults": {
           "arrowcolor": "#2a3f5f",
           "arrowhead": 0,
           "arrowwidth": 1
          },
          "colorscale": {
           "diverging": [
            [
             0,
             "#8e0152"
            ],
            [
             0.1,
             "#c51b7d"
            ],
            [
             0.2,
             "#de77ae"
            ],
            [
             0.3,
             "#f1b6da"
            ],
            [
             0.4,
             "#fde0ef"
            ],
            [
             0.5,
             "#f7f7f7"
            ],
            [
             0.6,
             "#e6f5d0"
            ],
            [
             0.7,
             "#b8e186"
            ],
            [
             0.8,
             "#7fbc41"
            ],
            [
             0.9,
             "#4d9221"
            ],
            [
             1,
             "#276419"
            ]
           ],
           "sequential": [
            [
             0,
             "#0d0887"
            ],
            [
             0.1111111111111111,
             "#46039f"
            ],
            [
             0.2222222222222222,
             "#7201a8"
            ],
            [
             0.3333333333333333,
             "#9c179e"
            ],
            [
             0.4444444444444444,
             "#bd3786"
            ],
            [
             0.5555555555555556,
             "#d8576b"
            ],
            [
             0.6666666666666666,
             "#ed7953"
            ],
            [
             0.7777777777777778,
             "#fb9f3a"
            ],
            [
             0.8888888888888888,
             "#fdca26"
            ],
            [
             1,
             "#f0f921"
            ]
           ],
           "sequentialminus": [
            [
             0,
             "#0d0887"
            ],
            [
             0.1111111111111111,
             "#46039f"
            ],
            [
             0.2222222222222222,
             "#7201a8"
            ],
            [
             0.3333333333333333,
             "#9c179e"
            ],
            [
             0.4444444444444444,
             "#bd3786"
            ],
            [
             0.5555555555555556,
             "#d8576b"
            ],
            [
             0.6666666666666666,
             "#ed7953"
            ],
            [
             0.7777777777777778,
             "#fb9f3a"
            ],
            [
             0.8888888888888888,
             "#fdca26"
            ],
            [
             1,
             "#f0f921"
            ]
           ]
          },
          "colorway": [
           "#636efa",
           "#EF553B",
           "#00cc96",
           "#ab63fa",
           "#FFA15A",
           "#19d3f3",
           "#FF6692",
           "#B6E880",
           "#FF97FF",
           "#FECB52"
          ],
          "font": {
           "color": "#2a3f5f"
          },
          "geo": {
           "bgcolor": "white",
           "lakecolor": "white",
           "landcolor": "#E5ECF6",
           "showlakes": true,
           "showland": true,
           "subunitcolor": "white"
          },
          "hoverlabel": {
           "align": "left"
          },
          "hovermode": "closest",
          "mapbox": {
           "style": "light"
          },
          "paper_bgcolor": "white",
          "plot_bgcolor": "#E5ECF6",
          "polar": {
           "angularaxis": {
            "gridcolor": "white",
            "linecolor": "white",
            "ticks": ""
           },
           "bgcolor": "#E5ECF6",
           "radialaxis": {
            "gridcolor": "white",
            "linecolor": "white",
            "ticks": ""
           }
          },
          "scene": {
           "xaxis": {
            "backgroundcolor": "#E5ECF6",
            "gridcolor": "white",
            "gridwidth": 2,
            "linecolor": "white",
            "showbackground": true,
            "ticks": "",
            "zerolinecolor": "white"
           },
           "yaxis": {
            "backgroundcolor": "#E5ECF6",
            "gridcolor": "white",
            "gridwidth": 2,
            "linecolor": "white",
            "showbackground": true,
            "ticks": "",
            "zerolinecolor": "white"
           },
           "zaxis": {
            "backgroundcolor": "#E5ECF6",
            "gridcolor": "white",
            "gridwidth": 2,
            "linecolor": "white",
            "showbackground": true,
            "ticks": "",
            "zerolinecolor": "white"
           }
          },
          "shapedefaults": {
           "line": {
            "color": "#2a3f5f"
           }
          },
          "ternary": {
           "aaxis": {
            "gridcolor": "white",
            "linecolor": "white",
            "ticks": ""
           },
           "baxis": {
            "gridcolor": "white",
            "linecolor": "white",
            "ticks": ""
           },
           "bgcolor": "#E5ECF6",
           "caxis": {
            "gridcolor": "white",
            "linecolor": "white",
            "ticks": ""
           }
          },
          "title": {
           "x": 0.05
          },
          "xaxis": {
           "automargin": true,
           "gridcolor": "white",
           "linecolor": "white",
           "ticks": "",
           "zerolinecolor": "white",
           "zerolinewidth": 2
          },
          "yaxis": {
           "automargin": true,
           "gridcolor": "white",
           "linecolor": "white",
           "ticks": "",
           "zerolinecolor": "white",
           "zerolinewidth": 2
          }
         }
        },
        "title": {
         "text": "Term Frequencies"
        },
        "xaxis": {
         "type": "category"
        }
       }
      },
      "text/html": [
       "<div>\n",
       "        \n",
       "        \n",
       "            <div id=\"b35d6d7c-92d3-4800-a3a9-b5b1306e6737\" class=\"plotly-graph-div\" style=\"height:525px; width:100%;\"></div>\n",
       "            <script type=\"text/javascript\">\n",
       "                require([\"plotly\"], function(Plotly) {\n",
       "                    window.PLOTLYENV=window.PLOTLYENV || {};\n",
       "                    \n",
       "                if (document.getElementById(\"b35d6d7c-92d3-4800-a3a9-b5b1306e6737\")) {\n",
       "                    Plotly.newPlot(\n",
       "                        'b35d6d7c-92d3-4800-a3a9-b5b1306e6737',\n",
       "                        [{\"type\": \"bar\", \"x\": [\"mail\", \"sure\", \"holy\", \"lack\", \"explanation\", \"job\", \"decide\", \"bobbe\", \"csd\", \"rom\", \"responsibility\", \"li\", \"surveillance\", \"leaving\", \"uab\", \"km\", \"cast\", \"bus\", \"guarantee\", \"wright\", \"amongst\", \"engage\", \"kuhub\", \"smell\", \"decade\", \"fasad\", \"buehler\", \"incorporated\", \"strategic\", \"employ\", \"alastair\", \"ottolini\", \"wvnvms\", \"constitutes\", \"tone\", \"segard\", \"realiability\", \"wanna\", \"engagement\", \"paging\", \"rightly\", \"vuw\", \"georgec\", \"hcf\", \"atw1h\", \"assure\", \"labeled\", \"cavano\", \"skewed\", \"tiff6\", \"socrates\", \"a1200\", \"morph\", \"cristo\", \"rjb\", \"plurality\", \"surrey\", \"granting\", \"yuan\", \"r0506048\", \"ffts\", \"friedman\", \"acadia\", \"rambling\", \"coarsely\", \"inhalant\", \"lindy\", \"ascribe\", \"mcdougald\", \"ramble\", \"ib\", \"telesci\", \"enthusiastically\", \"coined\", \"chaining\", \"creativity\", \"pantheistic\", \"adiministering\", \"relic\", \"satisfac\", \"insuperable\", \"real3d\", \"xpecs\", \"lexus\", \"cruelty\", \"oncvx1\", \"billary\", \"cres\", \"vigourously\", \"speedy\", \"powered\", \"discontinued\", \"bmw\", \"crunch\", \"schmelativity\", \"itor\", \"gagme\", \"otheres\", \"vectra\", \"chou\", \"gillaspie\", \"cheerful\", \"willian\", \"bashings\", \"petrol\", \"noncancerous\", \"equilibrium\", \"intravenously\", \"brunt\", \"prophtets\", \"mpdillon\", \"deported\", \"polarized\", \"gpu\", \"applicability\", \"aging\", \"sagely\", \"rearrangement\", \"situated\", \"04g\", \"stephenh\", \"tomd\", \"pasture\", \"presuppostions\", \"elektronik\", \"watertight\", \"lamenting\", \"dz\", \"gib\", \"embodied\", \"precocious\", \"unixd2\", \"leukodystrophies\", \"inbetween\", \"yelling\", \"cholera\", \"obst\", \"underline\", \"irreversible\", \"reqirement\", \"kinesis2\", \"hlam\", \"genbank\", \"sounder\", \"favourable\", \"asbestos\", \"migrating\", \"thankful\", \"shipment\", \"basketball\"], \"y\": [398.0, 361.0, 162.0, 95.0, 75.0, 74.0, 65.0, 64.0, 55.0, 48.0, 33.0, 33.0, 30.0, 29.0, 29.0, 25.0, 18.0, 17.0, 16.0, 16.0, 15.0, 14.0, 14.0, 13.0, 12.0, 12.0, 10.0, 10.0, 9.0, 8.0, 8.0, 8.0, 8.0, 8.0, 7.0, 6.0, 6.0, 6.0, 6.0, 6.0, 6.0, 6.0, 5.0, 5.0, 5.0, 5.0, 5.0, 4.0, 4.0, 3.0, 3.0, 3.0, 3.0, 3.0, 3.0, 3.0, 3.0, 3.0, 3.0, 3.0, 3.0, 2.0, 2.0, 2.0, 2.0, 2.0, 2.0, 2.0, 2.0, 2.0, 2.0, 2.0, 2.0, 2.0, 2.0, 2.0, 1.0, 1.0, 1.0, 1.0, 1.0, 1.0, 1.0, 1.0, 1.0, 1.0, 1.0, 1.0, 1.0, 1.0, 1.0, 1.0, 1.0, 1.0, 1.0, 1.0, 1.0, 1.0, 1.0, 1.0, 1.0, 1.0, 1.0, 1.0, 1.0, 1.0, 1.0, 1.0, 1.0, 1.0, 1.0, 1.0, 1.0, 1.0, 1.0, 1.0, 1.0, 1.0, 1.0, 1.0, 1.0, 1.0, 1.0, 1.0, 1.0, 1.0, 1.0, 1.0, 1.0, 1.0, 1.0, 1.0, 1.0, 1.0, 1.0, 1.0, 1.0, 1.0, 1.0, 1.0, 1.0, 1.0, 1.0, 1.0, 1.0, 1.0, 1.0, 1.0, 1.0, 1.0]}],\n",
       "                        {\"template\": {\"data\": {\"bar\": [{\"error_x\": {\"color\": \"#2a3f5f\"}, \"error_y\": {\"color\": \"#2a3f5f\"}, \"marker\": {\"line\": {\"color\": \"#E5ECF6\", \"width\": 0.5}}, \"type\": \"bar\"}], \"barpolar\": [{\"marker\": {\"line\": {\"color\": \"#E5ECF6\", \"width\": 0.5}}, \"type\": \"barpolar\"}], \"carpet\": [{\"aaxis\": {\"endlinecolor\": \"#2a3f5f\", \"gridcolor\": \"white\", \"linecolor\": \"white\", \"minorgridcolor\": \"white\", \"startlinecolor\": \"#2a3f5f\"}, \"baxis\": {\"endlinecolor\": \"#2a3f5f\", \"gridcolor\": \"white\", \"linecolor\": \"white\", \"minorgridcolor\": \"white\", \"startlinecolor\": \"#2a3f5f\"}, \"type\": \"carpet\"}], \"choropleth\": [{\"colorbar\": {\"outlinewidth\": 0, \"ticks\": \"\"}, \"type\": \"choropleth\"}], \"contour\": [{\"colorbar\": {\"outlinewidth\": 0, \"ticks\": \"\"}, \"colorscale\": [[0.0, \"#0d0887\"], [0.1111111111111111, \"#46039f\"], [0.2222222222222222, \"#7201a8\"], [0.3333333333333333, \"#9c179e\"], [0.4444444444444444, \"#bd3786\"], [0.5555555555555556, \"#d8576b\"], [0.6666666666666666, \"#ed7953\"], [0.7777777777777778, \"#fb9f3a\"], [0.8888888888888888, \"#fdca26\"], [1.0, \"#f0f921\"]], \"type\": \"contour\"}], \"contourcarpet\": [{\"colorbar\": {\"outlinewidth\": 0, \"ticks\": \"\"}, \"type\": \"contourcarpet\"}], \"heatmap\": [{\"colorbar\": {\"outlinewidth\": 0, \"ticks\": \"\"}, \"colorscale\": [[0.0, \"#0d0887\"], [0.1111111111111111, \"#46039f\"], [0.2222222222222222, \"#7201a8\"], [0.3333333333333333, \"#9c179e\"], [0.4444444444444444, \"#bd3786\"], [0.5555555555555556, \"#d8576b\"], [0.6666666666666666, \"#ed7953\"], [0.7777777777777778, \"#fb9f3a\"], [0.8888888888888888, \"#fdca26\"], [1.0, \"#f0f921\"]], \"type\": \"heatmap\"}], \"heatmapgl\": [{\"colorbar\": {\"outlinewidth\": 0, \"ticks\": \"\"}, \"colorscale\": [[0.0, \"#0d0887\"], [0.1111111111111111, \"#46039f\"], [0.2222222222222222, \"#7201a8\"], [0.3333333333333333, \"#9c179e\"], [0.4444444444444444, \"#bd3786\"], [0.5555555555555556, \"#d8576b\"], [0.6666666666666666, \"#ed7953\"], [0.7777777777777778, \"#fb9f3a\"], [0.8888888888888888, \"#fdca26\"], [1.0, \"#f0f921\"]], \"type\": \"heatmapgl\"}], \"histogram\": [{\"marker\": {\"colorbar\": {\"outlinewidth\": 0, \"ticks\": \"\"}}, \"type\": \"histogram\"}], \"histogram2d\": [{\"colorbar\": {\"outlinewidth\": 0, \"ticks\": \"\"}, \"colorscale\": [[0.0, \"#0d0887\"], [0.1111111111111111, \"#46039f\"], [0.2222222222222222, \"#7201a8\"], [0.3333333333333333, \"#9c179e\"], [0.4444444444444444, \"#bd3786\"], [0.5555555555555556, \"#d8576b\"], [0.6666666666666666, \"#ed7953\"], [0.7777777777777778, \"#fb9f3a\"], [0.8888888888888888, \"#fdca26\"], [1.0, \"#f0f921\"]], \"type\": \"histogram2d\"}], \"histogram2dcontour\": [{\"colorbar\": {\"outlinewidth\": 0, \"ticks\": \"\"}, \"colorscale\": [[0.0, \"#0d0887\"], [0.1111111111111111, \"#46039f\"], [0.2222222222222222, \"#7201a8\"], [0.3333333333333333, \"#9c179e\"], [0.4444444444444444, \"#bd3786\"], [0.5555555555555556, \"#d8576b\"], [0.6666666666666666, \"#ed7953\"], [0.7777777777777778, \"#fb9f3a\"], [0.8888888888888888, \"#fdca26\"], [1.0, \"#f0f921\"]], \"type\": \"histogram2dcontour\"}], \"mesh3d\": [{\"colorbar\": {\"outlinewidth\": 0, \"ticks\": \"\"}, \"type\": \"mesh3d\"}], \"parcoords\": [{\"line\": {\"colorbar\": {\"outlinewidth\": 0, \"ticks\": \"\"}}, \"type\": \"parcoords\"}], \"scatter\": [{\"marker\": {\"colorbar\": {\"outlinewidth\": 0, \"ticks\": \"\"}}, \"type\": \"scatter\"}], \"scatter3d\": [{\"line\": {\"colorbar\": {\"outlinewidth\": 0, \"ticks\": \"\"}}, \"marker\": {\"colorbar\": {\"outlinewidth\": 0, \"ticks\": \"\"}}, \"type\": \"scatter3d\"}], \"scattercarpet\": [{\"marker\": {\"colorbar\": {\"outlinewidth\": 0, \"ticks\": \"\"}}, \"type\": \"scattercarpet\"}], \"scattergeo\": [{\"marker\": {\"colorbar\": {\"outlinewidth\": 0, \"ticks\": \"\"}}, \"type\": \"scattergeo\"}], \"scattergl\": [{\"marker\": {\"colorbar\": {\"outlinewidth\": 0, \"ticks\": \"\"}}, \"type\": \"scattergl\"}], \"scattermapbox\": [{\"marker\": {\"colorbar\": {\"outlinewidth\": 0, \"ticks\": \"\"}}, \"type\": \"scattermapbox\"}], \"scatterpolar\": [{\"marker\": {\"colorbar\": {\"outlinewidth\": 0, \"ticks\": \"\"}}, \"type\": \"scatterpolar\"}], \"scatterpolargl\": [{\"marker\": {\"colorbar\": {\"outlinewidth\": 0, \"ticks\": \"\"}}, \"type\": \"scatterpolargl\"}], \"scatterternary\": [{\"marker\": {\"colorbar\": {\"outlinewidth\": 0, \"ticks\": \"\"}}, \"type\": \"scatterternary\"}], \"surface\": [{\"colorbar\": {\"outlinewidth\": 0, \"ticks\": \"\"}, \"colorscale\": [[0.0, \"#0d0887\"], [0.1111111111111111, \"#46039f\"], [0.2222222222222222, \"#7201a8\"], [0.3333333333333333, \"#9c179e\"], [0.4444444444444444, \"#bd3786\"], [0.5555555555555556, \"#d8576b\"], [0.6666666666666666, \"#ed7953\"], [0.7777777777777778, \"#fb9f3a\"], [0.8888888888888888, \"#fdca26\"], [1.0, \"#f0f921\"]], \"type\": \"surface\"}], \"table\": [{\"cells\": {\"fill\": {\"color\": \"#EBF0F8\"}, \"line\": {\"color\": \"white\"}}, \"header\": {\"fill\": {\"color\": \"#C8D4E3\"}, \"line\": {\"color\": \"white\"}}, \"type\": \"table\"}]}, \"layout\": {\"annotationdefaults\": {\"arrowcolor\": \"#2a3f5f\", \"arrowhead\": 0, \"arrowwidth\": 1}, \"colorscale\": {\"diverging\": [[0, \"#8e0152\"], [0.1, \"#c51b7d\"], [0.2, \"#de77ae\"], [0.3, \"#f1b6da\"], [0.4, \"#fde0ef\"], [0.5, \"#f7f7f7\"], [0.6, \"#e6f5d0\"], [0.7, \"#b8e186\"], [0.8, \"#7fbc41\"], [0.9, \"#4d9221\"], [1, \"#276419\"]], \"sequential\": [[0.0, \"#0d0887\"], [0.1111111111111111, \"#46039f\"], [0.2222222222222222, \"#7201a8\"], [0.3333333333333333, \"#9c179e\"], [0.4444444444444444, \"#bd3786\"], [0.5555555555555556, \"#d8576b\"], [0.6666666666666666, \"#ed7953\"], [0.7777777777777778, \"#fb9f3a\"], [0.8888888888888888, \"#fdca26\"], [1.0, \"#f0f921\"]], \"sequentialminus\": [[0.0, \"#0d0887\"], [0.1111111111111111, \"#46039f\"], [0.2222222222222222, \"#7201a8\"], [0.3333333333333333, \"#9c179e\"], [0.4444444444444444, \"#bd3786\"], [0.5555555555555556, \"#d8576b\"], [0.6666666666666666, \"#ed7953\"], [0.7777777777777778, \"#fb9f3a\"], [0.8888888888888888, \"#fdca26\"], [1.0, \"#f0f921\"]]}, \"colorway\": [\"#636efa\", \"#EF553B\", \"#00cc96\", \"#ab63fa\", \"#FFA15A\", \"#19d3f3\", \"#FF6692\", \"#B6E880\", \"#FF97FF\", \"#FECB52\"], \"font\": {\"color\": \"#2a3f5f\"}, \"geo\": {\"bgcolor\": \"white\", \"lakecolor\": \"white\", \"landcolor\": \"#E5ECF6\", \"showlakes\": true, \"showland\": true, \"subunitcolor\": \"white\"}, \"hoverlabel\": {\"align\": \"left\"}, \"hovermode\": \"closest\", \"mapbox\": {\"style\": \"light\"}, \"paper_bgcolor\": \"white\", \"plot_bgcolor\": \"#E5ECF6\", \"polar\": {\"angularaxis\": {\"gridcolor\": \"white\", \"linecolor\": \"white\", \"ticks\": \"\"}, \"bgcolor\": \"#E5ECF6\", \"radialaxis\": {\"gridcolor\": \"white\", \"linecolor\": \"white\", \"ticks\": \"\"}}, \"scene\": {\"xaxis\": {\"backgroundcolor\": \"#E5ECF6\", \"gridcolor\": \"white\", \"gridwidth\": 2, \"linecolor\": \"white\", \"showbackground\": true, \"ticks\": \"\", \"zerolinecolor\": \"white\"}, \"yaxis\": {\"backgroundcolor\": \"#E5ECF6\", \"gridcolor\": \"white\", \"gridwidth\": 2, \"linecolor\": \"white\", \"showbackground\": true, \"ticks\": \"\", \"zerolinecolor\": \"white\"}, \"zaxis\": {\"backgroundcolor\": \"#E5ECF6\", \"gridcolor\": \"white\", \"gridwidth\": 2, \"linecolor\": \"white\", \"showbackground\": true, \"ticks\": \"\", \"zerolinecolor\": \"white\"}}, \"shapedefaults\": {\"line\": {\"color\": \"#2a3f5f\"}}, \"ternary\": {\"aaxis\": {\"gridcolor\": \"white\", \"linecolor\": \"white\", \"ticks\": \"\"}, \"baxis\": {\"gridcolor\": \"white\", \"linecolor\": \"white\", \"ticks\": \"\"}, \"bgcolor\": \"#E5ECF6\", \"caxis\": {\"gridcolor\": \"white\", \"linecolor\": \"white\", \"ticks\": \"\"}}, \"title\": {\"x\": 0.05}, \"xaxis\": {\"automargin\": true, \"gridcolor\": \"white\", \"linecolor\": \"white\", \"ticks\": \"\", \"zerolinecolor\": \"white\", \"zerolinewidth\": 2}, \"yaxis\": {\"automargin\": true, \"gridcolor\": \"white\", \"linecolor\": \"white\", \"ticks\": \"\", \"zerolinecolor\": \"white\", \"zerolinewidth\": 2}}}, \"title\": {\"text\": \"Term Frequencies\"}, \"xaxis\": {\"type\": \"category\"}},\n",
       "                        {\"responsive\": true}\n",
       "                    ).then(function(){\n",
       "                            \n",
       "var gd = document.getElementById('b35d6d7c-92d3-4800-a3a9-b5b1306e6737');\n",
       "var x = new MutationObserver(function (mutations, observer) {{\n",
       "        var display = window.getComputedStyle(gd).display;\n",
       "        if (!display || display === 'none') {{\n",
       "            console.log([gd, 'removed!']);\n",
       "            Plotly.purge(gd);\n",
       "            observer.disconnect();\n",
       "        }}\n",
       "}});\n",
       "\n",
       "// Listen for the removal of the full notebook cells\n",
       "var notebookContainer = gd.closest('#notebook-container');\n",
       "if (notebookContainer) {{\n",
       "    x.observe(notebookContainer, {childList: true});\n",
       "}}\n",
       "\n",
       "// Listen for the clearing of the current output cell\n",
       "var outputEl = gd.closest('.output');\n",
       "if (outputEl) {{\n",
       "    x.observe(outputEl, {childList: true});\n",
       "}}\n",
       "\n",
       "                        })\n",
       "                };\n",
       "                });\n",
       "            </script>\n",
       "        </div>"
      ]
     },
     "metadata": {},
     "output_type": "display_data"
    }
   ],
   "source": [
    "# make sorted dataframe\n",
    "tfs_sorted = termfreqsample.sort_values(by='freq', ascending=False)\n",
    "\n",
    "tfs_sorteddata = [go.Bar(\n",
    "    x=tfs_sorted.index,\n",
    "    y=tfs_sorted['freq']\n",
    ")]\n",
    "\n",
    "tfs_sortedlayout = go.Layout(xaxis=dict(type='category'), title=\"Term Frequencies\")\n",
    "tfs_sortedfig = go.Figure(data=tfs_sorteddata, layout=tfs_sortedlayout)\n",
    "iplot(tfs_sortedfig)"
   ]
  },
  {
   "cell_type": "markdown",
   "metadata": {},
   "source": [
    "<div style='background: #7fffd4'> <h1> >>> Exercise 16 (take home): </h1>\n",
    "Try to generate the binarization using the `category_name` column instead. Does it work?.\n",
    "</div>"
   ]
  },
  {
   "cell_type": "code",
   "execution_count": 391,
   "metadata": {},
   "outputs": [
    {
     "data": {
      "text/html": [
       "<div>\n",
       "<style scoped>\n",
       "    .dataframe tbody tr th:only-of-type {\n",
       "        vertical-align: middle;\n",
       "    }\n",
       "\n",
       "    .dataframe tbody tr th {\n",
       "        vertical-align: top;\n",
       "    }\n",
       "\n",
       "    .dataframe thead th {\n",
       "        text-align: right;\n",
       "    }\n",
       "</style>\n",
       "<table border=\"1\" class=\"dataframe\">\n",
       "  <thead>\n",
       "    <tr style=\"text-align: right;\">\n",
       "      <th></th>\n",
       "      <th>text</th>\n",
       "      <th>category</th>\n",
       "      <th>category_name</th>\n",
       "      <th>unigrams</th>\n",
       "      <th>general_category</th>\n",
       "      <th>bin_category_name</th>\n",
       "    </tr>\n",
       "  </thead>\n",
       "  <tbody>\n",
       "    <tr>\n",
       "      <td>0</td>\n",
       "      <td>From: sd345@city.ac.uk (Michael Collier) Subje...</td>\n",
       "      <td>1</td>\n",
       "      <td>comp.graphics</td>\n",
       "      <td>[From, :, sd345, @, city.ac.uk, (, Michael, Co...</td>\n",
       "      <td>Science</td>\n",
       "      <td>[0, 1, 0, 0]</td>\n",
       "    </tr>\n",
       "    <tr>\n",
       "      <td>1</td>\n",
       "      <td>From: ani@ms.uky.edu (Aniruddha B. Deglurkar) ...</td>\n",
       "      <td>1</td>\n",
       "      <td>comp.graphics</td>\n",
       "      <td>[From, :, ani, @, ms.uky.edu, (, Aniruddha, B....</td>\n",
       "      <td>Science</td>\n",
       "      <td>[0, 1, 0, 0]</td>\n",
       "    </tr>\n",
       "    <tr>\n",
       "      <td>2</td>\n",
       "      <td>From: djohnson@cs.ucsd.edu (Darin Johnson) Sub...</td>\n",
       "      <td>3</td>\n",
       "      <td>soc.religion.christian</td>\n",
       "      <td>[From, :, djohnson, @, cs.ucsd.edu, (, Darin, ...</td>\n",
       "      <td>Religion</td>\n",
       "      <td>[0, 0, 0, 1]</td>\n",
       "    </tr>\n",
       "    <tr>\n",
       "      <td>3</td>\n",
       "      <td>From: s0612596@let.rug.nl (M.M. Zwart) Subject...</td>\n",
       "      <td>3</td>\n",
       "      <td>soc.religion.christian</td>\n",
       "      <td>[From, :, s0612596, @, let.rug.nl, (, M.M, ., ...</td>\n",
       "      <td>Religion</td>\n",
       "      <td>[0, 0, 0, 1]</td>\n",
       "    </tr>\n",
       "    <tr>\n",
       "      <td>4</td>\n",
       "      <td>From: stanly@grok11.columbiasc.ncr.com (stanly...</td>\n",
       "      <td>3</td>\n",
       "      <td>soc.religion.christian</td>\n",
       "      <td>[From, :, stanly, @, grok11.columbiasc.ncr.com...</td>\n",
       "      <td>Religion</td>\n",
       "      <td>[0, 0, 0, 1]</td>\n",
       "    </tr>\n",
       "    <tr>\n",
       "      <td>5</td>\n",
       "      <td>From: vbv@lor.eeap.cwru.edu (Virgilio (Dean) B...</td>\n",
       "      <td>3</td>\n",
       "      <td>soc.religion.christian</td>\n",
       "      <td>[From, :, vbv, @, lor.eeap.cwru.edu, (, Virgil...</td>\n",
       "      <td>Religion</td>\n",
       "      <td>[0, 0, 0, 1]</td>\n",
       "    </tr>\n",
       "    <tr>\n",
       "      <td>6</td>\n",
       "      <td>From: jodfishe@silver.ucs.indiana.edu (joseph ...</td>\n",
       "      <td>3</td>\n",
       "      <td>soc.religion.christian</td>\n",
       "      <td>[From, :, jodfishe, @, silver.ucs.indiana.edu,...</td>\n",
       "      <td>Religion</td>\n",
       "      <td>[0, 0, 0, 1]</td>\n",
       "    </tr>\n",
       "    <tr>\n",
       "      <td>7</td>\n",
       "      <td>From: aldridge@netcom.com (Jacquelin Aldridge)...</td>\n",
       "      <td>2</td>\n",
       "      <td>sci.med</td>\n",
       "      <td>[From, :, aldridge, @, netcom.com, (, Jacqueli...</td>\n",
       "      <td>Science</td>\n",
       "      <td>[0, 0, 1, 0]</td>\n",
       "    </tr>\n",
       "    <tr>\n",
       "      <td>8</td>\n",
       "      <td>From: geb@cs.pitt.edu (Gordon Banks) Subject: ...</td>\n",
       "      <td>2</td>\n",
       "      <td>sci.med</td>\n",
       "      <td>[From, :, geb, @, cs.pitt.edu, (, Gordon, Bank...</td>\n",
       "      <td>Science</td>\n",
       "      <td>[0, 0, 1, 0]</td>\n",
       "    </tr>\n",
       "    <tr>\n",
       "      <td>9</td>\n",
       "      <td>From: libman@hsc.usc.edu (Marlena Libman) Subj...</td>\n",
       "      <td>2</td>\n",
       "      <td>sci.med</td>\n",
       "      <td>[From, :, libman, @, hsc.usc.edu, (, Marlena, ...</td>\n",
       "      <td>Science</td>\n",
       "      <td>[0, 0, 1, 0]</td>\n",
       "    </tr>\n",
       "    <tr>\n",
       "      <td>10</td>\n",
       "      <td>From: anasaz!karl@anasazi.com (Karl Dussik) Su...</td>\n",
       "      <td>3</td>\n",
       "      <td>soc.religion.christian</td>\n",
       "      <td>[From, :, anasaz, !, karl, @, anasazi.com, (, ...</td>\n",
       "      <td>Religion</td>\n",
       "      <td>[0, 0, 0, 1]</td>\n",
       "    </tr>\n",
       "    <tr>\n",
       "      <td>11</td>\n",
       "      <td>From: amjad@eng.umd.edu (Amjad A Soomro) Subje...</td>\n",
       "      <td>1</td>\n",
       "      <td>comp.graphics</td>\n",
       "      <td>[From, :, amjad, @, eng.umd.edu, (, Amjad, A, ...</td>\n",
       "      <td>Science</td>\n",
       "      <td>[0, 1, 0, 0]</td>\n",
       "    </tr>\n",
       "    <tr>\n",
       "      <td>12</td>\n",
       "      <td>From: I3150101@dbstu1.rz.tu-bs.de (Benedikt Ro...</td>\n",
       "      <td>0</td>\n",
       "      <td>alt.atheism</td>\n",
       "      <td>[From, :, I3150101, @, dbstu1.rz.tu-bs.de, (, ...</td>\n",
       "      <td>Religion</td>\n",
       "      <td>[1, 0, 0, 0]</td>\n",
       "    </tr>\n",
       "  </tbody>\n",
       "</table>\n",
       "</div>"
      ],
      "text/plain": [
       "                                                 text  category  \\\n",
       "0   From: sd345@city.ac.uk (Michael Collier) Subje...         1   \n",
       "1   From: ani@ms.uky.edu (Aniruddha B. Deglurkar) ...         1   \n",
       "2   From: djohnson@cs.ucsd.edu (Darin Johnson) Sub...         3   \n",
       "3   From: s0612596@let.rug.nl (M.M. Zwart) Subject...         3   \n",
       "4   From: stanly@grok11.columbiasc.ncr.com (stanly...         3   \n",
       "5   From: vbv@lor.eeap.cwru.edu (Virgilio (Dean) B...         3   \n",
       "6   From: jodfishe@silver.ucs.indiana.edu (joseph ...         3   \n",
       "7   From: aldridge@netcom.com (Jacquelin Aldridge)...         2   \n",
       "8   From: geb@cs.pitt.edu (Gordon Banks) Subject: ...         2   \n",
       "9   From: libman@hsc.usc.edu (Marlena Libman) Subj...         2   \n",
       "10  From: anasaz!karl@anasazi.com (Karl Dussik) Su...         3   \n",
       "11  From: amjad@eng.umd.edu (Amjad A Soomro) Subje...         1   \n",
       "12  From: I3150101@dbstu1.rz.tu-bs.de (Benedikt Ro...         0   \n",
       "\n",
       "             category_name                                           unigrams  \\\n",
       "0            comp.graphics  [From, :, sd345, @, city.ac.uk, (, Michael, Co...   \n",
       "1            comp.graphics  [From, :, ani, @, ms.uky.edu, (, Aniruddha, B....   \n",
       "2   soc.religion.christian  [From, :, djohnson, @, cs.ucsd.edu, (, Darin, ...   \n",
       "3   soc.religion.christian  [From, :, s0612596, @, let.rug.nl, (, M.M, ., ...   \n",
       "4   soc.religion.christian  [From, :, stanly, @, grok11.columbiasc.ncr.com...   \n",
       "5   soc.religion.christian  [From, :, vbv, @, lor.eeap.cwru.edu, (, Virgil...   \n",
       "6   soc.religion.christian  [From, :, jodfishe, @, silver.ucs.indiana.edu,...   \n",
       "7                  sci.med  [From, :, aldridge, @, netcom.com, (, Jacqueli...   \n",
       "8                  sci.med  [From, :, geb, @, cs.pitt.edu, (, Gordon, Bank...   \n",
       "9                  sci.med  [From, :, libman, @, hsc.usc.edu, (, Marlena, ...   \n",
       "10  soc.religion.christian  [From, :, anasaz, !, karl, @, anasazi.com, (, ...   \n",
       "11           comp.graphics  [From, :, amjad, @, eng.umd.edu, (, Amjad, A, ...   \n",
       "12             alt.atheism  [From, :, I3150101, @, dbstu1.rz.tu-bs.de, (, ...   \n",
       "\n",
       "   general_category bin_category_name  \n",
       "0           Science      [0, 1, 0, 0]  \n",
       "1           Science      [0, 1, 0, 0]  \n",
       "2          Religion      [0, 0, 0, 1]  \n",
       "3          Religion      [0, 0, 0, 1]  \n",
       "4          Religion      [0, 0, 0, 1]  \n",
       "5          Religion      [0, 0, 0, 1]  \n",
       "6          Religion      [0, 0, 0, 1]  \n",
       "7           Science      [0, 0, 1, 0]  \n",
       "8           Science      [0, 0, 1, 0]  \n",
       "9           Science      [0, 0, 1, 0]  \n",
       "10         Religion      [0, 0, 0, 1]  \n",
       "11          Science      [0, 1, 0, 0]  \n",
       "12         Religion      [1, 0, 0, 0]  "
      ]
     },
     "execution_count": 391,
     "metadata": {},
     "output_type": "execute_result"
    }
   ],
   "source": [
    "# Yes, it works too\n",
    "from sklearn import preprocessing, metrics, decomposition, pipeline, dummy\n",
    "mlb = preprocessing.LabelBinarizer()\n",
    "mlb.fit(X['category_name'])\n",
    "mlb.classes_\n",
    "X['bin_category_name'] = mlb.transform(X['category_name']).tolist()\n",
    "X[:13]"
   ]
  }
 ],
 "metadata": {
  "kernelspec": {
   "display_name": "Python 3",
   "language": "python",
   "name": "python3"
  }
 },
 "nbformat": 4,
 "nbformat_minor": 2
}
